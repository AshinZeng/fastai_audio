{
 "cells": [
  {
   "cell_type": "code",
   "execution_count": null,
   "metadata": {},
   "outputs": [],
   "source": [
    "%reload_ext autoreload\n",
    "%autoreload 2\n",
    "%matplotlib inline"
   ]
  },
  {
   "cell_type": "code",
   "execution_count": null,
   "metadata": {},
   "outputs": [],
   "source": [
    "import fastai\n",
    "fastai.__version__"
   ]
  },
  {
   "cell_type": "code",
   "execution_count": null,
   "metadata": {},
   "outputs": [],
   "source": [
    "from fastai import *\n",
    "from fastai_audio import *\n",
    "\n",
    "from fastai.vision import models"
   ]
  },
  {
   "cell_type": "code",
   "execution_count": null,
   "metadata": {},
   "outputs": [],
   "source": [
    "DATA = Path('data')\n",
    "NSYNTH = DATA/'audio'"
   ]
  },
  {
   "cell_type": "code",
   "execution_count": null,
   "metadata": {},
   "outputs": [],
   "source": [
    "n_fft = 1024\n",
    "n_hop = 256\n",
    "n_mels = 128\n",
    "sr = 16000\n",
    "top_db = 60.0\n",
    "\n",
    "bs = 128"
   ]
  },
  {
   "cell_type": "code",
   "execution_count": null,
   "metadata": {},
   "outputs": [],
   "source": [
    "mel_spec_tfm = Compose([\n",
    "    Spectrogram(n_fft=n_fft, n_hop=n_hop),\n",
    "    FrequencyToMel(n_mels=n_mels, n_fft=n_fft, sr=sr, f_min=0., f_max=None),\n",
    "    SpectrumToDb(ref='max', top_db=top_db, normalized=True)\n",
    "])\n",
    "\n",
    "def inputs_tfm(inputs):\n",
    "    x, y = inputs\n",
    "    # 1d time domain signal to 2d log melspectrogram (frequency domain)\n",
    "    x = mel_spec_tfm(x)\n",
    "    # add channel dimension\n",
    "    x.unsqueeze_(1)\n",
    "    return x, y\n",
    "\n",
    "tfms = [inputs_tfm]"
   ]
  },
  {
   "cell_type": "code",
   "execution_count": null,
   "metadata": {},
   "outputs": [],
   "source": [
    "instrument_family_pattern = r'(\\w+)_\\w+_\\d+-\\d+-\\d+.wav$'\n",
    "\n",
    "data = (AudioItemList\n",
    "            .from_folder(NSYNTH)\n",
    "            .filter_by_func(lambda fn: 'acoustic' in fn.name)\n",
    "            .split_by_folder()\n",
    "            .label_from_re(instrument_family_pattern)\n",
    "            .databunch(bs=128, tfms=tfms, equal_lengths=True))\n",
    "data"
   ]
  },
  {
   "cell_type": "code",
   "execution_count": null,
   "metadata": {},
   "outputs": [],
   "source": [
    "data.c, data.classes"
   ]
  },
  {
   "cell_type": "code",
   "execution_count": null,
   "metadata": {},
   "outputs": [],
   "source": []
  }
 ],
 "metadata": {
  "kernelspec": {
   "display_name": "Python 3",
   "language": "python",
   "name": "python3"
  },
  "language_info": {
   "codemirror_mode": {
    "name": "ipython",
    "version": 3
   },
   "file_extension": ".py",
   "mimetype": "text/x-python",
   "name": "python",
   "nbconvert_exporter": "python",
   "pygments_lexer": "ipython3",
   "version": "3.6.7"
  }
 },
 "nbformat": 4,
 "nbformat_minor": 2
}
