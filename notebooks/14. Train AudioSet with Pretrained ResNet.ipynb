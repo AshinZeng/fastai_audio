{
 "cells": [
  {
   "cell_type": "code",
   "execution_count": 1,
   "metadata": {},
   "outputs": [],
   "source": [
    "%reload_ext autoreload\n",
    "%autoreload 2\n",
    "%matplotlib inline"
   ]
  },
  {
   "cell_type": "code",
   "execution_count": 2,
   "metadata": {},
   "outputs": [
    {
     "data": {
      "text/plain": [
       "'1.0.37'"
      ]
     },
     "execution_count": 2,
     "metadata": {},
     "output_type": "execute_result"
    }
   ],
   "source": [
    "import fastai\n",
    "fastai.__version__"
   ]
  },
  {
   "cell_type": "code",
   "execution_count": 3,
   "metadata": {},
   "outputs": [],
   "source": [
    "from fastai import *\n",
    "from fastai_audio import *\n",
    "from fastai.vision import models"
   ]
  },
  {
   "cell_type": "code",
   "execution_count": 4,
   "metadata": {},
   "outputs": [],
   "source": [
    "from utils import *"
   ]
  },
  {
   "cell_type": "code",
   "execution_count": 5,
   "metadata": {},
   "outputs": [
    {
     "data": {
      "text/plain": [
       "(18725, 17492)"
      ]
     },
     "execution_count": 5,
     "metadata": {},
     "output_type": "execute_result"
    }
   ],
   "source": [
    "DATA = Path('data')\n",
    "AUDIOSET = DATA/'audioset_mono'\n",
    "TRAIN_CSV = AUDIOSET/'train_v2.csv'\n",
    "VALID_CSV = AUDIOSET/'valid_v2.csv'\n",
    "LABEL_CSV = AUDIOSET/'class_labels_indices.csv'\n",
    "\n",
    "def convert_labels(df, label_df):\n",
    "    df['positive_labels'] = df['positive_labels'].apply(\n",
    "        lambda s: label_df.loc[s.split(','), 'display_name'].tolist())\n",
    "    return df\n",
    "\n",
    "label_df = pd.read_csv(LABEL_CSV, index_col='mid', usecols=['mid', 'display_name'])\n",
    "train_df, valid_df = [convert_labels(pd.read_csv(f), label_df)\n",
    "                      for f in [TRAIN_CSV, VALID_CSV]]\n",
    "len(train_df), len(valid_df)"
   ]
  },
  {
   "cell_type": "code",
   "execution_count": 6,
   "metadata": {},
   "outputs": [],
   "source": [
    "n_fft = 512\n",
    "n_hop = 256\n",
    "n_mels = 128\n",
    "sample_rate = 22050\n",
    "top_db = 50.0\n",
    "ref = 1.0\n",
    "\n",
    "bs = 8\n",
    "\n",
    "trn_batch_tfms = get_frequency_batch_transforms(\n",
    "    n_fft=n_fft, n_hop=n_hop, n_mels=n_mels, \n",
    "    sample_rate=sample_rate, rand_hop_pct=0.15)\n",
    "\n",
    "val_batch_tfms = get_frequency_batch_transforms(\n",
    "    n_fft=n_fft, n_hop=n_hop, n_mels=n_mels, \n",
    "    sample_rate=sample_rate)\n",
    "\n",
    "tfms = get_transforms(min_len=n_fft)"
   ]
  },
  {
   "cell_type": "code",
   "execution_count": 7,
   "metadata": {},
   "outputs": [],
   "source": [
    "train_list = AudioItemList.from_df(train_df, \n",
    "                                   path=AUDIOSET, \n",
    "                                   folder='train', \n",
    "                                   suffix='.wav')\n",
    "valid_list = AudioItemList.from_df(valid_df, \n",
    "                                   path=AUDIOSET,\n",
    "                                   folder='valid', \n",
    "                                   suffix='.wav')"
   ]
  },
  {
   "cell_type": "code",
   "execution_count": 8,
   "metadata": {},
   "outputs": [
    {
     "data": {
      "text/plain": [
       "(18725, 17492)"
      ]
     },
     "execution_count": 8,
     "metadata": {},
     "output_type": "execute_result"
    }
   ],
   "source": [
    "data = (ItemLists(path=AUDIOSET,\n",
    "                  train=train_list,\n",
    "                  valid=valid_list)\n",
    "            .label_from_df()\n",
    "            .transform(tfms)\n",
    "            .databunch(bs=bs, \n",
    "                       equal_lengths=True, \n",
    "                       collate_fn=pad_collate1d))\n",
    "\n",
    "data.train_dl.add_tfm(trn_batch_tfms[0])\n",
    "data.valid_dl.add_tfm(val_batch_tfms[0])\n",
    "\n",
    "len(data.train_ds), len(data.valid_ds)"
   ]
  },
  {
   "cell_type": "code",
   "execution_count": 9,
   "metadata": {},
   "outputs": [
    {
     "data": {
      "text/plain": [
       "(torch.Size([8, 1, 128, 904]), torch.Size([8, 527]))"
      ]
     },
     "execution_count": 9,
     "metadata": {},
     "output_type": "execute_result"
    }
   ],
   "source": [
    "xs, ys = data.one_batch()\n",
    "xs.shape, ys.shape"
   ]
  },
  {
   "cell_type": "code",
   "execution_count": 10,
   "metadata": {},
   "outputs": [],
   "source": [
    "fbeta5 = partial(fbeta, thresh=0.5)\n",
    "precision5 = partial(precision, thresh=0.5)\n",
    "recall5 = partial(recall, thresh=0.5)\n",
    "\n",
    "metrics = [precision, recall, fbeta, precision5, recall5, fbeta5]"
   ]
  },
  {
   "cell_type": "markdown",
   "metadata": {},
   "source": [
    "### ResNet34"
   ]
  },
  {
   "cell_type": "code",
   "execution_count": 28,
   "metadata": {},
   "outputs": [
    {
     "data": {
      "text/html": [
       "Total time: 25:45 <p><table style='width:675px; margin-bottom:10px'>\n",
       "  <tr>\n",
       "    <th>epoch</th>\n",
       "    <th>train_loss</th>\n",
       "    <th>valid_loss</th>\n",
       "    <th>precision</th>\n",
       "    <th>recall</th>\n",
       "    <th>fbeta</th>\n",
       "    <th>precision</th>\n",
       "    <th>recall</th>\n",
       "    <th>fbeta</th>\n",
       "  </tr>\n",
       "  <tr>\n",
       "    <th>1</th>\n",
       "    <th>0.023945</th>\n",
       "    <th>0.024143</th>\n",
       "    <th>0.356058</th>\n",
       "    <th>0.160234</th>\n",
       "    <th>0.176637</th>\n",
       "    <th>0.185642</th>\n",
       "    <th>0.066679</th>\n",
       "    <th>0.075757</th>\n",
       "  </tr>\n",
       "  <tr>\n",
       "    <th>2</th>\n",
       "    <th>0.022613</th>\n",
       "    <th>0.022500</th>\n",
       "    <th>0.381277</th>\n",
       "    <th>0.172306</th>\n",
       "    <th>0.189647</th>\n",
       "    <th>0.238442</th>\n",
       "    <th>0.089159</th>\n",
       "    <th>0.100791</th>\n",
       "  </tr>\n",
       "  <tr>\n",
       "    <th>3</th>\n",
       "    <th>0.022222</th>\n",
       "    <th>0.021509</th>\n",
       "    <th>0.405943</th>\n",
       "    <th>0.184764</th>\n",
       "    <th>0.202533</th>\n",
       "    <th>0.258076</th>\n",
       "    <th>0.097470</th>\n",
       "    <th>0.110086</th>\n",
       "  </tr>\n",
       "  <tr>\n",
       "    <th>4</th>\n",
       "    <th>0.022429</th>\n",
       "    <th>0.038958</th>\n",
       "    <th>0.401550</th>\n",
       "    <th>0.176492</th>\n",
       "    <th>0.193227</th>\n",
       "    <th>0.237260</th>\n",
       "    <th>0.091329</th>\n",
       "    <th>0.101334</th>\n",
       "  </tr>\n",
       "  <tr>\n",
       "    <th>5</th>\n",
       "    <th>0.022151</th>\n",
       "    <th>0.026306</th>\n",
       "    <th>0.398604</th>\n",
       "    <th>0.189142</th>\n",
       "    <th>0.205774</th>\n",
       "    <th>0.260282</th>\n",
       "    <th>0.097492</th>\n",
       "    <th>0.109520</th>\n",
       "  </tr>\n",
       "  <tr>\n",
       "    <th>6</th>\n",
       "    <th>0.020856</th>\n",
       "    <th>0.021307</th>\n",
       "    <th>0.409028</th>\n",
       "    <th>0.185915</th>\n",
       "    <th>0.204049</th>\n",
       "    <th>0.231744</th>\n",
       "    <th>0.087350</th>\n",
       "    <th>0.098551</th>\n",
       "  </tr>\n",
       "  <tr>\n",
       "    <th>7</th>\n",
       "    <th>0.020339</th>\n",
       "    <th>0.020943</th>\n",
       "    <th>0.409018</th>\n",
       "    <th>0.189277</th>\n",
       "    <th>0.207037</th>\n",
       "    <th>0.243398</th>\n",
       "    <th>0.092537</th>\n",
       "    <th>0.104546</th>\n",
       "  </tr>\n",
       "  <tr>\n",
       "    <th>8</th>\n",
       "    <th>0.021030</th>\n",
       "    <th>0.022004</th>\n",
       "    <th>0.402787</th>\n",
       "    <th>0.186193</th>\n",
       "    <th>0.203513</th>\n",
       "    <th>0.248562</th>\n",
       "    <th>0.095391</th>\n",
       "    <th>0.107336</th>\n",
       "  </tr>\n",
       "</table>\n"
      ],
      "text/plain": [
       "<IPython.core.display.HTML object>"
      ]
     },
     "metadata": {},
     "output_type": "display_data"
    }
   ],
   "source": [
    "model_name = 'audioset_resnet34_v1'\n",
    "\n",
    "learn = create_cnn(data, models.resnet34, metrics=metrics)\n",
    "\n",
    "learn.fit_one_cycle(8)\n",
    "learn.save(model_name + '-stage-1')"
   ]
  },
  {
   "cell_type": "code",
   "execution_count": 29,
   "metadata": {},
   "outputs": [
    {
     "name": "stdout",
     "output_type": "stream",
     "text": [
      "LR Finder is complete, type {learner_name}.recorder.plot() to see the graph.\n"
     ]
    },
    {
     "data": {
      "image/png": "[encoded data removed]",
      "text/plain": [
       "<Figure size 432x288 with 1 Axes>"
      ]
     },
     "metadata": {
      "needs_background": "light"
     },
     "output_type": "display_data"
    }
   ],
   "source": [
    "learn.load(model_name + '-stage-1')\n",
    "learn.unfreeze()\n",
    "learn.lr_find(start_lr=1e-9)\n",
    "learn.recorder.plot()"
   ]
  },
  {
   "cell_type": "code",
   "execution_count": 31,
   "metadata": {},
   "outputs": [
    {
     "data": {
      "text/html": [
       "Total time: 07:29 <p><table style='width:675px; margin-bottom:10px'>\n",
       "  <tr>\n",
       "    <th>epoch</th>\n",
       "    <th>train_loss</th>\n",
       "    <th>valid_loss</th>\n",
       "    <th>precision</th>\n",
       "    <th>recall</th>\n",
       "    <th>fbeta</th>\n",
       "    <th>precision</th>\n",
       "    <th>recall</th>\n",
       "    <th>fbeta</th>\n",
       "  </tr>\n",
       "  <tr>\n",
       "    <th>1</th>\n",
       "    <th>0.021058</th>\n",
       "    <th>0.022006</th>\n",
       "    <th>0.378280</th>\n",
       "    <th>0.171383</th>\n",
       "    <th>0.187977</th>\n",
       "    <th>0.243428</th>\n",
       "    <th>0.094082</th>\n",
       "    <th>0.105820</th>\n",
       "  </tr>\n",
       "  <tr>\n",
       "    <th>2</th>\n",
       "    <th>0.020021</th>\n",
       "    <th>0.021178</th>\n",
       "    <th>0.405838</th>\n",
       "    <th>0.194153</th>\n",
       "    <th>0.210337</th>\n",
       "    <th>0.255877</th>\n",
       "    <th>0.100591</th>\n",
       "    <th>0.112608</th>\n",
       "  </tr>\n",
       "</table>\n"
      ],
      "text/plain": [
       "<IPython.core.display.HTML object>"
      ]
     },
     "metadata": {},
     "output_type": "display_data"
    }
   ],
   "source": [
    "learn.load(model_name + '-stage-1')\n",
    "learn.fit_one_cycle(2, max_lr=1e-4)\n",
    "learn.save(model_name + '-stage-2')"
   ]
  },
  {
   "cell_type": "markdown",
   "metadata": {},
   "source": [
    "### ResNet50"
   ]
  },
  {
   "cell_type": "code",
   "execution_count": 11,
   "metadata": {},
   "outputs": [],
   "source": [
    "# model_name = 'audioset_resnet50_v1'\n",
    "\n",
    "# learn = create_cnn(data, models.resnet50, metrics=metrics)\n",
    "\n",
    "# learn.fit_one_cycle(8)\n",
    "# learn.save(model_name + '-stage-1')"
   ]
  },
  {
   "cell_type": "code",
   "execution_count": null,
   "metadata": {},
   "outputs": [],
   "source": []
  }
 ],
 "metadata": {
  "kernelspec": {
   "display_name": "Python 3",
   "language": "python",
   "name": "python3"
  },
  "language_info": {
   "codemirror_mode": {
    "name": "ipython",
    "version": 3
   },
   "file_extension": ".py",
   "mimetype": "text/x-python",
   "name": "python",
   "nbconvert_exporter": "python",
   "pygments_lexer": "ipython3",
   "version": "3.6.7"
  }
 },
 "nbformat": 4,
 "nbformat_minor": 2
}
