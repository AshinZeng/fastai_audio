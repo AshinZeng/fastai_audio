{
 "cells": [
  {
   "cell_type": "code",
   "execution_count": 1,
   "metadata": {},
   "outputs": [],
   "source": [
    "%reload_ext autoreload\n",
    "%autoreload 2\n",
    "%matplotlib inline"
   ]
  },
  {
   "cell_type": "code",
   "execution_count": 2,
   "metadata": {},
   "outputs": [
    {
     "data": {
      "text/plain": [
       "'1.0.37'"
      ]
     },
     "execution_count": 2,
     "metadata": {},
     "output_type": "execute_result"
    }
   ],
   "source": [
    "import fastai\n",
    "fastai.__version__"
   ]
  },
  {
   "cell_type": "code",
   "execution_count": 3,
   "metadata": {},
   "outputs": [],
   "source": [
    "from fastai import *\n",
    "from fastai_audio import *\n",
    "from fastai.vision import models"
   ]
  },
  {
   "cell_type": "code",
   "execution_count": 4,
   "metadata": {},
   "outputs": [],
   "source": [
    "from utils import *"
   ]
  },
  {
   "cell_type": "code",
   "execution_count": 5,
   "metadata": {},
   "outputs": [],
   "source": [
    "DATA = Path('data')\n",
    "AUDIO = DATA/'freesound/audio_22050_trimmed'\n",
    "CSV = DATA/'freesound/audio_44KHz/train_with_lens.csv'\n",
    "TEST_CSV = DATA/'freesound/audio_44KHz/test_with_lens.csv'"
   ]
  },
  {
   "cell_type": "code",
   "execution_count": 6,
   "metadata": {},
   "outputs": [],
   "source": [
    "df = pd.read_csv(CSV)\n",
    "if df['fname'].iloc[0].endswith('.wav'):\n",
    "    df['fname'] = df['fname'].str[:-4]\n",
    "    df.drop(['manually_verified'], axis=1, inplace=True)\n",
    "\n",
    "test_df = pd.read_csv(TEST_CSV)"
   ]
  },
  {
   "cell_type": "code",
   "execution_count": 7,
   "metadata": {},
   "outputs": [],
   "source": [
    "n_fft = 512\n",
    "n_hop = 256\n",
    "n_mels = 128\n",
    "sample_rate = 22050\n",
    "top_db = 50.0\n",
    "ref = 1.0\n",
    "\n",
    "bs = 8"
   ]
  },
  {
   "cell_type": "code",
   "execution_count": 8,
   "metadata": {},
   "outputs": [],
   "source": [
    "tfms = get_transforms(min_len=n_fft)\n",
    "batch_tfms = get_frequency_batch_transforms(n_fft=n_fft, n_hop=n_hop,\n",
    "                                            n_mels=n_mels, sample_rate=sample_rate)"
   ]
  },
  {
   "cell_type": "code",
   "execution_count": 14,
   "metadata": {},
   "outputs": [
    {
     "data": {
      "text/plain": [
       "(7579, 1894, 9400)"
      ]
     },
     "execution_count": 14,
     "metadata": {},
     "output_type": "execute_result"
    }
   ],
   "source": [
    "test_data = AudioItemList.from_df(test_df, path=AUDIO, \n",
    "                                  folder='test', suffix='.wav')\n",
    "data = (AudioItemList\n",
    "            .from_df(df, path=AUDIO, folder='train', suffix='.wav')\n",
    "            .random_split_by_pct()\n",
    "            .label_from_df()\n",
    "            .add_test(test_data)\n",
    "            .transform(tfms)\n",
    "            .databunch(bs=bs, equal_lengths=False, \n",
    "                       tfms=batch_tfms, length_col=2))\n",
    "\n",
    "len(data.train_ds), len(data.valid_ds), len(data.test_ds)"
   ]
  },
  {
   "cell_type": "code",
   "execution_count": 15,
   "metadata": {},
   "outputs": [
    {
     "data": {
      "text/plain": [
       "(torch.Size([8, 1, 128, 1717]), torch.Size([8]), tensor(0.1522), tensor(1.))"
      ]
     },
     "execution_count": 15,
     "metadata": {},
     "output_type": "execute_result"
    }
   ],
   "source": [
    "xs, ys = data.one_batch()\n",
    "xs.shape, ys.shape, xs.min(), xs.max()"
   ]
  },
  {
   "cell_type": "markdown",
   "metadata": {},
   "source": [
    "### ResNet18"
   ]
  },
  {
   "cell_type": "code",
   "execution_count": 17,
   "metadata": {},
   "outputs": [
    {
     "data": {
      "text/html": [
       "Total time: 12:34 <p><table style='width:375px; margin-bottom:10px'>\n",
       "  <tr>\n",
       "    <th>epoch</th>\n",
       "    <th>train_loss</th>\n",
       "    <th>valid_loss</th>\n",
       "    <th>accuracy</th>\n",
       "    <th>mapk</th>\n",
       "  </tr>\n",
       "  <tr>\n",
       "    <th>1</th>\n",
       "    <th>2.882709</th>\n",
       "    <th>2.630487</th>\n",
       "    <th>0.331045</th>\n",
       "    <th>0.443418</th>\n",
       "  </tr>\n",
       "  <tr>\n",
       "    <th>2</th>\n",
       "    <th>2.599620</th>\n",
       "    <th>2.335444</th>\n",
       "    <th>0.395459</th>\n",
       "    <th>0.500704</th>\n",
       "  </tr>\n",
       "  <tr>\n",
       "    <th>3</th>\n",
       "    <th>2.245805</th>\n",
       "    <th>2.049010</th>\n",
       "    <th>0.475185</th>\n",
       "    <th>0.574798</th>\n",
       "  </tr>\n",
       "  <tr>\n",
       "    <th>4</th>\n",
       "    <th>2.094090</th>\n",
       "    <th>2.070032</th>\n",
       "    <th>0.518479</th>\n",
       "    <th>0.613516</th>\n",
       "  </tr>\n",
       "  <tr>\n",
       "    <th>5</th>\n",
       "    <th>1.847470</th>\n",
       "    <th>1.713719</th>\n",
       "    <th>0.556494</th>\n",
       "    <th>0.651003</th>\n",
       "  </tr>\n",
       "  <tr>\n",
       "    <th>6</th>\n",
       "    <th>1.755008</th>\n",
       "    <th>1.641383</th>\n",
       "    <th>0.580781</th>\n",
       "    <th>0.670979</th>\n",
       "  </tr>\n",
       "  <tr>\n",
       "    <th>7</th>\n",
       "    <th>1.715915</th>\n",
       "    <th>1.661898</th>\n",
       "    <th>0.582365</th>\n",
       "    <th>0.676259</th>\n",
       "  </tr>\n",
       "  <tr>\n",
       "    <th>8</th>\n",
       "    <th>1.704324</th>\n",
       "    <th>1.678704</th>\n",
       "    <th>0.580781</th>\n",
       "    <th>0.673443</th>\n",
       "  </tr>\n",
       "</table>\n"
      ],
      "text/plain": [
       "<IPython.core.display.HTML object>"
      ]
     },
     "metadata": {},
     "output_type": "display_data"
    }
   ],
   "source": [
    "model_name = '512_256_resnet18_v1'\n",
    "\n",
    "learn = create_cnn(data, models.resnet18, metrics=[accuracy, mapk])\n",
    "\n",
    "learn.fit_one_cycle(8)\n",
    "learn.save(model_name + '-stage-1')"
   ]
  },
  {
   "cell_type": "markdown",
   "metadata": {},
   "source": [
    "### ResNet34"
   ]
  },
  {
   "cell_type": "code",
   "execution_count": 18,
   "metadata": {},
   "outputs": [
    {
     "data": {
      "text/html": [
       "Total time: 09:09 <p><table style='width:375px; margin-bottom:10px'>\n",
       "  <tr>\n",
       "    <th>epoch</th>\n",
       "    <th>train_loss</th>\n",
       "    <th>valid_loss</th>\n",
       "    <th>accuracy</th>\n",
       "    <th>mapk</th>\n",
       "  </tr>\n",
       "  <tr>\n",
       "    <th>1</th>\n",
       "    <th>2.997167</th>\n",
       "    <th>2.430241</th>\n",
       "    <th>0.359029</th>\n",
       "    <th>0.464713</th>\n",
       "  </tr>\n",
       "  <tr>\n",
       "    <th>2</th>\n",
       "    <th>2.461090</th>\n",
       "    <th>2.083838</th>\n",
       "    <th>0.449842</th>\n",
       "    <th>0.553502</th>\n",
       "  </tr>\n",
       "  <tr>\n",
       "    <th>3</th>\n",
       "    <th>2.233608</th>\n",
       "    <th>1.923996</th>\n",
       "    <th>0.499472</th>\n",
       "    <th>0.600757</th>\n",
       "  </tr>\n",
       "  <tr>\n",
       "    <th>4</th>\n",
       "    <th>2.041663</th>\n",
       "    <th>1.778538</th>\n",
       "    <th>0.565470</th>\n",
       "    <th>0.658483</th>\n",
       "  </tr>\n",
       "  <tr>\n",
       "    <th>5</th>\n",
       "    <th>1.821542</th>\n",
       "    <th>1.574854</th>\n",
       "    <th>0.604541</th>\n",
       "    <th>0.689810</th>\n",
       "  </tr>\n",
       "  <tr>\n",
       "    <th>6</th>\n",
       "    <th>1.682874</th>\n",
       "    <th>1.787907</th>\n",
       "    <th>0.579197</th>\n",
       "    <th>0.676171</th>\n",
       "  </tr>\n",
       "  <tr>\n",
       "    <th>7</th>\n",
       "    <th>1.649772</th>\n",
       "    <th>1.492633</th>\n",
       "    <th>0.631996</th>\n",
       "    <th>0.713657</th>\n",
       "  </tr>\n",
       "  <tr>\n",
       "    <th>8</th>\n",
       "    <th>1.570113</th>\n",
       "    <th>1.438673</th>\n",
       "    <th>0.636220</th>\n",
       "    <th>0.720433</th>\n",
       "  </tr>\n",
       "</table>\n"
      ],
      "text/plain": [
       "<IPython.core.display.HTML object>"
      ]
     },
     "metadata": {},
     "output_type": "display_data"
    }
   ],
   "source": [
    "model_name = '512_256_resnet34_v1'\n",
    "\n",
    "learn = create_cnn(data, models.resnet34, metrics=[accuracy, mapk])\n",
    "\n",
    "learn.fit_one_cycle(8)\n",
    "learn.save(model_name + '-stage-1')"
   ]
  },
  {
   "cell_type": "markdown",
   "metadata": {},
   "source": [
    "### Test new transforms"
   ]
  },
  {
   "cell_type": "code",
   "execution_count": 38,
   "metadata": {},
   "outputs": [],
   "source": [
    "trn_batch_tfms = get_frequency_batch_transforms(n_fft=n_fft, \n",
    "                                                n_hop=n_hop,\n",
    "                                                n_mels=n_mels, \n",
    "                                                sample_rate=sample_rate, \n",
    "                                                rand_hop_pct=0.15)\n",
    "\n",
    "val_batch_tfms = get_frequency_batch_transforms(n_fft=n_fft, \n",
    "                                                n_hop=n_hop,\n",
    "                                                n_mels=n_mels, \n",
    "                                                sample_rate=sample_rate)"
   ]
  },
  {
   "cell_type": "code",
   "execution_count": 39,
   "metadata": {},
   "outputs": [
    {
     "data": {
      "text/plain": [
       "(7579, 1894, 9400)"
      ]
     },
     "execution_count": 39,
     "metadata": {},
     "output_type": "execute_result"
    }
   ],
   "source": [
    "data = (AudioItemList\n",
    "            .from_df(df, path=AUDIO, folder='train', suffix='.wav')\n",
    "            .random_split_by_pct()\n",
    "            .label_from_df()\n",
    "            .add_test(test_data)\n",
    "            .transform(tfms)\n",
    "            .databunch(bs=bs, equal_lengths=False, length_col=2))\n",
    "\n",
    "data.train_dl.add_tfm(trn_batch_tfms[0])\n",
    "data.valid_dl.add_tfm(val_batch_tfms[0])\n",
    "data.test_dl.add_tfm(val_batch_tfms[0])\n",
    "\n",
    "len(data.train_ds), len(data.valid_ds), len(data.test_ds)"
   ]
  },
  {
   "cell_type": "code",
   "execution_count": 40,
   "metadata": {},
   "outputs": [
    {
     "data": {
      "text/plain": [
       "(torch.Size([8, 1, 128, 2011]), torch.Size([8]))"
      ]
     },
     "execution_count": 40,
     "metadata": {},
     "output_type": "execute_result"
    }
   ],
   "source": [
    "xs, ys = data.one_batch()\n",
    "xs.shape, ys.shape"
   ]
  },
  {
   "cell_type": "code",
   "execution_count": 41,
   "metadata": {},
   "outputs": [
    {
     "data": {
      "text/html": [
       "Total time: 09:09 <p><table style='width:375px; margin-bottom:10px'>\n",
       "  <tr>\n",
       "    <th>epoch</th>\n",
       "    <th>train_loss</th>\n",
       "    <th>valid_loss</th>\n",
       "    <th>accuracy</th>\n",
       "    <th>mapk</th>\n",
       "  </tr>\n",
       "  <tr>\n",
       "    <th>1</th>\n",
       "    <th>2.930126</th>\n",
       "    <th>2.637983</th>\n",
       "    <th>0.326294</th>\n",
       "    <th>0.426962</th>\n",
       "  </tr>\n",
       "  <tr>\n",
       "    <th>2</th>\n",
       "    <th>2.573511</th>\n",
       "    <th>2.206999</th>\n",
       "    <th>0.426610</th>\n",
       "    <th>0.541446</th>\n",
       "  </tr>\n",
       "  <tr>\n",
       "    <th>3</th>\n",
       "    <th>2.254979</th>\n",
       "    <th>1.922366</th>\n",
       "    <th>0.520063</th>\n",
       "    <th>0.613428</th>\n",
       "  </tr>\n",
       "  <tr>\n",
       "    <th>4</th>\n",
       "    <th>1.917935</th>\n",
       "    <th>1.778279</th>\n",
       "    <th>0.554910</th>\n",
       "    <th>0.646692</th>\n",
       "  </tr>\n",
       "  <tr>\n",
       "    <th>5</th>\n",
       "    <th>1.789057</th>\n",
       "    <th>1.644542</th>\n",
       "    <th>0.583421</th>\n",
       "    <th>0.670451</th>\n",
       "  </tr>\n",
       "  <tr>\n",
       "    <th>6</th>\n",
       "    <th>1.752057</th>\n",
       "    <th>1.656681</th>\n",
       "    <th>0.597149</th>\n",
       "    <th>0.681010</th>\n",
       "  </tr>\n",
       "  <tr>\n",
       "    <th>7</th>\n",
       "    <th>1.589658</th>\n",
       "    <th>1.465417</th>\n",
       "    <th>0.623548</th>\n",
       "    <th>0.704065</th>\n",
       "  </tr>\n",
       "  <tr>\n",
       "    <th>8</th>\n",
       "    <th>1.508132</th>\n",
       "    <th>1.477948</th>\n",
       "    <th>0.614572</th>\n",
       "    <th>0.698170</th>\n",
       "  </tr>\n",
       "</table>\n"
      ],
      "text/plain": [
       "<IPython.core.display.HTML object>"
      ]
     },
     "metadata": {},
     "output_type": "display_data"
    }
   ],
   "source": [
    "model_name = '512_256_resnet34_v2'\n",
    "\n",
    "learn = create_cnn(data, models.resnet34, metrics=[accuracy, mapk])\n",
    "\n",
    "learn.fit_one_cycle(8)\n",
    "learn.save(model_name + '-stage-1')"
   ]
  },
  {
   "cell_type": "code",
   "execution_count": 42,
   "metadata": {},
   "outputs": [
    {
     "name": "stdout",
     "output_type": "stream",
     "text": [
      "LR Finder is complete, type {learner_name}.recorder.plot() to see the graph.\n"
     ]
    },
    {
     "data": {
      "image/png": "[encoded data removed]",
      "text/plain": [
       "<Figure size 432x288 with 1 Axes>"
      ]
     },
     "metadata": {
      "needs_background": "light"
     },
     "output_type": "display_data"
    }
   ],
   "source": [
    "learn.load(model_name + '-stage-1')\n",
    "learn.unfreeze()\n",
    "learn.lr_find(start_lr=1e-9, end_lr=1e-1)\n",
    "learn.recorder.plot()"
   ]
  },
  {
   "cell_type": "code",
   "execution_count": 44,
   "metadata": {},
   "outputs": [
    {
     "data": {
      "text/html": [
       "Total time: 13:38 <p><table style='width:375px; margin-bottom:10px'>\n",
       "  <tr>\n",
       "    <th>epoch</th>\n",
       "    <th>train_loss</th>\n",
       "    <th>valid_loss</th>\n",
       "    <th>accuracy</th>\n",
       "    <th>mapk</th>\n",
       "  </tr>\n",
       "  <tr>\n",
       "    <th>1</th>\n",
       "    <th>1.405780</th>\n",
       "    <th>1.397305</th>\n",
       "    <th>0.637804</th>\n",
       "    <th>0.717177</th>\n",
       "  </tr>\n",
       "  <tr>\n",
       "    <th>2</th>\n",
       "    <th>1.418831</th>\n",
       "    <th>1.365900</th>\n",
       "    <th>0.650475</th>\n",
       "    <th>0.727033</th>\n",
       "  </tr>\n",
       "  <tr>\n",
       "    <th>3</th>\n",
       "    <th>1.262106</th>\n",
       "    <th>1.235343</th>\n",
       "    <th>0.680570</th>\n",
       "    <th>0.754664</th>\n",
       "  </tr>\n",
       "  <tr>\n",
       "    <th>4</th>\n",
       "    <th>1.108992</th>\n",
       "    <th>1.065522</th>\n",
       "    <th>0.730201</th>\n",
       "    <th>0.791007</th>\n",
       "  </tr>\n",
       "  <tr>\n",
       "    <th>5</th>\n",
       "    <th>1.003378</th>\n",
       "    <th>0.919856</th>\n",
       "    <th>0.754488</th>\n",
       "    <th>0.812390</th>\n",
       "  </tr>\n",
       "  <tr>\n",
       "    <th>6</th>\n",
       "    <th>0.751073</th>\n",
       "    <th>0.864200</th>\n",
       "    <th>0.775079</th>\n",
       "    <th>0.824886</th>\n",
       "  </tr>\n",
       "  <tr>\n",
       "    <th>7</th>\n",
       "    <th>0.666431</th>\n",
       "    <th>0.836979</th>\n",
       "    <th>0.779831</th>\n",
       "    <th>0.831486</th>\n",
       "  </tr>\n",
       "  <tr>\n",
       "    <th>8</th>\n",
       "    <th>0.592430</th>\n",
       "    <th>0.919472</th>\n",
       "    <th>0.770327</th>\n",
       "    <th>0.824534</th>\n",
       "  </tr>\n",
       "</table>\n"
      ],
      "text/plain": [
       "<IPython.core.display.HTML object>"
      ]
     },
     "metadata": {},
     "output_type": "display_data"
    }
   ],
   "source": [
    "learn.load(model_name + '-stage-1')\n",
    "learn.fit_one_cycle(8, max_lr=slice(1e-5,1e-4))\n",
    "learn.save(model_name + '-stage-2')"
   ]
  },
  {
   "cell_type": "code",
   "execution_count": null,
   "metadata": {},
   "outputs": [],
   "source": []
  }
 ],
 "metadata": {
  "kernelspec": {
   "display_name": "Python 3",
   "language": "python",
   "name": "python3"
  },
  "language_info": {
   "codemirror_mode": {
    "name": "ipython",
    "version": 3
   },
   "file_extension": ".py",
   "mimetype": "text/x-python",
   "name": "python",
   "nbconvert_exporter": "python",
   "pygments_lexer": "ipython3",
   "version": "3.6.7"
  }
 },
 "nbformat": 4,
 "nbformat_minor": 2
}
