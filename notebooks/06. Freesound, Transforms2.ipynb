{
 "cells": [
  {
   "cell_type": "code",
   "execution_count": 1,
   "metadata": {},
   "outputs": [],
   "source": [
    "%reload_ext autoreload\n",
    "%autoreload 2\n",
    "%matplotlib inline"
   ]
  },
  {
   "cell_type": "code",
   "execution_count": 2,
   "metadata": {},
   "outputs": [
    {
     "data": {
      "text/plain": [
       "'1.0.36'"
      ]
     },
     "execution_count": 2,
     "metadata": {},
     "output_type": "execute_result"
    }
   ],
   "source": [
    "import fastai\n",
    "fastai.__version__"
   ]
  },
  {
   "cell_type": "code",
   "execution_count": 3,
   "metadata": {},
   "outputs": [],
   "source": [
    "from fastai import *\n",
    "from fastai_audio import *\n",
    "from fastai.vision import models"
   ]
  },
  {
   "cell_type": "code",
   "execution_count": 4,
   "metadata": {},
   "outputs": [],
   "source": [
    "from utils import read_file"
   ]
  },
  {
   "cell_type": "code",
   "execution_count": 5,
   "metadata": {},
   "outputs": [],
   "source": [
    "DATA = Path('data')\n",
    "AUDIO = DATA/'freesound/audio_16KHz'\n",
    "# CSV = DATA/'freesound/audio_44KHz/train.csv'\n",
    "CSV = DATA/'freesound/audio_44KHz/train_with_lens.csv'\n",
    "TEST_CSV = DATA/'freesound/audio_44KHz/test_with_lens.csv'"
   ]
  },
  {
   "cell_type": "code",
   "execution_count": 6,
   "metadata": {},
   "outputs": [
    {
     "name": "stdout",
     "output_type": "stream",
     "text": [
      "(9473, 3)\n"
     ]
    },
    {
     "data": {
      "text/html": [
       "<div>\n",
       "<style scoped>\n",
       "    .dataframe tbody tr th:only-of-type {\n",
       "        vertical-align: middle;\n",
       "    }\n",
       "\n",
       "    .dataframe tbody tr th {\n",
       "        vertical-align: top;\n",
       "    }\n",
       "\n",
       "    .dataframe thead th {\n",
       "        text-align: right;\n",
       "    }\n",
       "</style>\n",
       "<table border=\"1\" class=\"dataframe\">\n",
       "  <thead>\n",
       "    <tr style=\"text-align: right;\">\n",
       "      <th></th>\n",
       "      <th>fname</th>\n",
       "      <th>label</th>\n",
       "      <th>n_samples</th>\n",
       "    </tr>\n",
       "  </thead>\n",
       "  <tbody>\n",
       "    <tr>\n",
       "      <th>0</th>\n",
       "      <td>00044347</td>\n",
       "      <td>Hi-hat</td>\n",
       "      <td>617400</td>\n",
       "    </tr>\n",
       "    <tr>\n",
       "      <th>1</th>\n",
       "      <td>001ca53d</td>\n",
       "      <td>Saxophone</td>\n",
       "      <td>455112</td>\n",
       "    </tr>\n",
       "    <tr>\n",
       "      <th>2</th>\n",
       "      <td>002d256b</td>\n",
       "      <td>Trumpet</td>\n",
       "      <td>19404</td>\n",
       "    </tr>\n",
       "  </tbody>\n",
       "</table>\n",
       "</div>"
      ],
      "text/plain": [
       "      fname      label  n_samples\n",
       "0  00044347     Hi-hat     617400\n",
       "1  001ca53d  Saxophone     455112\n",
       "2  002d256b    Trumpet      19404"
      ]
     },
     "execution_count": 6,
     "metadata": {},
     "output_type": "execute_result"
    }
   ],
   "source": [
    "df = pd.read_csv(CSV)\n",
    "if df['fname'].iloc[0].endswith('.wav'):\n",
    "    df['fname'] = df['fname'].str[:-4]\n",
    "    df.drop(['manually_verified'], axis=1, inplace=True)\n",
    "\n",
    "print(df.shape)\n",
    "df.head(3)"
   ]
  },
  {
   "cell_type": "code",
   "execution_count": 7,
   "metadata": {},
   "outputs": [
    {
     "data": {
      "text/html": [
       "<div>\n",
       "<style scoped>\n",
       "    .dataframe tbody tr th:only-of-type {\n",
       "        vertical-align: middle;\n",
       "    }\n",
       "\n",
       "    .dataframe tbody tr th {\n",
       "        vertical-align: top;\n",
       "    }\n",
       "\n",
       "    .dataframe thead th {\n",
       "        text-align: right;\n",
       "    }\n",
       "</style>\n",
       "<table border=\"1\" class=\"dataframe\">\n",
       "  <thead>\n",
       "    <tr style=\"text-align: right;\">\n",
       "      <th></th>\n",
       "      <th>fname</th>\n",
       "      <th>label</th>\n",
       "      <th>n_samples</th>\n",
       "    </tr>\n",
       "  </thead>\n",
       "  <tbody>\n",
       "    <tr>\n",
       "      <th>0</th>\n",
       "      <td>00063640</td>\n",
       "      <td>Laughter Hi-Hat Flute</td>\n",
       "      <td>69678</td>\n",
       "    </tr>\n",
       "    <tr>\n",
       "      <th>1</th>\n",
       "      <td>0013a1db</td>\n",
       "      <td>Laughter Hi-Hat Flute</td>\n",
       "      <td>36162</td>\n",
       "    </tr>\n",
       "    <tr>\n",
       "      <th>2</th>\n",
       "      <td>002bb878</td>\n",
       "      <td>Laughter Hi-Hat Flute</td>\n",
       "      <td>59094</td>\n",
       "    </tr>\n",
       "    <tr>\n",
       "      <th>3</th>\n",
       "      <td>002d392d</td>\n",
       "      <td>Laughter Hi-Hat Flute</td>\n",
       "      <td>22050</td>\n",
       "    </tr>\n",
       "    <tr>\n",
       "      <th>4</th>\n",
       "      <td>00326aa9</td>\n",
       "      <td>Laughter Hi-Hat Flute</td>\n",
       "      <td>91728</td>\n",
       "    </tr>\n",
       "  </tbody>\n",
       "</table>\n",
       "</div>"
      ],
      "text/plain": [
       "      fname                  label  n_samples\n",
       "0  00063640  Laughter Hi-Hat Flute      69678\n",
       "1  0013a1db  Laughter Hi-Hat Flute      36162\n",
       "2  002bb878  Laughter Hi-Hat Flute      59094\n",
       "3  002d392d  Laughter Hi-Hat Flute      22050\n",
       "4  00326aa9  Laughter Hi-Hat Flute      91728"
      ]
     },
     "execution_count": 7,
     "metadata": {},
     "output_type": "execute_result"
    }
   ],
   "source": [
    "test_df = pd.read_csv(TEST_CSV)\n",
    "test_df.head()"
   ]
  },
  {
   "cell_type": "code",
   "execution_count": 8,
   "metadata": {},
   "outputs": [],
   "source": [
    "n_fft = 1024\n",
    "n_hop = 256\n",
    "n_mels = 96\n",
    "sample_rate = 16000\n",
    "top_db = 60.0\n",
    "ref = 1.0\n",
    "\n",
    "bs = 8"
   ]
  },
  {
   "cell_type": "code",
   "execution_count": 9,
   "metadata": {},
   "outputs": [],
   "source": [
    "def rand_crop(signal):\n",
    "    start_pct = 0.1\n",
    "    end_pct = 0.4\n",
    "    max_start = signal.shape[0] * start_pct\n",
    "    max_end = signal.shape[0] * end_pct\n",
    "    crop_start = int(np.random.rand() * max_start)\n",
    "    crop_end = int(np.random.rand() * max_end) + 1\n",
    "    \n",
    "    s = signal[crop_start:-crop_end]\n",
    "    if s.shape[0] == 0:\n",
    "        import pdb; pdb.set_trace()\n",
    "    return s"
   ]
  },
  {
   "cell_type": "code",
   "execution_count": 10,
   "metadata": {},
   "outputs": [],
   "source": [
    "def random_stretch(mags, phases):\n",
    "    pct = 0.2\n",
    "    a,b = 1.0-pct, 1.0+pct\n",
    "    r = np.random.rand() * (a - b) + b\n",
    "    return phase_vocoder(mags, phases, rate=r)\n",
    "\n",
    "def random_stretch_mags(mags):\n",
    "    pct = 0.2\n",
    "    a,b = 1.0-pct, 1.0+pct\n",
    "    r = np.random.rand() * (a - b) + b\n",
    "    return phase_vocoder_magnitude(mags, rate=r)"
   ]
  },
  {
   "cell_type": "code",
   "execution_count": 11,
   "metadata": {},
   "outputs": [],
   "source": [
    "def get_transforms(n_fft=1024, n_hop=256, n_mels=96, sample_rate=16000):\n",
    "    window = torch.hann_window(n_fft)\n",
    "    to_db = ToDecibels(power=2, ref=ref, top_db=50.0, normalized=True)\n",
    "    to_mel = FrequencyToMel(n_mels=n_mels, n_fft=n_fft, sr=sample_rate)\n",
    "    to_mel.mel_filterbank = to_cpu(to_mel.mel_filterbank)\n",
    "\n",
    "    def _train_tfm(x):\n",
    "        if x.shape[0] == 0:\n",
    "            x = torch.zeros(n_hop * 2)\n",
    "        x = rand_crop(x)\n",
    "        X = stft(x, n_fft=n_fft, hop_length=n_hop, window=window)\n",
    "        power = power_spectrum(X)\n",
    "        power = random_stretch_mags(power)\n",
    "        power.unsqueeze_(0)\n",
    "        mel_power = to_mel(power.transpose(1,2))\n",
    "        mel_power_db = to_db(mel_power).squeeze_(0)\n",
    "        return mel_power_db\n",
    "    \n",
    "    def _valid_tfm(x):\n",
    "        if x.shape[0] == 0:\n",
    "            x = torch.zeros(n_hop * 2)\n",
    "        X = stft(x, n_fft=n_fft, hop_length=n_hop, window=window)\n",
    "        power = power_spectrum(X).unsqueeze_(0)\n",
    "        mel_power = to_mel(power.transpose(1,2))\n",
    "        mel_power_db = to_db(mel_power).squeeze_(0)\n",
    "        return mel_power_db\n",
    "    \n",
    "    return [_train_tfm],[_valid_tfm]"
   ]
  },
  {
   "cell_type": "code",
   "execution_count": 20,
   "metadata": {},
   "outputs": [
    {
     "data": {
      "text/plain": [
       "<function __main__.get_transforms.<locals>._train_tfm(x)>"
      ]
     },
     "execution_count": 20,
     "metadata": {},
     "output_type": "execute_result"
    }
   ],
   "source": [
    "tfm = get_transforms()[0][0]\n",
    "tfm"
   ]
  },
  {
   "cell_type": "code",
   "execution_count": 21,
   "metadata": {},
   "outputs": [
    {
     "data": {
      "text/plain": [
       "torch.Size([96, 2])"
      ]
     },
     "execution_count": 21,
     "metadata": {},
     "output_type": "execute_result"
    }
   ],
   "source": [
    "x = torch.zeros(0)\n",
    "tfm(x).shape"
   ]
  },
  {
   "cell_type": "code",
   "execution_count": 12,
   "metadata": {},
   "outputs": [],
   "source": [
    "def add_channel_dim(inputs):\n",
    "    xs, ys = inputs\n",
    "    xs.unsqueeze_(1)\n",
    "    return xs, ys"
   ]
  },
  {
   "cell_type": "code",
   "execution_count": 13,
   "metadata": {},
   "outputs": [
    {
     "data": {
      "text/plain": [
       "AudioItemList (9400 items)\n",
       "[AudioClip (duration=1.58s, sample_rate=16.0KHz), AudioClip (duration=0.82s, sample_rate=16.0KHz), AudioClip (duration=1.34s, sample_rate=16.0KHz), AudioClip (duration=0.5s, sample_rate=16.0KHz), AudioClip (duration=2.08s, sample_rate=16.0KHz)]...\n",
       "Path: data/freesound/audio_16KHz"
      ]
     },
     "execution_count": 13,
     "metadata": {},
     "output_type": "execute_result"
    }
   ],
   "source": [
    "test_data = AudioItemList.from_df(test_df, path=AUDIO, folder='test', suffix='.wav')\n",
    "test_data"
   ]
  },
  {
   "cell_type": "code",
   "execution_count": 14,
   "metadata": {},
   "outputs": [],
   "source": [
    "data = (AudioItemList\n",
    "            .from_df(df, path=AUDIO, folder='train', suffix='.wav')\n",
    "            .random_split_by_pct()\n",
    "            .label_from_df()\n",
    "            .add_test(test_data)\n",
    "#             .add_test_folder('test')\n",
    "            .transform(get_transforms())\n",
    "            .databunch(bs=bs, equal_lengths=False, tfms=[add_channel_dim], length_col=2))"
   ]
  },
  {
   "cell_type": "code",
   "execution_count": 15,
   "metadata": {},
   "outputs": [
    {
     "data": {
      "text/plain": [
       "(torch.Size([8, 1, 96, 1813]), torch.Size([8]), tensor(0.), tensor(1.5947))"
      ]
     },
     "execution_count": 15,
     "metadata": {},
     "output_type": "execute_result"
    }
   ],
   "source": [
    "# %%time\n",
    "xs, ys = data.one_batch()\n",
    "xs.shape, ys.shape, xs.min(), xs.max()"
   ]
  },
  {
   "cell_type": "code",
   "execution_count": 16,
   "metadata": {},
   "outputs": [],
   "source": [
    "model_name = 'freesound_16khz_1024_256_96_50db_v5'\n",
    "\n",
    "learn = create_cnn(data, models.resnet18, metrics=[error_rate, mapk])"
   ]
  },
  {
   "cell_type": "code",
   "execution_count": 28,
   "metadata": {},
   "outputs": [
    {
     "data": {
      "text/html": [
       "Total time: 17:39 <p><table style='width:375px; margin-bottom:10px'>\n",
       "  <tr>\n",
       "    <th>epoch</th>\n",
       "    <th>train_loss</th>\n",
       "    <th>valid_loss</th>\n",
       "    <th>error_rate</th>\n",
       "    <th>mapk</th>\n",
       "  </tr>\n",
       "  <tr>\n",
       "    <th>1</th>\n",
       "    <th>2.999591</th>\n",
       "    <th>2.485124</th>\n",
       "    <th>0.673178</th>\n",
       "    <th>0.433474</th>\n",
       "  </tr>\n",
       "  <tr>\n",
       "    <th>2</th>\n",
       "    <th>2.567328</th>\n",
       "    <th>2.482941</th>\n",
       "    <th>0.691130</th>\n",
       "    <th>0.407867</th>\n",
       "  </tr>\n",
       "  <tr>\n",
       "    <th>3</th>\n",
       "    <th>2.452574</th>\n",
       "    <th>2.129538</th>\n",
       "    <th>0.557550</th>\n",
       "    <th>0.548398</th>\n",
       "  </tr>\n",
       "  <tr>\n",
       "    <th>4</th>\n",
       "    <th>2.150012</th>\n",
       "    <th>1.779602</th>\n",
       "    <th>0.499472</th>\n",
       "    <th>0.605509</th>\n",
       "  </tr>\n",
       "  <tr>\n",
       "    <th>5</th>\n",
       "    <th>2.049077</th>\n",
       "    <th>1.864100</th>\n",
       "    <th>0.504752</th>\n",
       "    <th>0.601989</th>\n",
       "  </tr>\n",
       "  <tr>\n",
       "    <th>6</th>\n",
       "    <th>1.887460</th>\n",
       "    <th>1.596175</th>\n",
       "    <th>0.421331</th>\n",
       "    <th>0.671242</th>\n",
       "  </tr>\n",
       "  <tr>\n",
       "    <th>7</th>\n",
       "    <th>1.729594</th>\n",
       "    <th>1.532519</th>\n",
       "    <th>0.406019</th>\n",
       "    <th>0.682682</th>\n",
       "  </tr>\n",
       "  <tr>\n",
       "    <th>8</th>\n",
       "    <th>1.831616</th>\n",
       "    <th>1.644038</th>\n",
       "    <th>0.436642</th>\n",
       "    <th>0.657955</th>\n",
       "  </tr>\n",
       "</table>\n"
      ],
      "text/plain": [
       "<IPython.core.display.HTML object>"
      ]
     },
     "metadata": {},
     "output_type": "display_data"
    }
   ],
   "source": [
    "learn.fit_one_cycle(8)\n",
    "learn.save(model_name + '-stage-1')\n",
    "# learn.load(model_name + '-stage-1');"
   ]
  },
  {
   "cell_type": "code",
   "execution_count": 29,
   "metadata": {},
   "outputs": [
    {
     "name": "stdout",
     "output_type": "stream",
     "text": [
      "LR Finder is complete, type {learner_name}.recorder.plot() to see the graph.\n"
     ]
    }
   ],
   "source": [
    "# learn = create_cnn(data, models.resnet18, metrics=[error_rate, mapk])\n",
    "learn.load(model_name + '-stage-1')\n",
    "learn.unfreeze()\n",
    "learn.lr_find(start_lr=1e-9, end_lr=1e-2);"
   ]
  },
  {
   "cell_type": "code",
   "execution_count": 30,
   "metadata": {},
   "outputs": [
    {
     "data": {
      "image/png": "[encoded data removed]",
      "text/plain": [
       "<Figure size 432x288 with 1 Axes>"
      ]
     },
     "metadata": {
      "needs_background": "light"
     },
     "output_type": "display_data"
    }
   ],
   "source": [
    "learn.recorder.plot()"
   ]
  },
  {
   "cell_type": "code",
   "execution_count": 31,
   "metadata": {},
   "outputs": [
    {
     "data": {
      "text/html": [
       "Total time: 09:44 <p><table style='width:375px; margin-bottom:10px'>\n",
       "  <tr>\n",
       "    <th>epoch</th>\n",
       "    <th>train_loss</th>\n",
       "    <th>valid_loss</th>\n",
       "    <th>error_rate</th>\n",
       "    <th>mapk</th>\n",
       "  </tr>\n",
       "  <tr>\n",
       "    <th>1</th>\n",
       "    <th>1.646701</th>\n",
       "    <th>1.697791</th>\n",
       "    <th>0.439282</th>\n",
       "    <th>0.654963</th>\n",
       "  </tr>\n",
       "  <tr>\n",
       "    <th>2</th>\n",
       "    <th>1.751569</th>\n",
       "    <th>1.621840</th>\n",
       "    <th>0.426610</th>\n",
       "    <th>0.665171</th>\n",
       "  </tr>\n",
       "  <tr>\n",
       "    <th>3</th>\n",
       "    <th>1.685170</th>\n",
       "    <th>1.683598</th>\n",
       "    <th>0.426082</th>\n",
       "    <th>0.663499</th>\n",
       "  </tr>\n",
       "  <tr>\n",
       "    <th>4</th>\n",
       "    <th>1.775013</th>\n",
       "    <th>1.549822</th>\n",
       "    <th>0.397571</th>\n",
       "    <th>0.684882</th>\n",
       "  </tr>\n",
       "  <tr>\n",
       "    <th>5</th>\n",
       "    <th>1.804803</th>\n",
       "    <th>1.917088</th>\n",
       "    <th>0.500000</th>\n",
       "    <th>0.603749</th>\n",
       "  </tr>\n",
       "  <tr>\n",
       "    <th>6</th>\n",
       "    <th>1.696957</th>\n",
       "    <th>1.612871</th>\n",
       "    <th>0.410243</th>\n",
       "    <th>0.676346</th>\n",
       "  </tr>\n",
       "  <tr>\n",
       "    <th>7</th>\n",
       "    <th>1.715457</th>\n",
       "    <th>1.561242</th>\n",
       "    <th>0.410771</th>\n",
       "    <th>0.678370</th>\n",
       "  </tr>\n",
       "  <tr>\n",
       "    <th>8</th>\n",
       "    <th>1.705778</th>\n",
       "    <th>1.518851</th>\n",
       "    <th>0.391235</th>\n",
       "    <th>0.694826</th>\n",
       "  </tr>\n",
       "</table>\n"
      ],
      "text/plain": [
       "<IPython.core.display.HTML object>"
      ]
     },
     "metadata": {},
     "output_type": "display_data"
    }
   ],
   "source": [
    "# learn = create_cnn(data, models.resnet18, metrics=[error_rate, mapk])\n",
    "learn.load(model_name + '-stage-1')\n",
    "learn.fit_one_cycle(8, max_lr=slice(1e-7,1e-6))\n",
    "learn.save(model_name + '-stage-2')"
   ]
  },
  {
   "cell_type": "code",
   "execution_count": 18,
   "metadata": {},
   "outputs": [],
   "source": [
    "learn.load(model_name + '-stage-2');"
   ]
  },
  {
   "cell_type": "code",
   "execution_count": 24,
   "metadata": {},
   "outputs": [],
   "source": [
    "def save_submission(learner, filename, tta=False):\n",
    "    fnames = [Path(f).name for f in learn.data.test_ds.x.items]\n",
    "    get_predsfn = learn.TTA if tta else learn.get_preds\n",
    "    preds = get_predsfn(ds_type=DatasetType.Test)[0]\n",
    "    top_3 = np.array(learn.data.classes)[np.argsort(-preds, axis=1)[:, :3]]\n",
    "    labels = [' '.join(list(x)) for x in top_3]\n",
    "    df = pd.DataFrame({'fname': fnames, 'label': labels})\n",
    "    df.to_csv(filename, index=False)\n",
    "    return df"
   ]
  },
  {
   "cell_type": "code",
   "execution_count": 25,
   "metadata": {},
   "outputs": [],
   "source": [
    "df1 = save_submission(learn, 'test_16khz_2.csv', tta=False)"
   ]
  },
  {
   "cell_type": "code",
   "execution_count": null,
   "metadata": {},
   "outputs": [],
   "source": [
    "df2 = save_submission(learn, 'test_16khz_tta_2.csv', tta=True)"
   ]
  },
  {
   "cell_type": "code",
   "execution_count": 29,
   "metadata": {},
   "outputs": [],
   "source": [
    "df1.to_csv('test_16khz_2.csv', index=False)\n"
   ]
  },
  {
   "cell_type": "code",
   "execution_count": 32,
   "metadata": {},
   "outputs": [
    {
     "data": {
      "text/plain": [
       "\u001b[0;31mSignature:\u001b[0m\n",
       "\u001b[0mlearn\u001b[0m\u001b[0;34m.\u001b[0m\u001b[0mget_preds\u001b[0m\u001b[0;34m(\u001b[0m\u001b[0;34m\u001b[0m\n",
       "\u001b[0;34m\u001b[0m    \u001b[0;34m[\u001b[0m\u001b[0;34m'ds_type:fastai.basic_data.DatasetType=<DatasetType.Valid: 2>'\u001b[0m\u001b[0;34m,\u001b[0m \u001b[0;34m'with_loss:bool=False'\u001b[0m\u001b[0;34m,\u001b[0m \u001b[0;34m'n_batch:Union[int, NoneType]=None'\u001b[0m\u001b[0;34m,\u001b[0m \u001b[0;34m'pbar:Union[fastprogress.fastprogress.MasterBar, fastprogress.fastprogress.ProgressBar, NoneType]=None'\u001b[0m\u001b[0;34m]\u001b[0m\u001b[0;34m,\u001b[0m\u001b[0;34m\u001b[0m\n",
       "\u001b[0;34m\u001b[0m\u001b[0;34m)\u001b[0m \u001b[0;34m->\u001b[0m \u001b[0mList\u001b[0m\u001b[0;34m[\u001b[0m\u001b[0mtorch\u001b[0m\u001b[0;34m.\u001b[0m\u001b[0mTensor\u001b[0m\u001b[0;34m]\u001b[0m\u001b[0;34m\u001b[0m\u001b[0m\n",
       "\u001b[0;31mDocstring:\u001b[0m Return predictions and targets on `ds_type` dataset.\n",
       "\u001b[0;31mFile:\u001b[0m      /opt/anaconda3/lib/python3.6/site-packages/fastai/basic_train.py\n",
       "\u001b[0;31mType:\u001b[0m      method\n"
      ]
     },
     "metadata": {},
     "output_type": "display_data"
    }
   ],
   "source": [
    "learn.get_preds?"
   ]
  },
  {
   "cell_type": "code",
   "execution_count": 35,
   "metadata": {},
   "outputs": [
    {
     "data": {
      "text/plain": [
       "array(['data/freesound/audio_16KHz/test/00063640.wav', 'data/freesound/audio_16KHz/test/0013a1db.wav',\n",
       "       'data/freesound/audio_16KHz/test/002bb878.wav', 'data/freesound/audio_16KHz/test/002d392d.wav', ...,\n",
       "       'data/freesound/audio_16KHz/test/ffe8d42d.wav', 'data/freesound/audio_16KHz/test/ffeba2cd.wav',\n",
       "       'data/freesound/audio_16KHz/test/fff6d073.wav', 'data/freesound/audio_16KHz/test/fff8d22d.wav'], dtype=object)"
      ]
     },
     "execution_count": 35,
     "metadata": {},
     "output_type": "execute_result"
    }
   ],
   "source": [
    "learn.data.test_dl.items"
   ]
  },
  {
   "cell_type": "code",
   "execution_count": 39,
   "metadata": {},
   "outputs": [
    {
     "data": {
      "text/plain": [
       "<fastai.text.data.SortSampler at 0x7f6060145a58>"
      ]
     },
     "execution_count": 39,
     "metadata": {},
     "output_type": "execute_result"
    }
   ],
   "source": [
    "learn.data.test_dl.dl.sampler"
   ]
  },
  {
   "cell_type": "code",
   "execution_count": 41,
   "metadata": {},
   "outputs": [
    {
     "data": {
      "text/plain": [
       "(tensor([[[[ 0.4245,  0.4245,  0.4245,  ...,  0.4245,  0.4245,  0.4245],\n",
       "           [ 0.4245,  0.4245,  0.4245,  ...,  0.4245,  0.4245,  0.4245],\n",
       "           [ 0.4245,  0.4245,  0.4245,  ...,  0.4245,  0.4245,  0.4245],\n",
       "           ...,\n",
       "           [ 0.4245,  0.4245,  0.4245,  ...,  0.4245,  0.4245,  0.4245],\n",
       "           [ 0.4245,  0.4245,  0.4245,  ...,  0.4245,  0.4245,  0.4245],\n",
       "           [ 0.4245,  0.4245,  0.4245,  ...,  0.4245,  0.4245,  0.4245]]],\n",
       " \n",
       " \n",
       "         [[[ 0.3926,  0.3926,  0.5728,  ...,  0.5513,  0.0000,  0.0000],\n",
       "           [ 0.3926,  0.3926,  0.3926,  ...,  0.3926,  0.0000,  0.0000],\n",
       "           [ 0.3926,  0.3926,  0.3926,  ...,  0.4611,  0.0000,  0.0000],\n",
       "           ...,\n",
       "           [ 0.3926,  0.3926,  0.3926,  ...,  0.3926,  0.0000,  0.0000],\n",
       "           [ 0.3926,  0.3926,  0.3926,  ...,  0.3926,  0.0000,  0.0000],\n",
       "           [ 0.3926,  0.3926,  0.3926,  ...,  0.3926,  0.0000,  0.0000]]],\n",
       " \n",
       " \n",
       "         [[[ 0.3853,  0.4165,  0.4152,  ...,  0.0000,  0.0000,  0.0000],\n",
       "           [ 0.3195,  0.3999,  0.4963,  ...,  0.0000,  0.0000,  0.0000],\n",
       "           [ 0.2278,  0.3162,  0.3803,  ...,  0.0000,  0.0000,  0.0000],\n",
       "           ...,\n",
       "           [-0.0589, -0.0589, -0.0589,  ...,  0.0000,  0.0000,  0.0000],\n",
       "           [-0.0589, -0.0589, -0.0589,  ...,  0.0000,  0.0000,  0.0000],\n",
       "           [-0.0589, -0.0589, -0.0589,  ...,  0.0000,  0.0000,  0.0000]]],\n",
       " \n",
       " \n",
       "         ...,\n",
       " \n",
       " \n",
       "         [[[ 0.7201,  0.7787,  0.7822,  ...,  0.0000,  0.0000,  0.0000],\n",
       "           [ 0.7388,  0.7406,  0.8292,  ...,  0.0000,  0.0000,  0.0000],\n",
       "           [ 0.6370,  0.6762,  0.7232,  ...,  0.0000,  0.0000,  0.0000],\n",
       "           ...,\n",
       "           [ 0.1233,  0.1233,  0.1233,  ...,  0.0000,  0.0000,  0.0000],\n",
       "           [ 0.1233,  0.1233,  0.1233,  ...,  0.0000,  0.0000,  0.0000],\n",
       "           [ 0.1233,  0.1233,  0.1233,  ...,  0.0000,  0.0000,  0.0000]]],\n",
       " \n",
       " \n",
       "         [[[ 1.3889,  1.5195,  1.5329,  ...,  0.0000,  0.0000,  0.0000],\n",
       "           [ 1.4126,  1.5367,  1.5432,  ...,  0.0000,  0.0000,  0.0000],\n",
       "           [ 1.3619,  1.4533,  1.5048,  ...,  0.0000,  0.0000,  0.0000],\n",
       "           ...,\n",
       "           [ 0.5931,  0.5931,  0.5931,  ...,  0.0000,  0.0000,  0.0000],\n",
       "           [ 0.5931,  0.5931,  0.5931,  ...,  0.0000,  0.0000,  0.0000],\n",
       "           [ 0.5931,  0.5931,  0.5931,  ...,  0.0000,  0.0000,  0.0000]]],\n",
       " \n",
       " \n",
       "         [[[ 0.3504,  0.3504,  0.3504,  ...,  0.0000,  0.0000,  0.0000],\n",
       "           [ 0.3504,  0.3504,  0.3504,  ...,  0.0000,  0.0000,  0.0000],\n",
       "           [ 0.3504,  0.3504,  0.3504,  ...,  0.0000,  0.0000,  0.0000],\n",
       "           ...,\n",
       "           [ 0.3504,  0.3504,  0.3504,  ...,  0.0000,  0.0000,  0.0000],\n",
       "           [ 0.3504,  0.3504,  0.3504,  ...,  0.0000,  0.0000,  0.0000],\n",
       "           [ 0.3504,  0.3504,  0.3504,  ...,  0.0000,  0.0000,  0.0000]]]],\n",
       "        device='cuda:0'),\n",
       " tensor([23, 23, 23, 23, 23, 23, 23, 23], device='cuda:0'))"
      ]
     },
     "execution_count": 41,
     "metadata": {},
     "output_type": "execute_result"
    }
   ],
   "source": [
    "next(iter(learn.data.test_dl))"
   ]
  },
  {
   "cell_type": "code",
   "execution_count": null,
   "metadata": {},
   "outputs": [],
   "source": []
  }
 ],
 "metadata": {
  "kernelspec": {
   "display_name": "Python 3",
   "language": "python",
   "name": "python3"
  },
  "language_info": {
   "codemirror_mode": {
    "name": "ipython",
    "version": 3
   },
   "file_extension": ".py",
   "mimetype": "text/x-python",
   "name": "python",
   "nbconvert_exporter": "python",
   "pygments_lexer": "ipython3",
   "version": "3.6.6"
  }
 },
 "nbformat": 4,
 "nbformat_minor": 2
}
