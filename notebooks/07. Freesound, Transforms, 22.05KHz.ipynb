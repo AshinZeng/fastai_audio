{
 "cells": [
  {
   "cell_type": "code",
   "execution_count": 1,
   "metadata": {},
   "outputs": [],
   "source": [
    "%reload_ext autoreload\n",
    "%autoreload 2\n",
    "%matplotlib inline"
   ]
  },
  {
   "cell_type": "code",
   "execution_count": 2,
   "metadata": {},
   "outputs": [
    {
     "data": {
      "text/plain": [
       "'1.0.36'"
      ]
     },
     "execution_count": 2,
     "metadata": {},
     "output_type": "execute_result"
    }
   ],
   "source": [
    "import fastai\n",
    "fastai.__version__"
   ]
  },
  {
   "cell_type": "code",
   "execution_count": 3,
   "metadata": {},
   "outputs": [],
   "source": [
    "from fastai import *\n",
    "from fastai_audio import *\n",
    "from fastai.vision import models"
   ]
  },
  {
   "cell_type": "code",
   "execution_count": 4,
   "metadata": {},
   "outputs": [],
   "source": [
    "from utils import read_file"
   ]
  },
  {
   "cell_type": "code",
   "execution_count": 5,
   "metadata": {},
   "outputs": [],
   "source": [
    "DATA = Path('data')\n",
    "AUDIO = DATA/'freesound/audio_22050_trimmed'\n",
    "CSV = DATA/'freesound/audio_44KHz/train_with_lens.csv'\n",
    "TEST_CSV = DATA/'freesound/audio_44KHz/test_with_lens.csv'"
   ]
  },
  {
   "cell_type": "code",
   "execution_count": 6,
   "metadata": {},
   "outputs": [
    {
     "name": "stdout",
     "output_type": "stream",
     "text": [
      "(9473, 3)\n"
     ]
    },
    {
     "data": {
      "text/html": [
       "<div>\n",
       "<style scoped>\n",
       "    .dataframe tbody tr th:only-of-type {\n",
       "        vertical-align: middle;\n",
       "    }\n",
       "\n",
       "    .dataframe tbody tr th {\n",
       "        vertical-align: top;\n",
       "    }\n",
       "\n",
       "    .dataframe thead th {\n",
       "        text-align: right;\n",
       "    }\n",
       "</style>\n",
       "<table border=\"1\" class=\"dataframe\">\n",
       "  <thead>\n",
       "    <tr style=\"text-align: right;\">\n",
       "      <th></th>\n",
       "      <th>fname</th>\n",
       "      <th>label</th>\n",
       "      <th>n_samples</th>\n",
       "    </tr>\n",
       "  </thead>\n",
       "  <tbody>\n",
       "    <tr>\n",
       "      <th>0</th>\n",
       "      <td>00044347</td>\n",
       "      <td>Hi-hat</td>\n",
       "      <td>617400</td>\n",
       "    </tr>\n",
       "    <tr>\n",
       "      <th>1</th>\n",
       "      <td>001ca53d</td>\n",
       "      <td>Saxophone</td>\n",
       "      <td>455112</td>\n",
       "    </tr>\n",
       "    <tr>\n",
       "      <th>2</th>\n",
       "      <td>002d256b</td>\n",
       "      <td>Trumpet</td>\n",
       "      <td>19404</td>\n",
       "    </tr>\n",
       "  </tbody>\n",
       "</table>\n",
       "</div>"
      ],
      "text/plain": [
       "      fname      label  n_samples\n",
       "0  00044347     Hi-hat     617400\n",
       "1  001ca53d  Saxophone     455112\n",
       "2  002d256b    Trumpet      19404"
      ]
     },
     "execution_count": 6,
     "metadata": {},
     "output_type": "execute_result"
    }
   ],
   "source": [
    "df = pd.read_csv(CSV)\n",
    "if df['fname'].iloc[0].endswith('.wav'):\n",
    "    df['fname'] = df['fname'].str[:-4]\n",
    "    df.drop(['manually_verified'], axis=1, inplace=True)\n",
    "\n",
    "print(df.shape)\n",
    "df.head(3)"
   ]
  },
  {
   "cell_type": "code",
   "execution_count": 7,
   "metadata": {},
   "outputs": [
    {
     "data": {
      "text/html": [
       "<div>\n",
       "<style scoped>\n",
       "    .dataframe tbody tr th:only-of-type {\n",
       "        vertical-align: middle;\n",
       "    }\n",
       "\n",
       "    .dataframe tbody tr th {\n",
       "        vertical-align: top;\n",
       "    }\n",
       "\n",
       "    .dataframe thead th {\n",
       "        text-align: right;\n",
       "    }\n",
       "</style>\n",
       "<table border=\"1\" class=\"dataframe\">\n",
       "  <thead>\n",
       "    <tr style=\"text-align: right;\">\n",
       "      <th></th>\n",
       "      <th>fname</th>\n",
       "      <th>label</th>\n",
       "      <th>n_samples</th>\n",
       "    </tr>\n",
       "  </thead>\n",
       "  <tbody>\n",
       "    <tr>\n",
       "      <th>0</th>\n",
       "      <td>00063640</td>\n",
       "      <td>Laughter Hi-Hat Flute</td>\n",
       "      <td>69678</td>\n",
       "    </tr>\n",
       "    <tr>\n",
       "      <th>1</th>\n",
       "      <td>0013a1db</td>\n",
       "      <td>Laughter Hi-Hat Flute</td>\n",
       "      <td>36162</td>\n",
       "    </tr>\n",
       "    <tr>\n",
       "      <th>2</th>\n",
       "      <td>002bb878</td>\n",
       "      <td>Laughter Hi-Hat Flute</td>\n",
       "      <td>59094</td>\n",
       "    </tr>\n",
       "    <tr>\n",
       "      <th>3</th>\n",
       "      <td>002d392d</td>\n",
       "      <td>Laughter Hi-Hat Flute</td>\n",
       "      <td>22050</td>\n",
       "    </tr>\n",
       "    <tr>\n",
       "      <th>4</th>\n",
       "      <td>00326aa9</td>\n",
       "      <td>Laughter Hi-Hat Flute</td>\n",
       "      <td>91728</td>\n",
       "    </tr>\n",
       "  </tbody>\n",
       "</table>\n",
       "</div>"
      ],
      "text/plain": [
       "      fname                  label  n_samples\n",
       "0  00063640  Laughter Hi-Hat Flute      69678\n",
       "1  0013a1db  Laughter Hi-Hat Flute      36162\n",
       "2  002bb878  Laughter Hi-Hat Flute      59094\n",
       "3  002d392d  Laughter Hi-Hat Flute      22050\n",
       "4  00326aa9  Laughter Hi-Hat Flute      91728"
      ]
     },
     "execution_count": 7,
     "metadata": {},
     "output_type": "execute_result"
    }
   ],
   "source": [
    "test_df = pd.read_csv(TEST_CSV)\n",
    "test_df.head()"
   ]
  },
  {
   "cell_type": "code",
   "execution_count": 8,
   "metadata": {},
   "outputs": [],
   "source": [
    "n_fft = 2048\n",
    "n_hop = 512\n",
    "n_mels = 128\n",
    "sample_rate = 22050\n",
    "top_db = 50.0\n",
    "ref = 1.0\n",
    "\n",
    "bs = 8"
   ]
  },
  {
   "cell_type": "code",
   "execution_count": 9,
   "metadata": {},
   "outputs": [],
   "source": [
    "def rand_crop(signal):\n",
    "    start_pct = 0.1\n",
    "    end_pct = 0.4\n",
    "    max_start = signal.shape[0] * start_pct\n",
    "    max_end = signal.shape[0] * end_pct\n",
    "    crop_start = int(np.random.rand() * max_start)\n",
    "    crop_end = int(np.random.rand() * max_end) + 1\n",
    "    \n",
    "    s = signal[crop_start:-crop_end]\n",
    "    if s.shape[0] == 0:\n",
    "        import pdb; pdb.set_trace()\n",
    "    return s"
   ]
  },
  {
   "cell_type": "code",
   "execution_count": 10,
   "metadata": {},
   "outputs": [],
   "source": [
    "def random_stretch(mags, phases):\n",
    "    pct = 0.2\n",
    "    a,b = 1.0-pct, 1.0+pct\n",
    "    r = np.random.rand() * (a - b) + b\n",
    "    return phase_vocoder(mags, phases, rate=r)\n",
    "\n",
    "def random_stretch_mags(mags):\n",
    "    pct = 0.2\n",
    "    a,b = 1.0-pct, 1.0+pct\n",
    "    r = np.random.rand() * (a - b) + b\n",
    "    return phase_vocoder_magnitude(mags, rate=r)"
   ]
  },
  {
   "cell_type": "code",
   "execution_count": 11,
   "metadata": {},
   "outputs": [],
   "source": [
    "def get_transforms(n_fft=1024, n_hop=256, n_mels=96, sample_rate=16000):\n",
    "    window = torch.hann_window(n_fft)\n",
    "    to_db = ToDecibels(power=2, ref=ref, top_db=top_db, normalized=True)\n",
    "    to_mel = FrequencyToMel(n_mels=n_mels, n_fft=n_fft, sr=sample_rate)\n",
    "    to_mel.mel_filterbank = to_cpu(to_mel.mel_filterbank)\n",
    "\n",
    "    def _train_tfm(x):\n",
    "        if x.shape[0] == 0:\n",
    "            x = torch.zeros(n_hop * 2)\n",
    "        x = rand_crop(x)\n",
    "        X = stft(x, n_fft=n_fft, hop_length=n_hop, window=window)\n",
    "        power = power_spectrum(X)\n",
    "        power = random_stretch_mags(power)\n",
    "        power.unsqueeze_(0)\n",
    "        mel_power = to_mel(power.transpose(1,2))\n",
    "        mel_power_db = to_db(mel_power).squeeze_(0)\n",
    "        return mel_power_db\n",
    "    \n",
    "    def _valid_tfm(x):\n",
    "        if x.shape[0] == 0:\n",
    "            x = torch.zeros(n_hop * 2)\n",
    "        X = stft(x, n_fft=n_fft, hop_length=n_hop, window=window)\n",
    "        power = power_spectrum(X).unsqueeze_(0)\n",
    "        mel_power = to_mel(power.transpose(1,2))\n",
    "        mel_power_db = to_db(mel_power).squeeze_(0)\n",
    "        return mel_power_db\n",
    "    \n",
    "    return [_train_tfm],[_valid_tfm]"
   ]
  },
  {
   "cell_type": "code",
   "execution_count": 12,
   "metadata": {},
   "outputs": [],
   "source": [
    "def add_channel_dim(inputs):\n",
    "    xs, ys = inputs\n",
    "    xs.unsqueeze_(1)\n",
    "    return xs, ys"
   ]
  },
  {
   "cell_type": "code",
   "execution_count": 14,
   "metadata": {},
   "outputs": [],
   "source": [
    "test_data = AudioItemList.from_df(test_df, path=AUDIO, folder='test', suffix='.wav')"
   ]
  },
  {
   "cell_type": "code",
   "execution_count": 15,
   "metadata": {},
   "outputs": [],
   "source": [
    "data = (AudioItemList\n",
    "            .from_df(df, path=AUDIO, folder='train', suffix='.wav')\n",
    "            .random_split_by_pct()\n",
    "            .label_from_df()\n",
    "            .add_test(test_data)\n",
    "            .transform(get_transforms())\n",
    "            .databunch(bs=bs, equal_lengths=False, tfms=[add_channel_dim], length_col=2))"
   ]
  },
  {
   "cell_type": "code",
   "execution_count": 16,
   "metadata": {},
   "outputs": [
    {
     "data": {
      "text/plain": [
       "(torch.Size([8, 1, 96, 2448]), torch.Size([8]), tensor(0.), tensor(1.5624))"
      ]
     },
     "execution_count": 16,
     "metadata": {},
     "output_type": "execute_result"
    }
   ],
   "source": [
    "# %%time\n",
    "xs, ys = data.one_batch()\n",
    "xs.shape, ys.shape, xs.min(), xs.max()"
   ]
  },
  {
   "cell_type": "markdown",
   "metadata": {},
   "source": [
    "### resnet18 - 1024 - 256"
   ]
  },
  {
   "cell_type": "code",
   "execution_count": 17,
   "metadata": {},
   "outputs": [],
   "source": [
    "model_name = 'freesound_22khz-v1'\n",
    "\n",
    "learn = create_cnn(data, models.resnet18, metrics=[error_rate, mapk])"
   ]
  },
  {
   "cell_type": "code",
   "execution_count": 18,
   "metadata": {},
   "outputs": [
    {
     "data": {
      "text/html": [
       "Total time: 13:11 <p><table style='width:375px; margin-bottom:10px'>\n",
       "  <tr>\n",
       "    <th>epoch</th>\n",
       "    <th>train_loss</th>\n",
       "    <th>valid_loss</th>\n",
       "    <th>error_rate</th>\n",
       "    <th>mapk</th>\n",
       "  </tr>\n",
       "  <tr>\n",
       "    <th>1</th>\n",
       "    <th>2.918675</th>\n",
       "    <th>2.505201</th>\n",
       "    <th>0.649419</th>\n",
       "    <th>0.458641</th>\n",
       "  </tr>\n",
       "  <tr>\n",
       "    <th>2</th>\n",
       "    <th>2.511833</th>\n",
       "    <th>2.353058</th>\n",
       "    <th>0.567054</th>\n",
       "    <th>0.533527</th>\n",
       "  </tr>\n",
       "  <tr>\n",
       "    <th>3</th>\n",
       "    <th>2.272620</th>\n",
       "    <th>1.998789</th>\n",
       "    <th>0.523759</th>\n",
       "    <th>0.587117</th>\n",
       "  </tr>\n",
       "  <tr>\n",
       "    <th>4</th>\n",
       "    <th>2.092140</th>\n",
       "    <th>1.770809</th>\n",
       "    <th>0.454065</th>\n",
       "    <th>0.647307</th>\n",
       "  </tr>\n",
       "  <tr>\n",
       "    <th>5</th>\n",
       "    <th>1.955769</th>\n",
       "    <th>1.561659</th>\n",
       "    <th>0.409715</th>\n",
       "    <th>0.678459</th>\n",
       "  </tr>\n",
       "  <tr>\n",
       "    <th>6</th>\n",
       "    <th>1.780053</th>\n",
       "    <th>1.476396</th>\n",
       "    <th>0.401795</th>\n",
       "    <th>0.690426</th>\n",
       "  </tr>\n",
       "  <tr>\n",
       "    <th>7</th>\n",
       "    <th>1.729633</th>\n",
       "    <th>1.598179</th>\n",
       "    <th>0.403907</th>\n",
       "    <th>0.686906</th>\n",
       "  </tr>\n",
       "  <tr>\n",
       "    <th>8</th>\n",
       "    <th>1.665053</th>\n",
       "    <th>1.486797</th>\n",
       "    <th>0.401795</th>\n",
       "    <th>0.690690</th>\n",
       "  </tr>\n",
       "</table>\n"
      ],
      "text/plain": [
       "<IPython.core.display.HTML object>"
      ]
     },
     "metadata": {},
     "output_type": "display_data"
    }
   ],
   "source": [
    "learn.fit_one_cycle(8)\n",
    "learn.save(model_name + '-stage-1')"
   ]
  },
  {
   "cell_type": "code",
   "execution_count": 22,
   "metadata": {},
   "outputs": [
    {
     "name": "stdout",
     "output_type": "stream",
     "text": [
      "LR Finder is complete, type {learner_name}.recorder.plot() to see the graph.\n"
     ]
    },
    {
     "data": {
      "image/png": "[encoded data removed]",
      "text/plain": [
       "<Figure size 432x288 with 1 Axes>"
      ]
     },
     "metadata": {
      "needs_background": "light"
     },
     "output_type": "display_data"
    }
   ],
   "source": [
    "learn.load(model_name + '-stage-1')\n",
    "learn.unfreeze()\n",
    "learn.lr_find(start_lr=1e-9, end_lr=1e-1)\n",
    "learn.recorder.plot()"
   ]
  },
  {
   "cell_type": "code",
   "execution_count": 23,
   "metadata": {},
   "outputs": [
    {
     "data": {
      "text/html": [
       "Total time: 11:09 <p><table style='width:375px; margin-bottom:10px'>\n",
       "  <tr>\n",
       "    <th>epoch</th>\n",
       "    <th>train_loss</th>\n",
       "    <th>valid_loss</th>\n",
       "    <th>error_rate</th>\n",
       "    <th>mapk</th>\n",
       "  </tr>\n",
       "  <tr>\n",
       "    <th>1</th>\n",
       "    <th>1.677624</th>\n",
       "    <th>1.405069</th>\n",
       "    <th>0.381732</th>\n",
       "    <th>0.705298</th>\n",
       "  </tr>\n",
       "  <tr>\n",
       "    <th>2</th>\n",
       "    <th>1.567116</th>\n",
       "    <th>1.321633</th>\n",
       "    <th>0.352165</th>\n",
       "    <th>0.729849</th>\n",
       "  </tr>\n",
       "  <tr>\n",
       "    <th>3</th>\n",
       "    <th>1.651383</th>\n",
       "    <th>1.373302</th>\n",
       "    <th>0.372228</th>\n",
       "    <th>0.712249</th>\n",
       "  </tr>\n",
       "  <tr>\n",
       "    <th>4</th>\n",
       "    <th>1.393789</th>\n",
       "    <th>1.227507</th>\n",
       "    <th>0.326294</th>\n",
       "    <th>0.751496</th>\n",
       "  </tr>\n",
       "  <tr>\n",
       "    <th>5</th>\n",
       "    <th>1.261258</th>\n",
       "    <th>1.176355</th>\n",
       "    <th>0.317318</th>\n",
       "    <th>0.759328</th>\n",
       "  </tr>\n",
       "  <tr>\n",
       "    <th>6</th>\n",
       "    <th>1.233282</th>\n",
       "    <th>1.174101</th>\n",
       "    <th>0.301478</th>\n",
       "    <th>0.770239</th>\n",
       "  </tr>\n",
       "  <tr>\n",
       "    <th>7</th>\n",
       "    <th>1.307097</th>\n",
       "    <th>1.163646</th>\n",
       "    <th>0.309398</th>\n",
       "    <th>0.763552</th>\n",
       "  </tr>\n",
       "  <tr>\n",
       "    <th>8</th>\n",
       "    <th>1.220540</th>\n",
       "    <th>1.193719</th>\n",
       "    <th>0.309398</th>\n",
       "    <th>0.763728</th>\n",
       "  </tr>\n",
       "</table>\n"
      ],
      "text/plain": [
       "<IPython.core.display.HTML object>"
      ]
     },
     "metadata": {},
     "output_type": "display_data"
    }
   ],
   "source": [
    "learn.load(model_name + '-stage-1')\n",
    "learn.fit_one_cycle(8, max_lr=slice(1e-6,1e-4))\n",
    "learn.save(model_name + '-stage-2')"
   ]
  },
  {
   "cell_type": "code",
   "execution_count": 25,
   "metadata": {},
   "outputs": [
    {
     "data": {
      "text/html": [
       "Total time: 04:38 <p><table style='width:375px; margin-bottom:10px'>\n",
       "  <tr>\n",
       "    <th>epoch</th>\n",
       "    <th>train_loss</th>\n",
       "    <th>valid_loss</th>\n",
       "    <th>error_rate</th>\n",
       "    <th>mapk</th>\n",
       "  </tr>\n",
       "  <tr>\n",
       "    <th>1</th>\n",
       "    <th>1.167483</th>\n",
       "    <th>1.146629</th>\n",
       "    <th>0.307286</th>\n",
       "    <th>0.765928</th>\n",
       "  </tr>\n",
       "  <tr>\n",
       "    <th>2</th>\n",
       "    <th>1.311664</th>\n",
       "    <th>1.195317</th>\n",
       "    <th>0.317318</th>\n",
       "    <th>0.757392</th>\n",
       "  </tr>\n",
       "  <tr>\n",
       "    <th>3</th>\n",
       "    <th>1.220144</th>\n",
       "    <th>1.182616</th>\n",
       "    <th>0.315734</th>\n",
       "    <th>0.760472</th>\n",
       "  </tr>\n",
       "  <tr>\n",
       "    <th>4</th>\n",
       "    <th>1.270221</th>\n",
       "    <th>1.135279</th>\n",
       "    <th>0.289863</th>\n",
       "    <th>0.778863</th>\n",
       "  </tr>\n",
       "</table>\n"
      ],
      "text/plain": [
       "<IPython.core.display.HTML object>"
      ]
     },
     "metadata": {},
     "output_type": "display_data"
    }
   ],
   "source": [
    "learn.load(model_name + '-stage-2')\n",
    "learn.fit_one_cycle(4, max_lr=slice(1e-6,1e-5))\n",
    "learn.save(model_name + '-stage-3')"
   ]
  },
  {
   "cell_type": "code",
   "execution_count": null,
   "metadata": {},
   "outputs": [],
   "source": []
  },
  {
   "cell_type": "markdown",
   "metadata": {},
   "source": [
    "## resnet18 - 1024 - 256"
   ]
  },
  {
   "cell_type": "code",
   "execution_count": null,
   "metadata": {},
   "outputs": [],
   "source": [
    "n_fft = 1024\n",
    "n_hop = 256\n",
    "n_mels = 128\n",
    "\n",
    "data = (AudioItemList\n",
    "            .from_df(df, path=AUDIO, folder='train', suffix='.wav')\n",
    "            .random_split_by_pct()\n",
    "            .label_from_df()\n",
    "            .add_test(test_data)\n",
    "           n_hopransform(get_transforms(n_fft=n_fft, n_hop=n_hop, \n",
    "                                      n_mels=n_mels, sample_rate=sample_rate))\n",
    "            .databunch(bs=bs, equal_lengths=False, tfms=[add_channel_dim], length_col=2))\n",
    "\n",
    "learn = create_cnn(data, models.resnet18, metrics=[error_rate, mapk])\n",
    "model_name = 'freesound_22khz_1024_256_128_resnet18'\n",
    "learn.fit_one_cycle(8)\n",
    "learn.save(model_name + '-stage-1')"
   ]
  },
  {
   "cell_type": "markdown",
   "metadata": {},
   "source": [
    "## resnet34 - 2048 - 512"
   ]
  },
  {
   "cell_type": "code",
   "execution_count": 28,
   "metadata": {},
   "outputs": [
    {
     "data": {
      "text/html": [
       "Total time: 11:31 <p><table style='width:375px; margin-bottom:10px'>\n",
       "  <tr>\n",
       "    <th>epoch</th>\n",
       "    <th>train_loss</th>\n",
       "    <th>valid_loss</th>\n",
       "    <th>error_rate</th>\n",
       "    <th>mapk</th>\n",
       "  </tr>\n",
       "  <tr>\n",
       "    <th>1</th>\n",
       "    <th>2.951504</th>\n",
       "    <th>2.700552</th>\n",
       "    <th>0.714361</th>\n",
       "    <th>0.389563</th>\n",
       "  </tr>\n",
       "  <tr>\n",
       "    <th>2</th>\n",
       "    <th>2.627544</th>\n",
       "    <th>2.411612</th>\n",
       "    <th>0.665259</th>\n",
       "    <th>0.436114</th>\n",
       "  </tr>\n",
       "  <tr>\n",
       "    <th>3</th>\n",
       "    <th>2.411779</th>\n",
       "    <th>2.155824</th>\n",
       "    <th>0.549102</th>\n",
       "    <th>0.551742</th>\n",
       "  </tr>\n",
       "  <tr>\n",
       "    <th>4</th>\n",
       "    <th>2.192558</th>\n",
       "    <th>1.922575</th>\n",
       "    <th>0.511616</th>\n",
       "    <th>0.578669</th>\n",
       "  </tr>\n",
       "  <tr>\n",
       "    <th>5</th>\n",
       "    <th>1.921872</th>\n",
       "    <th>1.664389</th>\n",
       "    <th>0.444562</th>\n",
       "    <th>0.655667</th>\n",
       "  </tr>\n",
       "  <tr>\n",
       "    <th>6</th>\n",
       "    <th>1.742844</th>\n",
       "    <th>1.491874</th>\n",
       "    <th>0.408131</th>\n",
       "    <th>0.685322</th>\n",
       "  </tr>\n",
       "  <tr>\n",
       "    <th>7</th>\n",
       "    <th>1.582598</th>\n",
       "    <th>1.448381</th>\n",
       "    <th>0.387012</th>\n",
       "    <th>0.699490</th>\n",
       "  </tr>\n",
       "  <tr>\n",
       "    <th>8</th>\n",
       "    <th>1.659057</th>\n",
       "    <th>1.599523</th>\n",
       "    <th>0.434002</th>\n",
       "    <th>0.658395</th>\n",
       "  </tr>\n",
       "</table>\n"
      ],
      "text/plain": [
       "<IPython.core.display.HTML object>"
      ]
     },
     "metadata": {},
     "output_type": "display_data"
    }
   ],
   "source": [
    "n_fft = 2048\n",
    "n_hop = 512\n",
    "n_mels = 128\n",
    "\n",
    "data = (AudioItemList\n",
    "            .from_df(df, path=AUDIO, folder='train', suffix='.wav')\n",
    "            .random_split_by_pct()\n",
    "            .label_from_df()\n",
    "            .add_test(test_data)\n",
    "            .transform(get_transforms(n_fft=n_fft, n_hop=n_hop, \n",
    "                                      n_mels=n_mels, sample_rate=sample_rate))\n",
    "            .databunch(bs=bs, equal_lengths=False, tfms=[add_channel_dim], length_col=2))\n",
    "\n",
    "learn = create_cnn(data, models.resnet34, metrics=[error_rate, mapk])\n",
    "model_name = 'freesound_22khz_2048_512_128_resnet34'\n",
    "learn.fit_one_cycle(8)\n",
    "learn.save(model_name + '-stage-1')"
   ]
  },
  {
   "cell_type": "markdown",
   "metadata": {},
   "source": [
    "## resnet34 - 1024 - 256"
   ]
  },
  {
   "cell_type": "code",
   "execution_count": 29,
   "metadata": {},
   "outputs": [
    {
     "data": {
      "text/html": [
       "Total time: 13:55 <p><table style='width:375px; margin-bottom:10px'>\n",
       "  <tr>\n",
       "    <th>epoch</th>\n",
       "    <th>train_loss</th>\n",
       "    <th>valid_loss</th>\n",
       "    <th>error_rate</th>\n",
       "    <th>mapk</th>\n",
       "  </tr>\n",
       "  <tr>\n",
       "    <th>1</th>\n",
       "    <th>2.951219</th>\n",
       "    <th>2.603078</th>\n",
       "    <th>0.666843</th>\n",
       "    <th>0.432946</th>\n",
       "  </tr>\n",
       "  <tr>\n",
       "    <th>2</th>\n",
       "    <th>2.495505</th>\n",
       "    <th>2.336603</th>\n",
       "    <th>0.605069</th>\n",
       "    <th>0.504224</th>\n",
       "  </tr>\n",
       "  <tr>\n",
       "    <th>3</th>\n",
       "    <th>2.184844</th>\n",
       "    <th>2.015320</th>\n",
       "    <th>0.515312</th>\n",
       "    <th>0.594509</th>\n",
       "  </tr>\n",
       "  <tr>\n",
       "    <th>4</th>\n",
       "    <th>2.207912</th>\n",
       "    <th>1.717356</th>\n",
       "    <th>0.452482</th>\n",
       "    <th>0.646075</th>\n",
       "  </tr>\n",
       "  <tr>\n",
       "    <th>5</th>\n",
       "    <th>1.696416</th>\n",
       "    <th>1.637689</th>\n",
       "    <th>0.432418</th>\n",
       "    <th>0.665963</th>\n",
       "  </tr>\n",
       "  <tr>\n",
       "    <th>6</th>\n",
       "    <th>1.583125</th>\n",
       "    <th>1.474411</th>\n",
       "    <th>0.392819</th>\n",
       "    <th>0.698698</th>\n",
       "  </tr>\n",
       "  <tr>\n",
       "    <th>7</th>\n",
       "    <th>1.611961</th>\n",
       "    <th>1.513856</th>\n",
       "    <th>0.404435</th>\n",
       "    <th>0.689018</th>\n",
       "  </tr>\n",
       "  <tr>\n",
       "    <th>8</th>\n",
       "    <th>1.609997</th>\n",
       "    <th>1.533215</th>\n",
       "    <th>0.399683</th>\n",
       "    <th>0.692450</th>\n",
       "  </tr>\n",
       "</table>\n"
      ],
      "text/plain": [
       "<IPython.core.display.HTML object>"
      ]
     },
     "metadata": {},
     "output_type": "display_data"
    }
   ],
   "source": [
    "n_fft = 1024\n",
    "n_hop = 256\n",
    "n_mels = 128\n",
    "\n",
    "data = (AudioItemList\n",
    "            .from_df(df, path=AUDIO, folder='train', suffix='.wav')\n",
    "            .random_split_by_pct()\n",
    "            .label_from_df()\n",
    "            .add_test(test_data)\n",
    "            .transform(get_transforms(n_fft=n_fft, n_hop=n_hop, \n",
    "                                      n_mels=n_mels, sample_rate=sample_rate))\n",
    "            .databunch(bs=bs, equal_lengths=False, tfms=[add_channel_dim], length_col=2))\n",
    "\n",
    "learn = create_cnn(data, models.resnet34, metrics=[error_rate, mapk])\n",
    "model_name = 'freesound_22khz_1024_256_128_resnet34'\n",
    "learn.fit_one_cycle(8)\n",
    "learn.save(model_name + '-stage-1')"
   ]
  },
  {
   "cell_type": "markdown",
   "metadata": {},
   "source": [
    "## resnet34 - 2048 - 256"
   ]
  },
  {
   "cell_type": "code",
   "execution_count": 30,
   "metadata": {},
   "outputs": [
    {
     "data": {
      "text/html": [
       "Total time: 15:33 <p><table style='width:375px; margin-bottom:10px'>\n",
       "  <tr>\n",
       "    <th>epoch</th>\n",
       "    <th>train_loss</th>\n",
       "    <th>valid_loss</th>\n",
       "    <th>error_rate</th>\n",
       "    <th>mapk</th>\n",
       "  </tr>\n",
       "  <tr>\n",
       "    <th>1</th>\n",
       "    <th>2.906033</th>\n",
       "    <th>2.485327</th>\n",
       "    <th>0.648363</th>\n",
       "    <th>0.457937</th>\n",
       "  </tr>\n",
       "  <tr>\n",
       "    <th>2</th>\n",
       "    <th>2.554894</th>\n",
       "    <th>2.219502</th>\n",
       "    <th>0.565998</th>\n",
       "    <th>0.539070</th>\n",
       "  </tr>\n",
       "  <tr>\n",
       "    <th>3</th>\n",
       "    <th>2.269500</th>\n",
       "    <th>1.816130</th>\n",
       "    <th>0.497888</th>\n",
       "    <th>0.607620</th>\n",
       "  </tr>\n",
       "  <tr>\n",
       "    <th>4</th>\n",
       "    <th>2.098107</th>\n",
       "    <th>1.756359</th>\n",
       "    <th>0.485216</th>\n",
       "    <th>0.617916</th>\n",
       "  </tr>\n",
       "  <tr>\n",
       "    <th>5</th>\n",
       "    <th>1.827132</th>\n",
       "    <th>1.518036</th>\n",
       "    <th>0.420275</th>\n",
       "    <th>0.679250</th>\n",
       "  </tr>\n",
       "  <tr>\n",
       "    <th>6</th>\n",
       "    <th>1.730669</th>\n",
       "    <th>1.426610</th>\n",
       "    <th>0.391763</th>\n",
       "    <th>0.701250</th>\n",
       "  </tr>\n",
       "  <tr>\n",
       "    <th>7</th>\n",
       "    <th>1.801798</th>\n",
       "    <th>1.404487</th>\n",
       "    <th>0.375396</th>\n",
       "    <th>0.713745</th>\n",
       "  </tr>\n",
       "  <tr>\n",
       "    <th>8</th>\n",
       "    <th>1.582538</th>\n",
       "    <th>1.369801</th>\n",
       "    <th>0.364836</th>\n",
       "    <th>0.722985</th>\n",
       "  </tr>\n",
       "</table>\n"
      ],
      "text/plain": [
       "<IPython.core.display.HTML object>"
      ]
     },
     "metadata": {},
     "output_type": "display_data"
    }
   ],
   "source": [
    "n_fft = 2048\n",
    "n_hop = 256\n",
    "n_mels = 128\n",
    "\n",
    "data = (AudioItemList\n",
    "            .from_df(df, path=AUDIO, folder='train', suffix='.wav')\n",
    "            .random_split_by_pct()\n",
    "            .label_from_df()\n",
    "            .add_test(test_data)\n",
    "            .transform(get_transforms(n_fft=n_fft, n_hop=n_hop, \n",
    "                                      n_mels=n_mels, sample_rate=sample_rate))\n",
    "            .databunch(bs=bs, equal_lengths=False, tfms=[add_channel_dim], length_col=2))\n",
    "\n",
    "learn = create_cnn(data, models.resnet34, metrics=[error_rate, mapk])\n",
    "model_name = 'freesound_22khz_2048_256_128_resnet34'\n",
    "learn.fit_one_cycle(8)\n",
    "learn.save(model_name + '-stage-1')"
   ]
  },
  {
   "cell_type": "code",
   "execution_count": 31,
   "metadata": {},
   "outputs": [
    {
     "name": "stdout",
     "output_type": "stream",
     "text": [
      "LR Finder is complete, type {learner_name}.recorder.plot() to see the graph.\n"
     ]
    },
    {
     "data": {
      "image/png": "[encoded data removed]",
      "text/plain": [
       "<Figure size 432x288 with 1 Axes>"
      ]
     },
     "metadata": {
      "needs_background": "light"
     },
     "output_type": "display_data"
    }
   ],
   "source": [
    "learn.load(model_name + '-stage-1')\n",
    "learn.unfreeze()\n",
    "learn.lr_find(start_lr=1e-9, end_lr=1e-1)\n",
    "learn.recorder.plot()"
   ]
  },
  {
   "cell_type": "code",
   "execution_count": 32,
   "metadata": {},
   "outputs": [
    {
     "data": {
      "text/html": [
       "Total time: 19:21 <p><table style='width:375px; margin-bottom:10px'>\n",
       "  <tr>\n",
       "    <th>epoch</th>\n",
       "    <th>train_loss</th>\n",
       "    <th>valid_loss</th>\n",
       "    <th>error_rate</th>\n",
       "    <th>mapk</th>\n",
       "  </tr>\n",
       "  <tr>\n",
       "    <th>1</th>\n",
       "    <th>1.553384</th>\n",
       "    <th>1.315168</th>\n",
       "    <th>0.356389</th>\n",
       "    <th>0.730729</th>\n",
       "  </tr>\n",
       "  <tr>\n",
       "    <th>2</th>\n",
       "    <th>1.542918</th>\n",
       "    <th>1.209118</th>\n",
       "    <th>0.328933</th>\n",
       "    <th>0.754136</th>\n",
       "  </tr>\n",
       "  <tr>\n",
       "    <th>3</th>\n",
       "    <th>1.460527</th>\n",
       "    <th>1.124898</th>\n",
       "    <th>0.307286</th>\n",
       "    <th>0.769536</th>\n",
       "  </tr>\n",
       "  <tr>\n",
       "    <th>4</th>\n",
       "    <th>1.293655</th>\n",
       "    <th>1.057137</th>\n",
       "    <th>0.291975</th>\n",
       "    <th>0.784231</th>\n",
       "  </tr>\n",
       "  <tr>\n",
       "    <th>5</th>\n",
       "    <th>1.173551</th>\n",
       "    <th>1.003250</th>\n",
       "    <th>0.269799</th>\n",
       "    <th>0.800071</th>\n",
       "  </tr>\n",
       "  <tr>\n",
       "    <th>6</th>\n",
       "    <th>1.047678</th>\n",
       "    <th>1.000445</th>\n",
       "    <th>0.272967</th>\n",
       "    <th>0.794791</th>\n",
       "  </tr>\n",
       "  <tr>\n",
       "    <th>7</th>\n",
       "    <th>1.163771</th>\n",
       "    <th>0.974561</th>\n",
       "    <th>0.262936</th>\n",
       "    <th>0.804646</th>\n",
       "  </tr>\n",
       "  <tr>\n",
       "    <th>8</th>\n",
       "    <th>1.059619</th>\n",
       "    <th>0.973971</th>\n",
       "    <th>0.258712</th>\n",
       "    <th>0.807990</th>\n",
       "  </tr>\n",
       "</table>\n"
      ],
      "text/plain": [
       "<IPython.core.display.HTML object>"
      ]
     },
     "metadata": {},
     "output_type": "display_data"
    }
   ],
   "source": [
    "learn.load(model_name + '-stage-1')\n",
    "learn.fit_one_cycle(8, max_lr=slice(1e-6,1e-4))\n",
    "learn.save(model_name + '-stage-2')"
   ]
  },
  {
   "cell_type": "code",
   "execution_count": 33,
   "metadata": {},
   "outputs": [
    {
     "name": "stdout",
     "output_type": "stream",
     "text": [
      "LR Finder is complete, type {learner_name}.recorder.plot() to see the graph.\n"
     ]
    },
    {
     "data": {
      "image/png": "[encoded data removed]",
      "text/plain": [
       "<Figure size 432x288 with 1 Axes>"
      ]
     },
     "metadata": {
      "needs_background": "light"
     },
     "output_type": "display_data"
    }
   ],
   "source": [
    "learn.load(model_name + '-stage-2')\n",
    "learn.unfreeze()\n",
    "learn.lr_find(start_lr=1e-9, end_lr=1e-1)\n",
    "learn.recorder.plot()"
   ]
  },
  {
   "cell_type": "code",
   "execution_count": 34,
   "metadata": {},
   "outputs": [
    {
     "data": {
      "text/html": [
       "Total time: 17:52 <p><table style='width:375px; margin-bottom:10px'>\n",
       "  <tr>\n",
       "    <th>epoch</th>\n",
       "    <th>train_loss</th>\n",
       "    <th>valid_loss</th>\n",
       "    <th>error_rate</th>\n",
       "    <th>mapk</th>\n",
       "  </tr>\n",
       "  <tr>\n",
       "    <th>1</th>\n",
       "    <th>1.174689</th>\n",
       "    <th>0.973620</th>\n",
       "    <th>0.259240</th>\n",
       "    <th>0.806934</th>\n",
       "  </tr>\n",
       "  <tr>\n",
       "    <th>2</th>\n",
       "    <th>1.117773</th>\n",
       "    <th>1.015453</th>\n",
       "    <th>0.264520</th>\n",
       "    <th>0.802886</th>\n",
       "  </tr>\n",
       "  <tr>\n",
       "    <th>3</th>\n",
       "    <th>1.081110</th>\n",
       "    <th>0.963240</th>\n",
       "    <th>0.264520</th>\n",
       "    <th>0.802799</th>\n",
       "  </tr>\n",
       "  <tr>\n",
       "    <th>4</th>\n",
       "    <th>0.974628</th>\n",
       "    <th>0.900708</th>\n",
       "    <th>0.243400</th>\n",
       "    <th>0.820222</th>\n",
       "  </tr>\n",
       "  <tr>\n",
       "    <th>5</th>\n",
       "    <th>0.943679</th>\n",
       "    <th>0.874780</th>\n",
       "    <th>0.235480</th>\n",
       "    <th>0.825678</th>\n",
       "  </tr>\n",
       "  <tr>\n",
       "    <th>6</th>\n",
       "    <th>0.870723</th>\n",
       "    <th>0.897746</th>\n",
       "    <th>0.237592</th>\n",
       "    <th>0.820926</th>\n",
       "  </tr>\n",
       "  <tr>\n",
       "    <th>7</th>\n",
       "    <th>0.732778</th>\n",
       "    <th>0.861285</th>\n",
       "    <th>0.240232</th>\n",
       "    <th>0.820486</th>\n",
       "  </tr>\n",
       "  <tr>\n",
       "    <th>8</th>\n",
       "    <th>0.886630</th>\n",
       "    <th>0.953089</th>\n",
       "    <th>0.260296</th>\n",
       "    <th>0.804822</th>\n",
       "  </tr>\n",
       "</table>\n"
      ],
      "text/plain": [
       "<IPython.core.display.HTML object>"
      ]
     },
     "metadata": {},
     "output_type": "display_data"
    }
   ],
   "source": [
    "learn.load(model_name + '-stage-2')\n",
    "learn.fit_one_cycle(8, max_lr=slice(1e-6,1e-4))\n",
    "learn.save(model_name + '-stage-3')"
   ]
  },
  {
   "cell_type": "code",
   "execution_count": 35,
   "metadata": {},
   "outputs": [
    {
     "data": {
      "text/html": [
       "Total time: 17:29 <p><table style='width:375px; margin-bottom:10px'>\n",
       "  <tr>\n",
       "    <th>epoch</th>\n",
       "    <th>train_loss</th>\n",
       "    <th>valid_loss</th>\n",
       "    <th>error_rate</th>\n",
       "    <th>mapk</th>\n",
       "  </tr>\n",
       "  <tr>\n",
       "    <th>1</th>\n",
       "    <th>0.922924</th>\n",
       "    <th>0.866475</th>\n",
       "    <th>0.234425</th>\n",
       "    <th>0.824974</th>\n",
       "  </tr>\n",
       "  <tr>\n",
       "    <th>2</th>\n",
       "    <th>0.770003</th>\n",
       "    <th>0.855824</th>\n",
       "    <th>0.229145</th>\n",
       "    <th>0.829902</th>\n",
       "  </tr>\n",
       "  <tr>\n",
       "    <th>3</th>\n",
       "    <th>0.728749</th>\n",
       "    <th>0.922856</th>\n",
       "    <th>0.253960</th>\n",
       "    <th>0.810278</th>\n",
       "  </tr>\n",
       "  <tr>\n",
       "    <th>4</th>\n",
       "    <th>0.795028</th>\n",
       "    <th>0.833921</th>\n",
       "    <th>0.220697</th>\n",
       "    <th>0.834302</th>\n",
       "  </tr>\n",
       "  <tr>\n",
       "    <th>5</th>\n",
       "    <th>0.848252</th>\n",
       "    <th>0.817982</th>\n",
       "    <th>0.227561</th>\n",
       "    <th>0.832718</th>\n",
       "  </tr>\n",
       "  <tr>\n",
       "    <th>6</th>\n",
       "    <th>0.719057</th>\n",
       "    <th>0.824199</th>\n",
       "    <th>0.223865</th>\n",
       "    <th>0.834653</th>\n",
       "  </tr>\n",
       "  <tr>\n",
       "    <th>7</th>\n",
       "    <th>0.824779</th>\n",
       "    <th>0.924359</th>\n",
       "    <th>0.253960</th>\n",
       "    <th>0.811334</th>\n",
       "  </tr>\n",
       "  <tr>\n",
       "    <th>8</th>\n",
       "    <th>0.696125</th>\n",
       "    <th>0.855747</th>\n",
       "    <th>0.228089</th>\n",
       "    <th>0.829022</th>\n",
       "  </tr>\n",
       "</table>\n"
      ],
      "text/plain": [
       "<IPython.core.display.HTML object>"
      ]
     },
     "metadata": {},
     "output_type": "display_data"
    }
   ],
   "source": [
    "learn.load(model_name + '-stage-3')\n",
    "learn.fit_one_cycle(8, max_lr=slice(1e-7,1e-5))\n",
    "learn.save(model_name + '-stage-4')"
   ]
  },
  {
   "cell_type": "markdown",
   "metadata": {},
   "source": [
    "## Submissions"
   ]
  },
  {
   "cell_type": "code",
   "execution_count": 36,
   "metadata": {},
   "outputs": [],
   "source": [
    "def save_submission(learner, filename, tta=False):\n",
    "    fnames = [Path(f).name for f in learn.data.test_ds.x.items]\n",
    "    get_predsfn = learn.TTA if tta else learn.get_preds\n",
    "    preds = get_predsfn(ds_type=DatasetType.Test)[0]\n",
    "    top_3 = np.array(learn.data.classes)[np.argsort(-preds, axis=1)[:, :3]]\n",
    "    labels = [' '.join(list(x)) for x in top_3]\n",
    "    df = pd.DataFrame({'fname': fnames, 'label': labels})\n",
    "    df.to_csv(filename, index=False)\n",
    "    return df"
   ]
  },
  {
   "cell_type": "code",
   "execution_count": 37,
   "metadata": {},
   "outputs": [],
   "source": [
    "df1 = save_submission(learn, '22khz_2048_1024.csv', tta=False)"
   ]
  },
  {
   "cell_type": "code",
   "execution_count": 38,
   "metadata": {},
   "outputs": [
    {
     "data": {
      "text/html": [
       "Total time: 15:48 <p>"
      ],
      "text/plain": [
       "<IPython.core.display.HTML object>"
      ]
     },
     "metadata": {},
     "output_type": "display_data"
    }
   ],
   "source": [
    "df2 = save_submission(learn, '22khz_2048_1024_tta.csv', tta=True)"
   ]
  },
  {
   "cell_type": "markdown",
   "metadata": {},
   "source": [
    "### Rerun with ALL the data instead of 80%"
   ]
  },
  {
   "cell_type": "code",
   "execution_count": 52,
   "metadata": {},
   "outputs": [
    {
     "data": {
      "text/html": [
       "Total time: 16:35 <p><table style='width:375px; margin-bottom:10px'>\n",
       "  <tr>\n",
       "    <th>epoch</th>\n",
       "    <th>train_loss</th>\n",
       "    <th>valid_loss</th>\n",
       "    <th>error_rate</th>\n",
       "    <th>mapk</th>\n",
       "  </tr>\n",
       "  <tr>\n",
       "    <th>1</th>\n",
       "    <th>2.708381</th>\n",
       "    <th>1.842100</th>\n",
       "    <th>0.500000</th>\n",
       "    <th>0.500000</th>\n",
       "  </tr>\n",
       "  <tr>\n",
       "    <th>2</th>\n",
       "    <th>2.530927</th>\n",
       "    <th>1.962650</th>\n",
       "    <th>0.500000</th>\n",
       "    <th>0.500000</th>\n",
       "  </tr>\n",
       "  <tr>\n",
       "    <th>3</th>\n",
       "    <th>2.245543</th>\n",
       "    <th>2.199406</th>\n",
       "    <th>0.500000</th>\n",
       "    <th>0.500000</th>\n",
       "  </tr>\n",
       "  <tr>\n",
       "    <th>4</th>\n",
       "    <th>2.018651</th>\n",
       "    <th>2.350728</th>\n",
       "    <th>0.500000</th>\n",
       "    <th>0.500000</th>\n",
       "  </tr>\n",
       "  <tr>\n",
       "    <th>5</th>\n",
       "    <th>1.905158</th>\n",
       "    <th>2.896724</th>\n",
       "    <th>0.500000</th>\n",
       "    <th>0.500000</th>\n",
       "  </tr>\n",
       "  <tr>\n",
       "    <th>6</th>\n",
       "    <th>1.846546</th>\n",
       "    <th>2.585428</th>\n",
       "    <th>0.500000</th>\n",
       "    <th>0.500000</th>\n",
       "  </tr>\n",
       "  <tr>\n",
       "    <th>7</th>\n",
       "    <th>1.627691</th>\n",
       "    <th>2.171052</th>\n",
       "    <th>0.500000</th>\n",
       "    <th>0.500000</th>\n",
       "  </tr>\n",
       "  <tr>\n",
       "    <th>8</th>\n",
       "    <th>1.743388</th>\n",
       "    <th>1.992467</th>\n",
       "    <th>0.500000</th>\n",
       "    <th>0.500000</th>\n",
       "  </tr>\n",
       "</table>\n"
      ],
      "text/plain": [
       "<IPython.core.display.HTML object>"
      ]
     },
     "metadata": {},
     "output_type": "display_data"
    }
   ],
   "source": [
    "n_fft = 2048\n",
    "n_hop = 256\n",
    "n_mels = 128\n",
    "\n",
    "data = (AudioItemList\n",
    "            .from_df(df, path=AUDIO, folder='train', suffix='.wav')\n",
    "            .random_split_by_pct(0.0003)\n",
    "            .label_from_df()\n",
    "            .add_test(test_data)\n",
    "            .transform(get_transforms(n_fft=n_fft, n_hop=n_hop, \n",
    "                                      n_mels=n_mels, sample_rate=sample_rate))\n",
    "            .databunch(bs=bs, equal_lengths=False, tfms=[add_channel_dim], length_col=2))\n",
    "\n",
    "# valid_loss, error_rate, mapk do not mean anything here since validation set only has 2 files\n",
    "learn = create_cnn(data, models.resnet34, metrics=[error_rate, mapk])\n",
    "model_name = 'freesound_22khz_2048_256_128_resnet34_all'\n",
    "learn.fit_one_cycle(8)\n",
    "learn.save(model_name + '-stage-1')"
   ]
  },
  {
   "cell_type": "code",
   "execution_count": null,
   "metadata": {},
   "outputs": [],
   "source": [
    "# learn.fit_one_cycle(8)\n",
    "# learn.save(model_name + '-stage-1')"
   ]
  },
  {
   "cell_type": "code",
   "execution_count": 53,
   "metadata": {},
   "outputs": [
    {
     "data": {
      "text/html": [
       "Total time: 18:45 <p><table style='width:375px; margin-bottom:10px'>\n",
       "  <tr>\n",
       "    <th>epoch</th>\n",
       "    <th>train_loss</th>\n",
       "    <th>valid_loss</th>\n",
       "    <th>error_rate</th>\n",
       "    <th>mapk</th>\n",
       "  </tr>\n",
       "  <tr>\n",
       "    <th>1</th>\n",
       "    <th>1.532962</th>\n",
       "    <th>1.489428</th>\n",
       "    <th>0.500000</th>\n",
       "    <th>0.500000</th>\n",
       "  </tr>\n",
       "  <tr>\n",
       "    <th>2</th>\n",
       "    <th>1.587538</th>\n",
       "    <th>1.806791</th>\n",
       "    <th>0.500000</th>\n",
       "    <th>0.500000</th>\n",
       "  </tr>\n",
       "  <tr>\n",
       "    <th>3</th>\n",
       "    <th>1.307515</th>\n",
       "    <th>1.497111</th>\n",
       "    <th>0.500000</th>\n",
       "    <th>0.500000</th>\n",
       "  </tr>\n",
       "  <tr>\n",
       "    <th>4</th>\n",
       "    <th>1.228027</th>\n",
       "    <th>1.328031</th>\n",
       "    <th>0.500000</th>\n",
       "    <th>0.500000</th>\n",
       "  </tr>\n",
       "  <tr>\n",
       "    <th>5</th>\n",
       "    <th>1.199783</th>\n",
       "    <th>1.456486</th>\n",
       "    <th>0.500000</th>\n",
       "    <th>0.500000</th>\n",
       "  </tr>\n",
       "  <tr>\n",
       "    <th>6</th>\n",
       "    <th>1.177433</th>\n",
       "    <th>2.316342</th>\n",
       "    <th>0.500000</th>\n",
       "    <th>0.500000</th>\n",
       "  </tr>\n",
       "  <tr>\n",
       "    <th>7</th>\n",
       "    <th>1.081085</th>\n",
       "    <th>1.158355</th>\n",
       "    <th>0.500000</th>\n",
       "    <th>0.500000</th>\n",
       "  </tr>\n",
       "  <tr>\n",
       "    <th>8</th>\n",
       "    <th>1.060800</th>\n",
       "    <th>1.305310</th>\n",
       "    <th>0.500000</th>\n",
       "    <th>0.500000</th>\n",
       "  </tr>\n",
       "</table>\n"
      ],
      "text/plain": [
       "<IPython.core.display.HTML object>"
      ]
     },
     "metadata": {},
     "output_type": "display_data"
    }
   ],
   "source": [
    "learn.load(model_name + '-stage-1')\n",
    "learn.unfreeze()\n",
    "learn.fit_one_cycle(8, max_lr=slice(1e-6,1e-4))\n",
    "learn.save(model_name + '-stage-2')"
   ]
  },
  {
   "cell_type": "code",
   "execution_count": 54,
   "metadata": {},
   "outputs": [
    {
     "data": {
      "text/html": [
       "Total time: 18:48 <p><table style='width:375px; margin-bottom:10px'>\n",
       "  <tr>\n",
       "    <th>epoch</th>\n",
       "    <th>train_loss</th>\n",
       "    <th>valid_loss</th>\n",
       "    <th>error_rate</th>\n",
       "    <th>mapk</th>\n",
       "  </tr>\n",
       "  <tr>\n",
       "    <th>1</th>\n",
       "    <th>1.068715</th>\n",
       "    <th>2.256703</th>\n",
       "    <th>0.500000</th>\n",
       "    <th>0.500000</th>\n",
       "  </tr>\n",
       "  <tr>\n",
       "    <th>2</th>\n",
       "    <th>1.200928</th>\n",
       "    <th>2.092942</th>\n",
       "    <th>0.500000</th>\n",
       "    <th>0.500000</th>\n",
       "  </tr>\n",
       "  <tr>\n",
       "    <th>3</th>\n",
       "    <th>1.104527</th>\n",
       "    <th>2.124493</th>\n",
       "    <th>0.500000</th>\n",
       "    <th>0.500000</th>\n",
       "  </tr>\n",
       "  <tr>\n",
       "    <th>4</th>\n",
       "    <th>1.006735</th>\n",
       "    <th>2.194441</th>\n",
       "    <th>0.500000</th>\n",
       "    <th>0.500000</th>\n",
       "  </tr>\n",
       "  <tr>\n",
       "    <th>5</th>\n",
       "    <th>0.861247</th>\n",
       "    <th>2.047417</th>\n",
       "    <th>0.500000</th>\n",
       "    <th>0.500000</th>\n",
       "  </tr>\n",
       "  <tr>\n",
       "    <th>6</th>\n",
       "    <th>0.860661</th>\n",
       "    <th>1.576449</th>\n",
       "    <th>0.500000</th>\n",
       "    <th>0.500000</th>\n",
       "  </tr>\n",
       "  <tr>\n",
       "    <th>7</th>\n",
       "    <th>0.759145</th>\n",
       "    <th>2.056094</th>\n",
       "    <th>0.500000</th>\n",
       "    <th>0.500000</th>\n",
       "  </tr>\n",
       "  <tr>\n",
       "    <th>8</th>\n",
       "    <th>0.662251</th>\n",
       "    <th>1.990126</th>\n",
       "    <th>0.500000</th>\n",
       "    <th>0.500000</th>\n",
       "  </tr>\n",
       "</table>\n"
      ],
      "text/plain": [
       "<IPython.core.display.HTML object>"
      ]
     },
     "metadata": {},
     "output_type": "display_data"
    }
   ],
   "source": [
    "learn.load(model_name + '-stage-2')\n",
    "learn.fit_one_cycle(8, max_lr=slice(1e-6,1e-4))\n",
    "learn.save(model_name + '-stage-3')"
   ]
  },
  {
   "cell_type": "code",
   "execution_count": 55,
   "metadata": {},
   "outputs": [
    {
     "data": {
      "text/html": [
       "Total time: 18:35 <p><table style='width:375px; margin-bottom:10px'>\n",
       "  <tr>\n",
       "    <th>epoch</th>\n",
       "    <th>train_loss</th>\n",
       "    <th>valid_loss</th>\n",
       "    <th>error_rate</th>\n",
       "    <th>mapk</th>\n",
       "  </tr>\n",
       "  <tr>\n",
       "    <th>1</th>\n",
       "    <th>0.840829</th>\n",
       "    <th>1.744894</th>\n",
       "    <th>0.500000</th>\n",
       "    <th>0.500000</th>\n",
       "  </tr>\n",
       "  <tr>\n",
       "    <th>2</th>\n",
       "    <th>0.724277</th>\n",
       "    <th>2.375174</th>\n",
       "    <th>0.500000</th>\n",
       "    <th>0.500000</th>\n",
       "  </tr>\n",
       "  <tr>\n",
       "    <th>3</th>\n",
       "    <th>0.714209</th>\n",
       "    <th>1.596488</th>\n",
       "    <th>0.500000</th>\n",
       "    <th>0.500000</th>\n",
       "  </tr>\n",
       "  <tr>\n",
       "    <th>4</th>\n",
       "    <th>0.792656</th>\n",
       "    <th>1.476703</th>\n",
       "    <th>0.500000</th>\n",
       "    <th>0.500000</th>\n",
       "  </tr>\n",
       "  <tr>\n",
       "    <th>5</th>\n",
       "    <th>0.867120</th>\n",
       "    <th>2.163600</th>\n",
       "    <th>0.500000</th>\n",
       "    <th>0.500000</th>\n",
       "  </tr>\n",
       "  <tr>\n",
       "    <th>6</th>\n",
       "    <th>0.816310</th>\n",
       "    <th>1.577909</th>\n",
       "    <th>0.500000</th>\n",
       "    <th>0.500000</th>\n",
       "  </tr>\n",
       "  <tr>\n",
       "    <th>7</th>\n",
       "    <th>0.744055</th>\n",
       "    <th>2.450953</th>\n",
       "    <th>0.500000</th>\n",
       "    <th>0.500000</th>\n",
       "  </tr>\n",
       "  <tr>\n",
       "    <th>8</th>\n",
       "    <th>0.707859</th>\n",
       "    <th>2.115097</th>\n",
       "    <th>0.500000</th>\n",
       "    <th>0.500000</th>\n",
       "  </tr>\n",
       "</table>\n"
      ],
      "text/plain": [
       "<IPython.core.display.HTML object>"
      ]
     },
     "metadata": {},
     "output_type": "display_data"
    }
   ],
   "source": [
    "learn.load(model_name + '-stage-3')\n",
    "learn.fit_one_cycle(8, max_lr=slice(1e-7,1e-5))\n",
    "learn.save(model_name + '-stage-4')"
   ]
  },
  {
   "cell_type": "code",
   "execution_count": 56,
   "metadata": {},
   "outputs": [],
   "source": [
    "df1 = save_submission(learn, '22khz_2048_256_128_all.csv', tta=False)"
   ]
  },
  {
   "cell_type": "code",
   "execution_count": 57,
   "metadata": {},
   "outputs": [
    {
     "data": {
      "text/html": [
       "Total time: 14:53 <p>"
      ],
      "text/plain": [
       "<IPython.core.display.HTML object>"
      ]
     },
     "metadata": {},
     "output_type": "display_data"
    }
   ],
   "source": [
    "df2 = save_submission(learn, '22khz_2048_256_128_all_tta.csv', tta=True)"
   ]
  },
  {
   "cell_type": "markdown",
   "metadata": {},
   "source": [
    "### Tests with just STFT"
   ]
  },
  {
   "cell_type": "code",
   "execution_count": null,
   "metadata": {},
   "outputs": [],
   "source": [
    "# def get_transforms_no_mel(n_fft=1024, n_hop=256, n_mels=96, sample_rate=16000):\n",
    "#     window = torch.hann_window(n_fft)\n",
    "#     to_db = ToDecibels(power=2, ref=ref, top_db=top_db, normalized=True)\n",
    "\n",
    "#     def _train_tfm(x):\n",
    "#         if x.shape[0] == 0:\n",
    "#             x = torch.zeros(n_hop * 2)\n",
    "#         x = rand_crop(x)\n",
    "#         X = stft(x, n_fft=n_fft, hop_length=n_hop, window=window)\n",
    "#         power = power_spectrum(X)\n",
    "#         power = random_stretch_mags(power)\n",
    "#         power.unsqueeze_(0)\n",
    "#         mel_power = to_mel(power.transpose(1,2))\n",
    "#         power_db = to_db(mel_power).squeeze_(0)\n",
    "#         return mel_power_db\n",
    "    \n",
    "#     def _valid_tfm(x):\n",
    "#         if x.shape[0] == 0:\n",
    "#             x = torch.zeros(n_hop * 2)\n",
    "#         X = stft(x, n_fft=n_fft, hop_length=n_hop, window=window)\n",
    "#         power = power_spectrum(X).unsqueeze_(0)\n",
    "#         mel_power = to_mel(power.transpose(1,2))\n",
    "#         mel_power_db = to_db(mel_power).squeeze_(0)\n",
    "#         return mel_power_db\n",
    "    \n",
    "#     return [_train_tfm],[_valid_tfm]"
   ]
  }
 ],
 "metadata": {
  "kernelspec": {
   "display_name": "Python 3",
   "language": "python",
   "name": "python3"
  },
  "language_info": {
   "codemirror_mode": {
    "name": "ipython",
    "version": 3
   },
   "file_extension": ".py",
   "mimetype": "text/x-python",
   "name": "python",
   "nbconvert_exporter": "python",
   "pygments_lexer": "ipython3",
   "version": "3.6.6"
  }
 },
 "nbformat": 4,
 "nbformat_minor": 2
}
