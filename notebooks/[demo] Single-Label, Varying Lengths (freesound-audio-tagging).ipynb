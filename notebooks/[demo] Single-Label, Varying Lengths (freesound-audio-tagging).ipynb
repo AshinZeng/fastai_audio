{
 "cells": [
  {
   "cell_type": "code",
   "execution_count": null,
   "metadata": {},
   "outputs": [],
   "source": [
    "%reload_ext autoreload\n",
    "%autoreload 2\n",
    "%matplotlib inline"
   ]
  },
  {
   "cell_type": "code",
   "execution_count": null,
   "metadata": {},
   "outputs": [],
   "source": [
    "import fastai\n",
    "fastai.__version__"
   ]
  },
  {
   "cell_type": "code",
   "execution_count": null,
   "metadata": {},
   "outputs": [],
   "source": [
    "from fastai import *\n",
    "from fastai_audio import *\n",
    "from fastai.vision import models"
   ]
  },
  {
   "cell_type": "code",
   "execution_count": null,
   "metadata": {},
   "outputs": [],
   "source": [
    "DATA = Path('data')\n",
    "AUDIO = DATA/'freesound/audio_44KHz'\n",
    "CSV = DATA/'freesound/audio_44KHz/train.csv'"
   ]
  },
  {
   "cell_type": "code",
   "execution_count": null,
   "metadata": {},
   "outputs": [],
   "source": [
    "df = pd.read_csv(CSV)\n",
    "df['fname'] = df['fname'].str[:-4]\n",
    "df.head(3)"
   ]
  },
  {
   "cell_type": "code",
   "execution_count": null,
   "metadata": {},
   "outputs": [],
   "source": [
    "n_fft = 2048\n",
    "n_hop = 512\n",
    "n_mels = 128\n",
    "sr = 44100\n",
    "top_db = 60.0\n",
    "\n",
    "bs = 16"
   ]
  },
  {
   "cell_type": "code",
   "execution_count": null,
   "metadata": {},
   "outputs": [],
   "source": [
    "mel_spec_tfm = Compose([\n",
    "    Spectrogram(n_fft=n_fft, n_hop=n_hop),\n",
    "    FrequencyToMel(n_mels=n_mels, n_fft=n_fft, sr=sr, f_min=0., f_max=None),\n",
    "    SpectrumToDb(ref='max', top_db=top_db, normalized=True)\n",
    "])\n",
    "\n",
    "def inputs_tfm(inputs):\n",
    "    x, y = inputs\n",
    "    # 1d time domain signal to 2d log melspectrogram (frequency domain)\n",
    "    x = mel_spec_tfm(x)\n",
    "    # add channel dimension\n",
    "    x.unsqueeze_(1)\n",
    "    return x, y\n",
    "\n",
    "tfms = [inputs_tfm]"
   ]
  },
  {
   "cell_type": "code",
   "execution_count": null,
   "metadata": {},
   "outputs": [],
   "source": [
    "# subset of df\n",
    "df = df.iloc[:32]\n",
    "data = (AudioItemList\n",
    "            .from_df(df, path=AUDIO, folder='train', suffix='.wav')\n",
    "            .random_split_by_pct()\n",
    "            .label_from_df()\n",
    "            .databunch(bs=bs, tfms=tfms, equal_lengths=False))"
   ]
  },
  {
   "cell_type": "code",
   "execution_count": null,
   "metadata": {},
   "outputs": [],
   "source": [
    "xs, ys = data.train_dl.one_batch()\n",
    "xs.shape, ys.shape, xs.min(), xs.max()"
   ]
  },
  {
   "cell_type": "code",
   "execution_count": null,
   "metadata": {},
   "outputs": [],
   "source": [
    "model_name = 'freesound_44khz_2048_512_128_60db_v1'\n",
    "\n",
    "learn = create_cnn(data, models.resnet18, metrics=[error_rate, mapk])"
   ]
  },
  {
   "cell_type": "code",
   "execution_count": null,
   "metadata": {},
   "outputs": [],
   "source": [
    "learn.fit_one_cycle(8)\n",
    "learn.save(model_name + '-stage-1')"
   ]
  },
  {
   "cell_type": "code",
   "execution_count": null,
   "metadata": {},
   "outputs": [],
   "source": []
  }
 ],
 "metadata": {
  "kernelspec": {
   "display_name": "Python 3",
   "language": "python",
   "name": "python3"
  },
  "language_info": {
   "codemirror_mode": {
    "name": "ipython",
    "version": 3
   },
   "file_extension": ".py",
   "mimetype": "text/x-python",
   "name": "python",
   "nbconvert_exporter": "python",
   "pygments_lexer": "ipython3",
   "version": "3.6.7"
  }
 },
 "nbformat": 4,
 "nbformat_minor": 2
}
