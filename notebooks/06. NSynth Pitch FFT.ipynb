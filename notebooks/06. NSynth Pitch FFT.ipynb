{
 "cells": [
  {
   "cell_type": "code",
   "execution_count": null,
   "metadata": {},
   "outputs": [],
   "source": [
    "%reload_ext autoreload\n",
    "%autoreload 2\n",
    "%matplotlib inline"
   ]
  },
  {
   "cell_type": "code",
   "execution_count": null,
   "metadata": {},
   "outputs": [],
   "source": [
    "import fastai\n",
    "fastai.__version__"
   ]
  },
  {
   "cell_type": "code",
   "execution_count": null,
   "metadata": {},
   "outputs": [],
   "source": [
    "from fastai import *\n",
    "from fastai_audio import *"
   ]
  },
  {
   "cell_type": "code",
   "execution_count": null,
   "metadata": {},
   "outputs": [],
   "source": [
    "DATA = Path('data')\n",
    "NSYNTH_AUDIO = DATA/'nsynth_audio' # contains train and valid folders"
   ]
  },
  {
   "cell_type": "code",
   "execution_count": null,
   "metadata": {},
   "outputs": [],
   "source": [
    "LABEL_DIR = Path('tmp_labels')\n",
    "GUITAR_TRN = LABEL_DIR/'train_guitar_clean_40_88.csv'\n",
    "GUITAR_VAL = LABEL_DIR/'valid_guitar_clean_40_88.csv'\n",
    "GUITAR_TST = LABEL_DIR/'test_guitar_clean_40_88.csv'"
   ]
  },
  {
   "cell_type": "code",
   "execution_count": null,
   "metadata": {},
   "outputs": [],
   "source": [
    "trn_df, val_df, tst_df = [pd.read_csv(CSV) for CSV in [GUITAR_TRN, GUITAR_VAL, GUITAR_TST]]\n",
    "trn_df.head(2)"
   ]
  },
  {
   "cell_type": "code",
   "execution_count": null,
   "metadata": {},
   "outputs": [],
   "source": [
    "len(trn_df), len(val_df), len(tst_df)"
   ]
  },
  {
   "cell_type": "code",
   "execution_count": null,
   "metadata": {},
   "outputs": [],
   "source": [
    "trn_list, val_list, tst_list = [AudioItemList.from_df(df, path=NSYNTH_AUDIO, \n",
    "                                                      folder=folder, suffix='.wav')\n",
    "                                for df, folder in zip([trn_df, val_df, tst_df], \n",
    "                                                      ['train', 'valid', 'test'])]\n",
    "len(trn_list), len(val_list), len(tst_list)"
   ]
  },
  {
   "cell_type": "code",
   "execution_count": null,
   "metadata": {},
   "outputs": [],
   "source": [
    "def get_frame(x, start=1024, frame_len=1024):\n",
    "    return x[start:start+frame_len]\n",
    "\n",
    "def batch_fft(inputs):\n",
    "    xs, ys = inputs\n",
    "    xs = torch.rfft(xs, 1, normalized=True).pow_(2.0).sum(-1)\n",
    "    return xs, ys"
   ]
  },
  {
   "cell_type": "code",
   "execution_count": null,
   "metadata": {},
   "outputs": [],
   "source": [
    "\n",
    "# n_fft = 512 \n",
    "# n_hop = 256\n",
    "# n_mels = 64\n",
    "# sample_rate = 16000\n",
    "# ref = 'max'\n",
    "# top_db = 50.0\n",
    "\n",
    "bs = 32\n",
    "\n",
    "tfm_list = [get_frame]\n",
    "tfms = (tfm_list, tfm_list) # train, valid tfms \n",
    "\n",
    "batch_tfms = [batch_fft]\n",
    "\n",
    "data = (ItemLists(NSYNTH_AUDIO, trn_list, val_list)\n",
    "            .label_from_df('pitch')\n",
    "            .add_test(tst_list)\n",
    "            .transform(tfms)\n",
    "            .databunch(bs=bs, tfms=batch_tfms))\n",
    "xs, ys = data.one_batch()\n",
    "xs.shape, ys.shape, xs.min(), xs.max()"
   ]
  },
  {
   "cell_type": "code",
   "execution_count": null,
   "metadata": {},
   "outputs": [],
   "source": [
    "class SimpleModel(nn.Module):\n",
    "    def __init__(self, n_classes):\n",
    "        super().__init__()\n",
    "        self.layers = nn.Sequential(\n",
    "            *bn_drop_lin(1024, 1024, actn=nn.ReLU(inplace=True)),\n",
    "            *bn_drop_lin(1024, 512, actn=nn.ReLU(inplace=True)),\n",
    "            *bn_drop_lin(512, n_classes, actn=None),\n",
    "        )\n",
    "    def forward(self, x):\n",
    "        return self.layers(x)"
   ]
  },
  {
   "cell_type": "code",
   "execution_count": null,
   "metadata": {},
   "outputs": [],
   "source": [
    "model = SimpleModel(data.c)\n",
    "learn = Learner(data, model, metrics=[accuracy])\n",
    "learn.summary()"
   ]
  },
  {
   "cell_type": "code",
   "execution_count": null,
   "metadata": {},
   "outputs": [],
   "source": [
    "model_name = 'pitch_frame_v1'\n",
    "learn.fit_one_cycle(4)\n",
    "learn.save(model_name + '-stage-1')"
   ]
  },
  {
   "cell_type": "code",
   "execution_count": null,
   "metadata": {},
   "outputs": [],
   "source": [
    "learn.load(model_name + '-stage-1')\n",
    "learn.lr_find()\n",
    "learn.recorder.plot()"
   ]
  },
  {
   "cell_type": "code",
   "execution_count": null,
   "metadata": {},
   "outputs": [],
   "source": [
    "learn.load(model_name + '-stage-1')\n",
    "learn.fit_one_cycle(8, max_lr=1e-3)\n",
    "learn.save(model_name + '-stage-2')"
   ]
  },
  {
   "cell_type": "code",
   "execution_count": null,
   "metadata": {},
   "outputs": [],
   "source": [
    "learn.load(model_name + '-stage-2')\n",
    "learn.lr_find()\n",
    "learn.recorder.plot()"
   ]
  },
  {
   "cell_type": "code",
   "execution_count": null,
   "metadata": {},
   "outputs": [],
   "source": [
    "learn.load(model_name + '-stage-2')\n",
    "learn.fit_one_cycle(8, max_lr=1e-3)\n",
    "learn.save(model_name + '-stage-3')"
   ]
  },
  {
   "cell_type": "code",
   "execution_count": null,
   "metadata": {},
   "outputs": [],
   "source": [
    "learn.load(model_name + '-stage-3')\n",
    "learn.lr_find(start_lr=1e-9, end_lr=1)\n",
    "learn.recorder.plot()"
   ]
  },
  {
   "cell_type": "code",
   "execution_count": null,
   "metadata": {},
   "outputs": [],
   "source": [
    "learn.load(model_name + '-stage-3')\n",
    "learn.fit_one_cycle(8, max_lr=1e-4)\n",
    "learn.save(model_name + '-stage-4')"
   ]
  },
  {
   "cell_type": "code",
   "execution_count": null,
   "metadata": {},
   "outputs": [],
   "source": [
    "learn.load(model_name + '-stage-3')\n",
    "learn.fit_one_cycle(8, max_lr=1e-5)\n",
    "learn.save(model_name + '-stage-4')"
   ]
  },
  {
   "cell_type": "code",
   "execution_count": null,
   "metadata": {},
   "outputs": [],
   "source": [
    "accuracy(*learn.get_preds())"
   ]
  },
  {
   "cell_type": "code",
   "execution_count": null,
   "metadata": {},
   "outputs": [],
   "source": [
    "n_errors = round(float(1 - accuracy(*learn.get_preds(DatasetType.Train))) * len(trn_list))\n",
    "print(n_errors, 'errors')"
   ]
  },
  {
   "cell_type": "code",
   "execution_count": null,
   "metadata": {},
   "outputs": [],
   "source": []
  }
 ],
 "metadata": {
  "kernelspec": {
   "display_name": "Python 3",
   "language": "python",
   "name": "python3"
  },
  "language_info": {
   "codemirror_mode": {
    "name": "ipython",
    "version": 3
   },
   "file_extension": ".py",
   "mimetype": "text/x-python",
   "name": "python",
   "nbconvert_exporter": "python",
   "pygments_lexer": "ipython3",
   "version": "3.6.7"
  }
 },
 "nbformat": 4,
 "nbformat_minor": 2
}
