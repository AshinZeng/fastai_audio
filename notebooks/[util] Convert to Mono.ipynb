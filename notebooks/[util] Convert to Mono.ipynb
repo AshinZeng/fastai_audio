{
 "cells": [
  {
   "cell_type": "code",
   "execution_count": null,
   "metadata": {},
   "outputs": [],
   "source": [
    "from pathlib import Path\n",
    "from utils import convert_to_mono"
   ]
  },
  {
   "cell_type": "code",
   "execution_count": null,
   "metadata": {},
   "outputs": [],
   "source": [
    "DATA = Path('data')\n",
    "\n",
    "AUDIOSET = DATA/'audioset'\n",
    "AUDIOSET_TRAIN = AUDIOSET/'train'\n",
    "AUDIOSET_VALID = AUDIOSET/'valid'\n",
    "\n",
    "AUDIOSET_MONO = DATA/'audioset_mono'\n",
    "AUDIOSET_MONO_TRAIN = AUDIOSET_MONO/'train'\n",
    "AUDIOSET_MONO_VALID = AUDIOSET_MONO/'valid'"
   ]
  },
  {
   "cell_type": "code",
   "execution_count": null,
   "metadata": {},
   "outputs": [],
   "source": [
    "convert_to_mono(AUDIOSET_TRAIN, AUDIOSET_MONO_TRAIN)"
   ]
  },
  {
   "cell_type": "code",
   "execution_count": null,
   "metadata": {},
   "outputs": [],
   "source": [
    "convert_to_mono(AUDIOSET_VALID, AUDIOSET_MONO_VALID)"
   ]
  }
 ],
 "metadata": {
  "kernelspec": {
   "display_name": "Python 3",
   "language": "python",
   "name": "python3"
  },
  "language_info": {
   "codemirror_mode": {
    "name": "ipython",
    "version": 3
   },
   "file_extension": ".py",
   "mimetype": "text/x-python",
   "name": "python",
   "nbconvert_exporter": "python",
   "pygments_lexer": "ipython3",
   "version": "3.6.7"
  }
 },
 "nbformat": 4,
 "nbformat_minor": 2
}
