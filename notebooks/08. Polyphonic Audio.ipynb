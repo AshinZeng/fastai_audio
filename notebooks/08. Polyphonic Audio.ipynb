{
 "cells": [
  {
   "cell_type": "code",
   "execution_count": 1,
   "metadata": {},
   "outputs": [],
   "source": [
    "%reload_ext autoreload\n",
    "%autoreload 2\n",
    "%matplotlib inline"
   ]
  },
  {
   "cell_type": "code",
   "execution_count": 2,
   "metadata": {},
   "outputs": [
    {
     "data": {
      "text/plain": [
       "'1.0.37'"
      ]
     },
     "execution_count": 2,
     "metadata": {},
     "output_type": "execute_result"
    }
   ],
   "source": [
    "import fastai\n",
    "fastai.__version__"
   ]
  },
  {
   "cell_type": "code",
   "execution_count": 3,
   "metadata": {},
   "outputs": [],
   "source": [
    "from fastai import *\n",
    "from fastai_audio import *"
   ]
  },
  {
   "cell_type": "code",
   "execution_count": 4,
   "metadata": {},
   "outputs": [],
   "source": [
    "import librosa\n",
    "from utils import read_file\n",
    "from tqdm import tqdm_notebook as tqdm"
   ]
  },
  {
   "cell_type": "code",
   "execution_count": 5,
   "metadata": {},
   "outputs": [],
   "source": [
    "DATA = Path('data')\n",
    "NSYNTH_AUDIO = DATA/'nsynth_audio' # contains train and valid folders"
   ]
  },
  {
   "cell_type": "code",
   "execution_count": 6,
   "metadata": {},
   "outputs": [],
   "source": [
    "def save_frames_df(df, name):\n",
    "    frames_np = np.stack(df['frame'].values)\n",
    "    np.save(name + '.npy', frames_np)\n",
    "    df[['note_str', 'pitch']].to_csv(name + '.csv', index=False)\n",
    "    \n",
    "def load_frames_df(name):\n",
    "    df = pd.read_csv(name + '.csv')\n",
    "    frames_np = np.load(name + '.npy')\n",
    "    list_frames = np.array_split(frames_np, frames_np.shape[0])\n",
    "    df['frame'] = pd.Series(map(np.squeeze, list_frames))\n",
    "    return df"
   ]
  },
  {
   "cell_type": "code",
   "execution_count": 7,
   "metadata": {},
   "outputs": [],
   "source": [
    "trn_frames = load_frames_df('trn_frames_1024')\n",
    "val_frames = load_frames_df('val_frames_1024')\n",
    "tst_frames = load_frames_df('tst_frames_1024')"
   ]
  },
  {
   "cell_type": "code",
   "execution_count": 67,
   "metadata": {},
   "outputs": [
    {
     "data": {
      "text/plain": [
       "(440752, 32098, 10040)"
      ]
     },
     "execution_count": 67,
     "metadata": {},
     "output_type": "execute_result"
    }
   ],
   "source": [
    "len(trn_frames), len(val_frames), len(tst_frames)"
   ]
  },
  {
   "cell_type": "code",
   "execution_count": 9,
   "metadata": {},
   "outputs": [
    {
     "data": {
      "text/html": [
       "<div>\n",
       "<style scoped>\n",
       "    .dataframe tbody tr th:only-of-type {\n",
       "        vertical-align: middle;\n",
       "    }\n",
       "\n",
       "    .dataframe tbody tr th {\n",
       "        vertical-align: top;\n",
       "    }\n",
       "\n",
       "    .dataframe thead th {\n",
       "        text-align: right;\n",
       "    }\n",
       "</style>\n",
       "<table border=\"1\" class=\"dataframe\">\n",
       "  <thead>\n",
       "    <tr style=\"text-align: right;\">\n",
       "      <th></th>\n",
       "      <th>note_str</th>\n",
       "      <th>pitch</th>\n",
       "      <th>frame</th>\n",
       "    </tr>\n",
       "  </thead>\n",
       "  <tbody>\n",
       "    <tr>\n",
       "      <th>0</th>\n",
       "      <td>guitar_acoustic_001-082-050</td>\n",
       "      <td>82</td>\n",
       "      <td>[0.0, 0.0, 0.0, 0.0, 0.0, 0.0, 0.0, 0.0, 0.0, ...</td>\n",
       "    </tr>\n",
       "    <tr>\n",
       "      <th>1</th>\n",
       "      <td>guitar_acoustic_001-082-050</td>\n",
       "      <td>82</td>\n",
       "      <td>[0.20001832, 0.22281563, 0.18192084, 0.0400402...</td>\n",
       "    </tr>\n",
       "    <tr>\n",
       "      <th>2</th>\n",
       "      <td>guitar_acoustic_001-082-050</td>\n",
       "      <td>82</td>\n",
       "      <td>[-0.036896877, 0.047364727, 0.16974396, 0.2450...</td>\n",
       "    </tr>\n",
       "  </tbody>\n",
       "</table>\n",
       "</div>"
      ],
      "text/plain": [
       "                      note_str  pitch  \\\n",
       "0  guitar_acoustic_001-082-050     82   \n",
       "1  guitar_acoustic_001-082-050     82   \n",
       "2  guitar_acoustic_001-082-050     82   \n",
       "\n",
       "                                               frame  \n",
       "0  [0.0, 0.0, 0.0, 0.0, 0.0, 0.0, 0.0, 0.0, 0.0, ...  \n",
       "1  [0.20001832, 0.22281563, 0.18192084, 0.0400402...  \n",
       "2  [-0.036896877, 0.047364727, 0.16974396, 0.2450...  "
      ]
     },
     "execution_count": 9,
     "metadata": {},
     "output_type": "execute_result"
    }
   ],
   "source": [
    "# df = trn_frames.iloc[:10].copy()\n",
    "df = trn_frames.copy()\n",
    "# df = df.sample(frac=1).reset_index(drop=True)\n",
    "df = df.iloc[:10000]\n",
    "df.head(3)"
   ]
  },
  {
   "cell_type": "code",
   "execution_count": 14,
   "metadata": {},
   "outputs": [],
   "source": [
    "def normalize(signal, amp=1.0):\n",
    "    return signal / np.abs(signal).max() * amp"
   ]
  },
  {
   "cell_type": "code",
   "execution_count": 60,
   "metadata": {},
   "outputs": [],
   "source": [
    "def poly_frames(df, max_notes=4):\n",
    "    df = df.copy()\n",
    "    new_rows = []\n",
    "    while True:\n",
    "        try:\n",
    "            n_notes = np.random.randint(1, max_notes+1)\n",
    "            rows = []\n",
    "            pitches = []\n",
    "            for i in range(n_notes):\n",
    "                row = df[~df['pitch'].isin(pitches)].sample(1)\n",
    "                df.drop(row.index, inplace=True)\n",
    "                rows.append(row)\n",
    "                pitches.append(row.iloc[0]['pitch'])\n",
    "            rows_df = pd.concat(rows)\n",
    "            pitches = rows_df['pitch'].values\n",
    "            frames = np.stack(rows_df['frame'].values)\n",
    "            frame_sum = frames.sum(axis=0)\n",
    "            max_amp = np.max(np.abs(frames))\n",
    "            frame = normalize(frame_sum, max_amp)\n",
    "\n",
    "            new_row = (pitches, len(pitches), frame)\n",
    "            new_rows.append(new_row)\n",
    "        except Exception as e:\n",
    "            break\n",
    "              \n",
    "    df_poly = pd.DataFrame(new_rows, columns=['pitches', 'n_pitches', 'frame'])\n",
    "    return df_poly"
   ]
  },
  {
   "cell_type": "code",
   "execution_count": 104,
   "metadata": {},
   "outputs": [],
   "source": [
    "def poly_frames_chunks(df, max_notes=4, chunk_size=10000):\n",
    "    df_all = df.copy()\n",
    "    new_rows = []\n",
    "    \n",
    "    n_chunks = 0\n",
    "    while len(df_all) > 0:\n",
    "        df = df_all.iloc[:chunk_size]\n",
    "        df_all = df_all.iloc[chunk_size:]\n",
    "        while True:\n",
    "            n_notes = np.random.randint(1, max_notes+1)\n",
    "            rows = []\n",
    "            pitches = []\n",
    "            for i in range(n_notes):\n",
    "                valid_rows = df[~df['pitch'].isin(pitches)]\n",
    "                # all the remaining rows are the same pitch.. \n",
    "                if len(valid_rows) == 0:\n",
    "                    break\n",
    "                row = valid_rows.sample(1)\n",
    "                df.drop(row.index, inplace=True)\n",
    "                rows.append(row)\n",
    "                pitches.append(row.iloc[0]['pitch'])\n",
    "            # no rows were built\n",
    "            if len(rows) == 0:\n",
    "                break\n",
    "            rows_df = pd.concat(rows)\n",
    "            pitches = rows_df['pitch'].values\n",
    "            frames = np.stack(rows_df['frame'].values)\n",
    "            frame_sum = frames.sum(axis=0)\n",
    "            max_amp = np.max(np.abs(frames))\n",
    "            frame = normalize(frame_sum, max_amp)\n",
    "\n",
    "            new_row = (pitches, len(pitches), frame)\n",
    "            new_rows.append(new_row)\n",
    "\n",
    "        n_chunks += 1\n",
    "        print(\"Completed {} chunks\".format(n_chunks))\n",
    "                              \n",
    "    df_poly = pd.DataFrame(new_rows, columns=['pitches', 'n_pitches', 'frame'])\n",
    "    return df_poly"
   ]
  },
  {
   "cell_type": "code",
   "execution_count": 109,
   "metadata": {},
   "outputs": [
    {
     "name": "stdout",
     "output_type": "stream",
     "text": [
      "Completed 1 chunks\n",
      "Completed 2 chunks\n",
      "Completed 3 chunks\n",
      "Completed 4 chunks\n",
      "Completed 5 chunks\n",
      "Completed 6 chunks\n",
      "Completed 7 chunks\n",
      "Completed 8 chunks\n",
      "Completed 9 chunks\n",
      "Completed 10 chunks\n",
      "Completed 11 chunks\n",
      "Completed 12 chunks\n",
      "Completed 13 chunks\n",
      "Completed 14 chunks\n",
      "Completed 15 chunks\n",
      "Completed 16 chunks\n",
      "Completed 17 chunks\n",
      "Completed 18 chunks\n",
      "Completed 19 chunks\n",
      "Completed 20 chunks\n",
      "Completed 21 chunks\n",
      "Completed 22 chunks\n",
      "Completed 23 chunks\n",
      "Completed 24 chunks\n",
      "Completed 25 chunks\n",
      "Completed 26 chunks\n",
      "Completed 27 chunks\n",
      "Completed 28 chunks\n",
      "Completed 29 chunks\n",
      "Completed 30 chunks\n",
      "Completed 31 chunks\n",
      "Completed 32 chunks\n",
      "Completed 33 chunks\n",
      "Completed 34 chunks\n",
      "Completed 35 chunks\n",
      "Completed 36 chunks\n",
      "Completed 37 chunks\n",
      "Completed 38 chunks\n",
      "Completed 39 chunks\n",
      "Completed 40 chunks\n",
      "Completed 41 chunks\n",
      "Completed 42 chunks\n",
      "Completed 43 chunks\n",
      "Completed 44 chunks\n",
      "Completed 45 chunks\n"
     ]
    }
   ],
   "source": [
    "trn_frames_poly_c = poly_frames_chunks(trn_frames)"
   ]
  },
  {
   "cell_type": "code",
   "execution_count": 110,
   "metadata": {},
   "outputs": [],
   "source": [
    "save_poly_frames_df(trn_frames_poly_c, 'trn_frames_poly_1024_4')"
   ]
  },
  {
   "cell_type": "code",
   "execution_count": 111,
   "metadata": {},
   "outputs": [
    {
     "data": {
      "text/plain": [
       "176228"
      ]
     },
     "execution_count": 111,
     "metadata": {},
     "output_type": "execute_result"
    }
   ],
   "source": [
    "len(trn_frames_poly_c)"
   ]
  },
  {
   "cell_type": "code",
   "execution_count": 112,
   "metadata": {},
   "outputs": [
    {
     "data": {
      "text/plain": [
       "440752"
      ]
     },
     "execution_count": 112,
     "metadata": {},
     "output_type": "execute_result"
    }
   ],
   "source": [
    "len(trn_frames)"
   ]
  },
  {
   "cell_type": "code",
   "execution_count": 113,
   "metadata": {},
   "outputs": [
    {
     "data": {
      "text/plain": [
       "440752"
      ]
     },
     "execution_count": 113,
     "metadata": {},
     "output_type": "execute_result"
    }
   ],
   "source": [
    "trn_frames_poly_c['n_pitches'].sum()"
   ]
  },
  {
   "cell_type": "code",
   "execution_count": null,
   "metadata": {},
   "outputs": [],
   "source": [
    "trn_frames_poly_c"
   ]
  },
  {
   "cell_type": "code",
   "execution_count": null,
   "metadata": {},
   "outputs": [],
   "source": []
  },
  {
   "cell_type": "code",
   "execution_count": 103,
   "metadata": {},
   "outputs": [
    {
     "data": {
      "text/plain": [
       "440.752"
      ]
     },
     "execution_count": 103,
     "metadata": {},
     "output_type": "execute_result"
    }
   ],
   "source": [
    "45 total chunks.. "
   ]
  },
  {
   "cell_type": "code",
   "execution_count": 61,
   "metadata": {},
   "outputs": [
    {
     "name": "stdout",
     "output_type": "stream",
     "text": [
      "CPU times: user 29.5 s, sys: 604 ms, total: 30.1 s\n",
      "Wall time: 30.1 s\n"
     ]
    }
   ],
   "source": [
    "%%time\n",
    "tst_frames_poly = poly_frames(tst_frames)"
   ]
  },
  {
   "cell_type": "code",
   "execution_count": 62,
   "metadata": {},
   "outputs": [],
   "source": [
    "save_poly_frames_df(tst_frames_poly, 'tst_frames_poly_1024_4')"
   ]
  },
  {
   "cell_type": "code",
   "execution_count": 70,
   "metadata": {},
   "outputs": [
    {
     "name": "stdout",
     "output_type": "stream",
     "text": [
      "CPU times: user 2min 27s, sys: 13 s, total: 2min 40s\n",
      "Wall time: 2min 40s\n"
     ]
    }
   ],
   "source": [
    "%%time\n",
    "val_frames_poly = poly_frames(val_frames)"
   ]
  },
  {
   "cell_type": "code",
   "execution_count": 71,
   "metadata": {},
   "outputs": [],
   "source": [
    "save_poly_frames_df(val_frames_poly, 'val_frames_poly_1024_4')"
   ]
  },
  {
   "cell_type": "code",
   "execution_count": 72,
   "metadata": {},
   "outputs": [
    {
     "ename": "KeyboardInterrupt",
     "evalue": "",
     "output_type": "error",
     "traceback": [
      "\u001b[0;31m---------------------------------------------------------------------------\u001b[0m",
      "\u001b[0;31mKeyboardInterrupt\u001b[0m                         Traceback (most recent call last)",
      "\u001b[0;32m<timed exec>\u001b[0m in \u001b[0;36m<module>\u001b[0;34m\u001b[0m\n",
      "\u001b[0;32m<ipython-input-60-3bbd33f3283a>\u001b[0m in \u001b[0;36mpoly_frames\u001b[0;34m(df, max_notes)\u001b[0m\n\u001b[1;32m      9\u001b[0m             \u001b[0;32mfor\u001b[0m \u001b[0mi\u001b[0m \u001b[0;32min\u001b[0m \u001b[0mrange\u001b[0m\u001b[0;34m(\u001b[0m\u001b[0mn_notes\u001b[0m\u001b[0;34m)\u001b[0m\u001b[0;34m:\u001b[0m\u001b[0;34m\u001b[0m\u001b[0;34m\u001b[0m\u001b[0m\n\u001b[1;32m     10\u001b[0m                 \u001b[0mrow\u001b[0m \u001b[0;34m=\u001b[0m \u001b[0mdf\u001b[0m\u001b[0;34m[\u001b[0m\u001b[0;34m~\u001b[0m\u001b[0mdf\u001b[0m\u001b[0;34m[\u001b[0m\u001b[0;34m'pitch'\u001b[0m\u001b[0;34m]\u001b[0m\u001b[0;34m.\u001b[0m\u001b[0misin\u001b[0m\u001b[0;34m(\u001b[0m\u001b[0mpitches\u001b[0m\u001b[0;34m)\u001b[0m\u001b[0;34m]\u001b[0m\u001b[0;34m.\u001b[0m\u001b[0msample\u001b[0m\u001b[0;34m(\u001b[0m\u001b[0;36m1\u001b[0m\u001b[0;34m)\u001b[0m\u001b[0;34m\u001b[0m\u001b[0;34m\u001b[0m\u001b[0m\n\u001b[0;32m---> 11\u001b[0;31m                 \u001b[0mdf\u001b[0m\u001b[0;34m.\u001b[0m\u001b[0mdrop\u001b[0m\u001b[0;34m(\u001b[0m\u001b[0mrow\u001b[0m\u001b[0;34m.\u001b[0m\u001b[0mindex\u001b[0m\u001b[0;34m,\u001b[0m \u001b[0minplace\u001b[0m\u001b[0;34m=\u001b[0m\u001b[0;32mTrue\u001b[0m\u001b[0;34m)\u001b[0m\u001b[0;34m\u001b[0m\u001b[0;34m\u001b[0m\u001b[0m\n\u001b[0m\u001b[1;32m     12\u001b[0m                 \u001b[0mrows\u001b[0m\u001b[0;34m.\u001b[0m\u001b[0mappend\u001b[0m\u001b[0;34m(\u001b[0m\u001b[0mrow\u001b[0m\u001b[0;34m)\u001b[0m\u001b[0;34m\u001b[0m\u001b[0;34m\u001b[0m\u001b[0m\n\u001b[1;32m     13\u001b[0m                 \u001b[0mpitches\u001b[0m\u001b[0;34m.\u001b[0m\u001b[0mappend\u001b[0m\u001b[0;34m(\u001b[0m\u001b[0mrow\u001b[0m\u001b[0;34m.\u001b[0m\u001b[0miloc\u001b[0m\u001b[0;34m[\u001b[0m\u001b[0;36m0\u001b[0m\u001b[0;34m]\u001b[0m\u001b[0;34m[\u001b[0m\u001b[0;34m'pitch'\u001b[0m\u001b[0;34m]\u001b[0m\u001b[0;34m)\u001b[0m\u001b[0;34m\u001b[0m\u001b[0;34m\u001b[0m\u001b[0m\n",
      "\u001b[0;32m/anaconda3/envs/fastai36/lib/python3.6/site-packages/pandas/core/frame.py\u001b[0m in \u001b[0;36mdrop\u001b[0;34m(self, labels, axis, index, columns, level, inplace, errors)\u001b[0m\n\u001b[1;32m   3695\u001b[0m                                            \u001b[0mindex\u001b[0m\u001b[0;34m=\u001b[0m\u001b[0mindex\u001b[0m\u001b[0;34m,\u001b[0m \u001b[0mcolumns\u001b[0m\u001b[0;34m=\u001b[0m\u001b[0mcolumns\u001b[0m\u001b[0;34m,\u001b[0m\u001b[0;34m\u001b[0m\u001b[0;34m\u001b[0m\u001b[0m\n\u001b[1;32m   3696\u001b[0m                                            \u001b[0mlevel\u001b[0m\u001b[0;34m=\u001b[0m\u001b[0mlevel\u001b[0m\u001b[0;34m,\u001b[0m \u001b[0minplace\u001b[0m\u001b[0;34m=\u001b[0m\u001b[0minplace\u001b[0m\u001b[0;34m,\u001b[0m\u001b[0;34m\u001b[0m\u001b[0;34m\u001b[0m\u001b[0m\n\u001b[0;32m-> 3697\u001b[0;31m                                            errors=errors)\n\u001b[0m\u001b[1;32m   3698\u001b[0m \u001b[0;34m\u001b[0m\u001b[0m\n\u001b[1;32m   3699\u001b[0m     @rewrite_axis_style_signature('mapper', [('copy', True),\n",
      "\u001b[0;32m/anaconda3/envs/fastai36/lib/python3.6/site-packages/pandas/core/generic.py\u001b[0m in \u001b[0;36mdrop\u001b[0;34m(self, labels, axis, index, columns, level, inplace, errors)\u001b[0m\n\u001b[1;32m   3109\u001b[0m         \u001b[0;32mfor\u001b[0m \u001b[0maxis\u001b[0m\u001b[0;34m,\u001b[0m \u001b[0mlabels\u001b[0m \u001b[0;32min\u001b[0m \u001b[0maxes\u001b[0m\u001b[0;34m.\u001b[0m\u001b[0mitems\u001b[0m\u001b[0;34m(\u001b[0m\u001b[0;34m)\u001b[0m\u001b[0;34m:\u001b[0m\u001b[0;34m\u001b[0m\u001b[0;34m\u001b[0m\u001b[0m\n\u001b[1;32m   3110\u001b[0m             \u001b[0;32mif\u001b[0m \u001b[0mlabels\u001b[0m \u001b[0;32mis\u001b[0m \u001b[0;32mnot\u001b[0m \u001b[0;32mNone\u001b[0m\u001b[0;34m:\u001b[0m\u001b[0;34m\u001b[0m\u001b[0;34m\u001b[0m\u001b[0m\n\u001b[0;32m-> 3111\u001b[0;31m                 \u001b[0mobj\u001b[0m \u001b[0;34m=\u001b[0m \u001b[0mobj\u001b[0m\u001b[0;34m.\u001b[0m\u001b[0m_drop_axis\u001b[0m\u001b[0;34m(\u001b[0m\u001b[0mlabels\u001b[0m\u001b[0;34m,\u001b[0m \u001b[0maxis\u001b[0m\u001b[0;34m,\u001b[0m \u001b[0mlevel\u001b[0m\u001b[0;34m=\u001b[0m\u001b[0mlevel\u001b[0m\u001b[0;34m,\u001b[0m \u001b[0merrors\u001b[0m\u001b[0;34m=\u001b[0m\u001b[0merrors\u001b[0m\u001b[0;34m)\u001b[0m\u001b[0;34m\u001b[0m\u001b[0;34m\u001b[0m\u001b[0m\n\u001b[0m\u001b[1;32m   3112\u001b[0m \u001b[0;34m\u001b[0m\u001b[0m\n\u001b[1;32m   3113\u001b[0m         \u001b[0;32mif\u001b[0m \u001b[0minplace\u001b[0m\u001b[0;34m:\u001b[0m\u001b[0;34m\u001b[0m\u001b[0;34m\u001b[0m\u001b[0m\n",
      "\u001b[0;32m/anaconda3/envs/fastai36/lib/python3.6/site-packages/pandas/core/generic.py\u001b[0m in \u001b[0;36m_drop_axis\u001b[0;34m(self, labels, axis, level, errors)\u001b[0m\n\u001b[1;32m   3135\u001b[0m         \u001b[0maxis\u001b[0m \u001b[0;34m=\u001b[0m \u001b[0mself\u001b[0m\u001b[0;34m.\u001b[0m\u001b[0m_get_axis\u001b[0m\u001b[0;34m(\u001b[0m\u001b[0maxis\u001b[0m\u001b[0;34m)\u001b[0m\u001b[0;34m\u001b[0m\u001b[0;34m\u001b[0m\u001b[0m\n\u001b[1;32m   3136\u001b[0m \u001b[0;34m\u001b[0m\u001b[0m\n\u001b[0;32m-> 3137\u001b[0;31m         \u001b[0;32mif\u001b[0m \u001b[0maxis\u001b[0m\u001b[0;34m.\u001b[0m\u001b[0mis_unique\u001b[0m\u001b[0;34m:\u001b[0m\u001b[0;34m\u001b[0m\u001b[0;34m\u001b[0m\u001b[0m\n\u001b[0m\u001b[1;32m   3138\u001b[0m             \u001b[0;32mif\u001b[0m \u001b[0mlevel\u001b[0m \u001b[0;32mis\u001b[0m \u001b[0;32mnot\u001b[0m \u001b[0;32mNone\u001b[0m\u001b[0;34m:\u001b[0m\u001b[0;34m\u001b[0m\u001b[0;34m\u001b[0m\u001b[0m\n\u001b[1;32m   3139\u001b[0m                 \u001b[0;32mif\u001b[0m \u001b[0;32mnot\u001b[0m \u001b[0misinstance\u001b[0m\u001b[0;34m(\u001b[0m\u001b[0maxis\u001b[0m\u001b[0;34m,\u001b[0m \u001b[0mMultiIndex\u001b[0m\u001b[0;34m)\u001b[0m\u001b[0;34m:\u001b[0m\u001b[0;34m\u001b[0m\u001b[0;34m\u001b[0m\u001b[0m\n",
      "\u001b[0;32mpandas/_libs/properties.pyx\u001b[0m in \u001b[0;36mpandas._libs.properties.CachedProperty.__get__\u001b[0;34m()\u001b[0m\n",
      "\u001b[0;32m/anaconda3/envs/fastai36/lib/python3.6/site-packages/pandas/core/indexes/base.py\u001b[0m in \u001b[0;36mis_unique\u001b[0;34m(self)\u001b[0m\n\u001b[1;32m   1570\u001b[0m     \u001b[0;32mdef\u001b[0m \u001b[0mis_unique\u001b[0m\u001b[0;34m(\u001b[0m\u001b[0mself\u001b[0m\u001b[0;34m)\u001b[0m\u001b[0;34m:\u001b[0m\u001b[0;34m\u001b[0m\u001b[0;34m\u001b[0m\u001b[0m\n\u001b[1;32m   1571\u001b[0m         \u001b[0;34m\"\"\" return if the index has unique values \"\"\"\u001b[0m\u001b[0;34m\u001b[0m\u001b[0;34m\u001b[0m\u001b[0m\n\u001b[0;32m-> 1572\u001b[0;31m         \u001b[0;32mreturn\u001b[0m \u001b[0mself\u001b[0m\u001b[0;34m.\u001b[0m\u001b[0m_engine\u001b[0m\u001b[0;34m.\u001b[0m\u001b[0mis_unique\u001b[0m\u001b[0;34m\u001b[0m\u001b[0;34m\u001b[0m\u001b[0m\n\u001b[0m\u001b[1;32m   1573\u001b[0m \u001b[0;34m\u001b[0m\u001b[0m\n\u001b[1;32m   1574\u001b[0m     \u001b[0;34m@\u001b[0m\u001b[0mproperty\u001b[0m\u001b[0;34m\u001b[0m\u001b[0;34m\u001b[0m\u001b[0m\n",
      "\u001b[0;31mKeyboardInterrupt\u001b[0m: "
     ]
    }
   ],
   "source": [
    "%%time\n",
    "trn_frames_poly = poly_frames(trn_frames)"
   ]
  },
  {
   "cell_type": "code",
   "execution_count": 73,
   "metadata": {},
   "outputs": [
    {
     "ename": "NameError",
     "evalue": "name 'trn_frames_poly' is not defined",
     "output_type": "error",
     "traceback": [
      "\u001b[0;31m---------------------------------------------------------------------------\u001b[0m",
      "\u001b[0;31mNameError\u001b[0m                                 Traceback (most recent call last)",
      "\u001b[0;32m<ipython-input-73-c315b4008a8e>\u001b[0m in \u001b[0;36m<module>\u001b[0;34m\u001b[0m\n\u001b[0;32m----> 1\u001b[0;31m \u001b[0msave_poly_frames_df\u001b[0m\u001b[0;34m(\u001b[0m\u001b[0mtrn_frames_poly\u001b[0m\u001b[0;34m,\u001b[0m \u001b[0;34m'trn_frames_poly_1024_4'\u001b[0m\u001b[0;34m)\u001b[0m\u001b[0;34m\u001b[0m\u001b[0;34m\u001b[0m\u001b[0m\n\u001b[0m",
      "\u001b[0;31mNameError\u001b[0m: name 'trn_frames_poly' is not defined"
     ]
    }
   ],
   "source": [
    "save_poly_frames_df(trn_frames_poly, 'trn_frames_poly_1024_4')"
   ]
  },
  {
   "cell_type": "code",
   "execution_count": null,
   "metadata": {},
   "outputs": [],
   "source": []
  },
  {
   "cell_type": "code",
   "execution_count": null,
   "metadata": {},
   "outputs": [],
   "source": []
  },
  {
   "cell_type": "code",
   "execution_count": null,
   "metadata": {},
   "outputs": [],
   "source": []
  },
  {
   "cell_type": "code",
   "execution_count": null,
   "metadata": {},
   "outputs": [],
   "source": []
  },
  {
   "cell_type": "code",
   "execution_count": 63,
   "metadata": {},
   "outputs": [],
   "source": [
    "df1 = load_poly_frames_df('tst_frames_poly_1024_4')"
   ]
  },
  {
   "cell_type": "code",
   "execution_count": 68,
   "metadata": {},
   "outputs": [
    {
     "data": {
      "text/html": [
       "<div>\n",
       "<style scoped>\n",
       "    .dataframe tbody tr th:only-of-type {\n",
       "        vertical-align: middle;\n",
       "    }\n",
       "\n",
       "    .dataframe tbody tr th {\n",
       "        vertical-align: top;\n",
       "    }\n",
       "\n",
       "    .dataframe thead th {\n",
       "        text-align: right;\n",
       "    }\n",
       "</style>\n",
       "<table border=\"1\" class=\"dataframe\">\n",
       "  <thead>\n",
       "    <tr style=\"text-align: right;\">\n",
       "      <th></th>\n",
       "      <th>pitches</th>\n",
       "      <th>n_pitches</th>\n",
       "      <th>frame</th>\n",
       "    </tr>\n",
       "  </thead>\n",
       "  <tbody>\n",
       "    <tr>\n",
       "      <th>0</th>\n",
       "      <td>[43]</td>\n",
       "      <td>1</td>\n",
       "      <td>[0.020447401, 0.021607105, 0.022370068, 0.0228...</td>\n",
       "    </tr>\n",
       "    <tr>\n",
       "      <th>1</th>\n",
       "      <td>[69, 60]</td>\n",
       "      <td>2</td>\n",
       "      <td>[0.42534202, 0.42985627, 0.4050668, 0.3499934,...</td>\n",
       "    </tr>\n",
       "    <tr>\n",
       "      <th>2</th>\n",
       "      <td>[45, 53, 56]</td>\n",
       "      <td>3</td>\n",
       "      <td>[0.15157439, 0.18534634, 0.21727508, 0.2458859...</td>\n",
       "    </tr>\n",
       "    <tr>\n",
       "      <th>3</th>\n",
       "      <td>[82, 42, 65, 51]</td>\n",
       "      <td>4</td>\n",
       "      <td>[-0.29671514, -0.32114583, -0.32809636, -0.315...</td>\n",
       "    </tr>\n",
       "    <tr>\n",
       "      <th>4</th>\n",
       "      <td>[79, 82]</td>\n",
       "      <td>2</td>\n",
       "      <td>[0.045332216, 0.116490625, 0.17688969, 0.21778...</td>\n",
       "    </tr>\n",
       "  </tbody>\n",
       "</table>\n",
       "</div>"
      ],
      "text/plain": [
       "            pitches  n_pitches  \\\n",
       "0              [43]          1   \n",
       "1          [69, 60]          2   \n",
       "2      [45, 53, 56]          3   \n",
       "3  [82, 42, 65, 51]          4   \n",
       "4          [79, 82]          2   \n",
       "\n",
       "                                               frame  \n",
       "0  [0.020447401, 0.021607105, 0.022370068, 0.0228...  \n",
       "1  [0.42534202, 0.42985627, 0.4050668, 0.3499934,...  \n",
       "2  [0.15157439, 0.18534634, 0.21727508, 0.2458859...  \n",
       "3  [-0.29671514, -0.32114583, -0.32809636, -0.315...  \n",
       "4  [0.045332216, 0.116490625, 0.17688969, 0.21778...  "
      ]
     },
     "execution_count": 68,
     "metadata": {},
     "output_type": "execute_result"
    }
   ],
   "source": [
    "df1.head()"
   ]
  },
  {
   "cell_type": "code",
   "execution_count": 51,
   "metadata": {},
   "outputs": [],
   "source": [
    "def save_poly_frames_df(df, name):\n",
    "    frames_np = np.stack(df['frame'].values)\n",
    "    np.save(name + '.npy', frames_np)\n",
    "    df[['pitches', 'n_pitches']].to_csv(name + '.csv', index=False)\n",
    "    \n",
    "def load_poly_frames_df(name):\n",
    "    df = pd.read_csv(name + '.csv')\n",
    "    # convert string column back to list of ints\n",
    "    df['pitches'] = df['pitches'].apply(lambda s: list(map(int, s[1:-1].split(' '))))\n",
    "    frames_np = np.load(name + '.npy')\n",
    "    list_frames = np.array_split(frames_np, frames_np.shape[0])\n",
    "    df['frame'] = pd.Series(map(np.squeeze, list_frames))\n",
    "    return df"
   ]
  },
  {
   "cell_type": "code",
   "execution_count": null,
   "metadata": {},
   "outputs": [],
   "source": []
  },
  {
   "cell_type": "code",
   "execution_count": null,
   "metadata": {},
   "outputs": [],
   "source": []
  },
  {
   "cell_type": "code",
   "execution_count": null,
   "metadata": {},
   "outputs": [],
   "source": []
  },
  {
   "cell_type": "code",
   "execution_count": null,
   "metadata": {},
   "outputs": [],
   "source": []
  },
  {
   "cell_type": "code",
   "execution_count": null,
   "metadata": {},
   "outputs": [],
   "source": []
  },
  {
   "cell_type": "code",
   "execution_count": null,
   "metadata": {},
   "outputs": [],
   "source": []
  },
  {
   "cell_type": "code",
   "execution_count": null,
   "metadata": {},
   "outputs": [],
   "source": [
    "from scipy.signal import get_window"
   ]
  },
  {
   "cell_type": "code",
   "execution_count": null,
   "metadata": {},
   "outputs": [],
   "source": [
    "def get_pow_db(x):\n",
    "    w = get_window('hann', x.shape[0])\n",
    "    wx = x*w\n",
    "    X = np.fft.rfft(wx)\n",
    "    Xpow = abs(X) #** 2\n",
    "    return librosa.amplitude_to_db(Xpow, ref=1.0, top_db=50.0)"
   ]
  },
  {
   "cell_type": "code",
   "execution_count": null,
   "metadata": {},
   "outputs": [],
   "source": [
    "fig, ax = plt.subplots(4,2, figsize=(16, 6))\n",
    "for i in range(3):\n",
    "    x = frames[i]\n",
    "    ax[i][0].plot(x)\n",
    "    ax[i][1].plot(get_pow_db(x))\n",
    "ax[3][0].plot(frame_sum)\n",
    "ax[3][1].plot(get_pow_db(frame_sum))"
   ]
  },
  {
   "cell_type": "code",
   "execution_count": null,
   "metadata": {},
   "outputs": [],
   "source": [
    "pitches"
   ]
  },
  {
   "cell_type": "code",
   "execution_count": null,
   "metadata": {},
   "outputs": [],
   "source": [
    "frame_sum.min(), frame_sum.max()"
   ]
  },
  {
   "cell_type": "code",
   "execution_count": null,
   "metadata": {},
   "outputs": [],
   "source": [
    "np.max(abs(frames), axis=1)"
   ]
  },
  {
   "cell_type": "code",
   "execution_count": null,
   "metadata": {},
   "outputs": [],
   "source": []
  },
  {
   "cell_type": "code",
   "execution_count": null,
   "metadata": {},
   "outputs": [],
   "source": [
    "plt.figure(figsize=(6, 1))\n",
    "plt.plot(normalize(frame_sum, 0.57));"
   ]
  },
  {
   "cell_type": "code",
   "execution_count": null,
   "metadata": {},
   "outputs": [],
   "source": [
    "dfb"
   ]
  },
  {
   "cell_type": "code",
   "execution_count": null,
   "metadata": {},
   "outputs": [],
   "source": [
    "num = 3\n",
    "\n",
    "rows = []\n",
    "for i in range(3):\n",
    "    row = df.sample(1)\n",
    "    df.drop(row.index, inplace=True)\n",
    "    rows.append(row)"
   ]
  }
 ],
 "metadata": {
  "kernelspec": {
   "display_name": "Python 3",
   "language": "python",
   "name": "python3"
  },
  "language_info": {
   "codemirror_mode": {
    "name": "ipython",
    "version": 3
   },
   "file_extension": ".py",
   "mimetype": "text/x-python",
   "name": "python",
   "nbconvert_exporter": "python",
   "pygments_lexer": "ipython3",
   "version": "3.6.7"
  }
 },
 "nbformat": 4,
 "nbformat_minor": 2
}
