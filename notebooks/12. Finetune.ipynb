{
 "cells": [
  {
   "cell_type": "code",
   "execution_count": 1,
   "metadata": {},
   "outputs": [],
   "source": [
    "%reload_ext autoreload\n",
    "%autoreload 2\n",
    "%matplotlib inline"
   ]
  },
  {
   "cell_type": "code",
   "execution_count": 2,
   "metadata": {},
   "outputs": [
    {
     "data": {
      "text/plain": [
       "'1.0.37'"
      ]
     },
     "execution_count": 2,
     "metadata": {},
     "output_type": "execute_result"
    }
   ],
   "source": [
    "import fastai\n",
    "fastai.__version__"
   ]
  },
  {
   "cell_type": "code",
   "execution_count": 3,
   "metadata": {},
   "outputs": [],
   "source": [
    "from fastai import *\n",
    "from fastai_audio import *\n",
    "from utils import *"
   ]
  },
  {
   "cell_type": "code",
   "execution_count": 4,
   "metadata": {},
   "outputs": [],
   "source": [
    "from sklearn.model_selection import train_test_split"
   ]
  },
  {
   "cell_type": "code",
   "execution_count": 5,
   "metadata": {},
   "outputs": [],
   "source": [
    "DATA = Path('data')\n",
    "AUDIO = DATA/'freesound/audio_22050_trimmed_tfms'\n",
    "\n",
    "CSV = DATA/'freesound/audio_44KHz/train_with_lens.csv'\n",
    "TEST_CSV = DATA/'freesound/audio_44KHz/test_with_lens.csv'"
   ]
  },
  {
   "cell_type": "code",
   "execution_count": 6,
   "metadata": {},
   "outputs": [
    {
     "data": {
      "text/html": [
       "<div>\n",
       "<style scoped>\n",
       "    .dataframe tbody tr th:only-of-type {\n",
       "        vertical-align: middle;\n",
       "    }\n",
       "\n",
       "    .dataframe tbody tr th {\n",
       "        vertical-align: top;\n",
       "    }\n",
       "\n",
       "    .dataframe thead th {\n",
       "        text-align: right;\n",
       "    }\n",
       "</style>\n",
       "<table border=\"1\" class=\"dataframe\">\n",
       "  <thead>\n",
       "    <tr style=\"text-align: right;\">\n",
       "      <th></th>\n",
       "      <th>fname</th>\n",
       "      <th>label</th>\n",
       "      <th>n_samples</th>\n",
       "      <th>valid</th>\n",
       "    </tr>\n",
       "  </thead>\n",
       "  <tbody>\n",
       "    <tr>\n",
       "      <th>0</th>\n",
       "      <td>00044347</td>\n",
       "      <td>Hi-hat</td>\n",
       "      <td>617400</td>\n",
       "      <td>True</td>\n",
       "    </tr>\n",
       "    <tr>\n",
       "      <th>1</th>\n",
       "      <td>001ca53d</td>\n",
       "      <td>Saxophone</td>\n",
       "      <td>455112</td>\n",
       "      <td>False</td>\n",
       "    </tr>\n",
       "    <tr>\n",
       "      <th>2</th>\n",
       "      <td>002d256b</td>\n",
       "      <td>Trumpet</td>\n",
       "      <td>19404</td>\n",
       "      <td>True</td>\n",
       "    </tr>\n",
       "    <tr>\n",
       "      <th>3</th>\n",
       "      <td>0033e230</td>\n",
       "      <td>Glockenspiel</td>\n",
       "      <td>352800</td>\n",
       "      <td>False</td>\n",
       "    </tr>\n",
       "    <tr>\n",
       "      <th>4</th>\n",
       "      <td>00353774</td>\n",
       "      <td>Cello</td>\n",
       "      <td>199332</td>\n",
       "      <td>True</td>\n",
       "    </tr>\n",
       "    <tr>\n",
       "      <th>5</th>\n",
       "      <td>003b91e8</td>\n",
       "      <td>Cello</td>\n",
       "      <td>585648</td>\n",
       "      <td>True</td>\n",
       "    </tr>\n",
       "    <tr>\n",
       "      <th>6</th>\n",
       "      <td>003da8e5</td>\n",
       "      <td>Knock</td>\n",
       "      <td>59976</td>\n",
       "      <td>False</td>\n",
       "    </tr>\n",
       "    <tr>\n",
       "      <th>7</th>\n",
       "      <td>0048fd00</td>\n",
       "      <td>Gunshot_or_gunfire</td>\n",
       "      <td>45864</td>\n",
       "      <td>True</td>\n",
       "    </tr>\n",
       "    <tr>\n",
       "      <th>8</th>\n",
       "      <td>004ad66f</td>\n",
       "      <td>Clarinet</td>\n",
       "      <td>308700</td>\n",
       "      <td>False</td>\n",
       "    </tr>\n",
       "    <tr>\n",
       "      <th>9</th>\n",
       "      <td>0063ab88</td>\n",
       "      <td>Computer_keyboard</td>\n",
       "      <td>1307124</td>\n",
       "      <td>False</td>\n",
       "    </tr>\n",
       "  </tbody>\n",
       "</table>\n",
       "</div>"
      ],
      "text/plain": [
       "      fname               label  n_samples  valid\n",
       "0  00044347              Hi-hat     617400   True\n",
       "1  001ca53d           Saxophone     455112  False\n",
       "2  002d256b             Trumpet      19404   True\n",
       "3  0033e230        Glockenspiel     352800  False\n",
       "4  00353774               Cello     199332   True\n",
       "5  003b91e8               Cello     585648   True\n",
       "6  003da8e5               Knock      59976  False\n",
       "7  0048fd00  Gunshot_or_gunfire      45864   True\n",
       "8  004ad66f            Clarinet     308700  False\n",
       "9  0063ab88   Computer_keyboard    1307124  False"
      ]
     },
     "execution_count": 6,
     "metadata": {},
     "output_type": "execute_result"
    }
   ],
   "source": [
    "df = pd.read_csv(CSV)\n",
    "if df['fname'].iloc[0].endswith('.wav'):\n",
    "    df['fname'] = df['fname'].str[:-4]\n",
    "    df.drop(['manually_verified'], axis=1, inplace=True)\n",
    "\n",
    "# validation split; stratified by label\n",
    "idx = np.arange(len(df))\n",
    "train_idx, valid_idx = train_test_split(idx, test_size=0.2, stratify=df['label'])\n",
    "df['valid'] = False\n",
    "df.loc[df.iloc[valid_idx].index, 'valid'] = True\n",
    "\n",
    "df.head(10)"
   ]
  },
  {
   "cell_type": "code",
   "execution_count": null,
   "metadata": {},
   "outputs": [],
   "source": [
    "def tfm_df(df, n_tfms=5):\n",
    "    dfs = []\n",
    "    for i in range(n_tfms + 1):\n",
    "        suffix = '_{:02d}'.format(i)\n",
    "        new_df = df.copy()\n",
    "        new_df['fname'] = new_df['fname'] + suffix\n",
    "        dfs.append(new_df)\n",
    "    tfm_df = pd.concat(dfs)\n",
    "    return tfm_df\n",
    "        \n",
    "df_tfm = tfm_df(df)\n",
    "df_tfm.head(5)"
   ]
  },
  {
   "cell_type": "code",
   "execution_count": null,
   "metadata": {},
   "outputs": [],
   "source": [
    "# two files were corrupt when generating transformed files, just remove them from df\n",
    "df_tfm = df_tfm[~df_tfm['fname'].isin(['255db1a8_05', 'f406520b_01'])]\n",
    "drop_idx = (df_tfm['valid'] == True) & (~df_tfm['fname'].str.endswith('_00'))\n",
    "df_final = df_tfm[~drop_idx]\n",
    "len(df_tfm), df_final['valid'].sum(), (~df_final['valid']).sum()"
   ]
  },
  {
   "cell_type": "code",
   "execution_count": 7,
   "metadata": {},
   "outputs": [],
   "source": [
    "class ResBlock(nn.Module):\n",
    "    def __init__(self, in_channels, out_channels, kernel_size=3, stride=1, padding=1, residual=False):\n",
    "        super().__init__()\n",
    "        self.res = residual\n",
    "        self.conv = nn.Conv2d(in_channels, \n",
    "                         out_channels,\n",
    "                         kernel_size=kernel_size, \n",
    "                         stride=stride,\n",
    "                         padding=padding, \n",
    "                         bias=False)\n",
    "        self.batch_norm = nn.BatchNorm2d(out_channels, momentum=0.01)\n",
    "        self.relu = nn.ReLU(inplace=True)\n",
    "        \n",
    "    def forward(self, x):\n",
    "        residual = x\n",
    "        out = self.conv(x)\n",
    "        if self.res:\n",
    "            out = residual + out\n",
    "        out = self.batch_norm(out)\n",
    "        out = self.relu(out)\n",
    "        return out\n",
    "\n",
    "class AudioCNN(nn.Module):\n",
    "    def __init__(self, n_classes):\n",
    "        super().__init__()\n",
    "        layers = []\n",
    "\n",
    "        # B1 to B5\n",
    "        in_channels = 1\n",
    "        num_filters = [16, 32, 64, 128, 256]\n",
    "        for out_channels in num_filters:\n",
    "            layers += [ResBlock(in_channels,  out_channels, kernel_size=3, padding=1, residual=False),\n",
    "                       ResBlock(out_channels, out_channels, kernel_size=3, padding=1, residual=True),\n",
    "                       nn.MaxPool2d(2)]\n",
    "            in_channels = out_channels\n",
    "        \n",
    "        # B6\n",
    "        layers += [ResBlock(256, 512, kernel_size=3, padding=1), nn.MaxPool2d(2)]\n",
    "        \n",
    "        # F1\n",
    "        layers += [ResBlock(512, 1024, kernel_size=3, padding=1)]\n",
    "        \n",
    "        # F2\n",
    "        layers += [nn.Conv2d(1024, n_classes, 3, padding=1)]\n",
    "        \n",
    "        # Reshape \n",
    "        layers += [\n",
    "            PoolFlatten()\n",
    "        ]\n",
    "                \n",
    "        self.layers = nn.Sequential(*layers)\n",
    "\n",
    "        # from ResNet \n",
    "        for m in self.modules():\n",
    "            if isinstance(m, nn.Conv2d):\n",
    "                n = m.kernel_size[0] * m.kernel_size[1] * m.out_channels\n",
    "                m.weight.data.normal_(0, math.sqrt(2. / n))\n",
    "        \n",
    "    def forward(self, x):\n",
    "        return self.layers(x)"
   ]
  },
  {
   "cell_type": "code",
   "execution_count": 8,
   "metadata": {},
   "outputs": [],
   "source": [
    "n_fft = 2048\n",
    "n_hop = 256\n",
    "n_mels = 128\n",
    "sample_rate = 22050\n",
    "bs = 16\n",
    "\n",
    "tfms = get_transforms(n_hop=n_hop)\n",
    "\n",
    "batch_tfms = get_frequency_batch_transforms(n_fft=n_fft, n_hop=n_hop,\n",
    "                                            n_mels=n_mels, sample_rate=sample_rate)\n",
    "\n",
    "test_df = pd.read_csv(TEST_CSV)\n",
    "test_data = AudioItemList.from_df(test_df, path=AUDIO, folder='test', suffix='.wav')"
   ]
  },
  {
   "cell_type": "code",
   "execution_count": 9,
   "metadata": {},
   "outputs": [
    {
     "data": {
      "text/plain": [
       "(7578, 1895, 9400)"
      ]
     },
     "execution_count": 9,
     "metadata": {},
     "output_type": "execute_result"
    }
   ],
   "source": [
    "AUDIO = DATA/'freesound/audio_22050_trimmed'\n",
    "\n",
    "data = (AudioItemList\n",
    "            .from_df(df, path=AUDIO, folder='train', suffix='.wav')\n",
    "            .split_from_df('valid')\n",
    "            .label_from_df()\n",
    "            .add_test(test_data)\n",
    "            .transform(tfms)\n",
    "            .databunch(bs=bs, equal_lengths=False, tfms=batch_tfms, length_col=2))\n",
    "\n",
    "len(data.train_ds), len(data.valid_ds), len(data.test_ds)"
   ]
  },
  {
   "cell_type": "code",
   "execution_count": 10,
   "metadata": {},
   "outputs": [],
   "source": [
    "model = AudioCNN(527)\n",
    "model.load_state_dict(torch.load('audioset_16epochs.pt'))"
   ]
  },
  {
   "cell_type": "code",
   "execution_count": 12,
   "metadata": {},
   "outputs": [],
   "source": [
    "head = nn.Sequential(nn.Conv2d(1024, data.c, kernel_size=3, stride=1, padding=1),\n",
    "                     PoolFlatten())\n",
    "cut = -2"
   ]
  },
  {
   "cell_type": "code",
   "execution_count": 13,
   "metadata": {},
   "outputs": [],
   "source": [
    "metrics = [accuracy, mapk]\n",
    "learn = create_audio_cnn(data, model, cut, head=head, metrics=metrics)"
   ]
  },
  {
   "cell_type": "code",
   "execution_count": 14,
   "metadata": {},
   "outputs": [
    {
     "name": "stdout",
     "output_type": "stream",
     "text": [
      "======================================================================\n",
      "Layer (type)         Output Shape         Param #    Trainable \n",
      "======================================================================\n",
      "Conv2d               [16, 16, 128, 2204]  144        False     \n",
      "______________________________________________________________________\n",
      "BatchNorm2d          [16, 16, 128, 2204]  32         True      \n",
      "______________________________________________________________________\n",
      "ReLU                 [16, 16, 128, 2204]  0          False     \n",
      "______________________________________________________________________\n",
      "Conv2d               [16, 16, 128, 2204]  2304       False     \n",
      "______________________________________________________________________\n",
      "BatchNorm2d          [16, 16, 128, 2204]  32         True      \n",
      "______________________________________________________________________\n",
      "ReLU                 [16, 16, 128, 2204]  0          False     \n",
      "______________________________________________________________________\n",
      "MaxPool2d            [16, 16, 64, 1102]   0          False     \n",
      "______________________________________________________________________\n",
      "Conv2d               [16, 32, 64, 1102]   4608       False     \n",
      "______________________________________________________________________\n",
      "BatchNorm2d          [16, 32, 64, 1102]   64         True      \n",
      "______________________________________________________________________\n",
      "ReLU                 [16, 32, 64, 1102]   0          False     \n",
      "______________________________________________________________________\n",
      "Conv2d               [16, 32, 64, 1102]   9216       False     \n",
      "______________________________________________________________________\n",
      "BatchNorm2d          [16, 32, 64, 1102]   64         True      \n",
      "______________________________________________________________________\n",
      "ReLU                 [16, 32, 64, 1102]   0          False     \n",
      "______________________________________________________________________\n",
      "MaxPool2d            [16, 32, 32, 551]    0          False     \n",
      "______________________________________________________________________\n",
      "Conv2d               [16, 64, 32, 551]    18432      False     \n",
      "______________________________________________________________________\n",
      "BatchNorm2d          [16, 64, 32, 551]    128        True      \n",
      "______________________________________________________________________\n",
      "ReLU                 [16, 64, 32, 551]    0          False     \n",
      "______________________________________________________________________\n",
      "Conv2d               [16, 64, 32, 551]    36864      False     \n",
      "______________________________________________________________________\n",
      "BatchNorm2d          [16, 64, 32, 551]    128        True      \n",
      "______________________________________________________________________\n",
      "ReLU                 [16, 64, 32, 551]    0          False     \n",
      "______________________________________________________________________\n",
      "MaxPool2d            [16, 64, 16, 275]    0          False     \n",
      "______________________________________________________________________\n",
      "Conv2d               [16, 128, 16, 275]   73728      False     \n",
      "______________________________________________________________________\n",
      "BatchNorm2d          [16, 128, 16, 275]   256        True      \n",
      "______________________________________________________________________\n",
      "ReLU                 [16, 128, 16, 275]   0          False     \n",
      "______________________________________________________________________\n",
      "Conv2d               [16, 128, 16, 275]   147456     False     \n",
      "______________________________________________________________________\n",
      "BatchNorm2d          [16, 128, 16, 275]   256        True      \n",
      "______________________________________________________________________\n",
      "ReLU                 [16, 128, 16, 275]   0          False     \n",
      "______________________________________________________________________\n",
      "MaxPool2d            [16, 128, 8, 137]    0          False     \n",
      "______________________________________________________________________\n",
      "Conv2d               [16, 256, 8, 137]    294912     False     \n",
      "______________________________________________________________________\n",
      "BatchNorm2d          [16, 256, 8, 137]    512        True      \n",
      "______________________________________________________________________\n",
      "ReLU                 [16, 256, 8, 137]    0          False     \n",
      "______________________________________________________________________\n",
      "Conv2d               [16, 256, 8, 137]    589824     False     \n",
      "______________________________________________________________________\n",
      "BatchNorm2d          [16, 256, 8, 137]    512        True      \n",
      "______________________________________________________________________\n",
      "ReLU                 [16, 256, 8, 137]    0          False     \n",
      "______________________________________________________________________\n",
      "MaxPool2d            [16, 256, 4, 68]     0          False     \n",
      "______________________________________________________________________\n",
      "Conv2d               [16, 512, 4, 68]     1179648    False     \n",
      "______________________________________________________________________\n",
      "BatchNorm2d          [16, 512, 4, 68]     1024       True      \n",
      "______________________________________________________________________\n",
      "ReLU                 [16, 512, 4, 68]     0          False     \n",
      "______________________________________________________________________\n",
      "MaxPool2d            [16, 512, 2, 34]     0          False     \n",
      "______________________________________________________________________\n",
      "Conv2d               [16, 1024, 2, 34]    4718592    False     \n",
      "______________________________________________________________________\n",
      "BatchNorm2d          [16, 1024, 2, 34]    2048       True      \n",
      "______________________________________________________________________\n",
      "ReLU                 [16, 1024, 2, 34]    0          False     \n",
      "______________________________________________________________________\n",
      "Conv2d               [16, 41, 2, 34]      377897     True      \n",
      "______________________________________________________________________\n",
      "AdaptiveAvgPool2d    [16, 41, 1, 1]       0          False     \n",
      "______________________________________________________________________\n",
      "Lambda               [16, 41]             0          False     \n",
      "______________________________________________________________________\n",
      "\n",
      "Total params:  7458681\n",
      "Total trainable params:  382953\n",
      "Total non-trainable params:  7075728\n"
     ]
    }
   ],
   "source": [
    "learn.summary()"
   ]
  },
  {
   "cell_type": "code",
   "execution_count": 15,
   "metadata": {},
   "outputs": [
    {
     "data": {
      "text/html": [
       "Total time: 12:41 <p><table style='width:375px; margin-bottom:10px'>\n",
       "  <tr>\n",
       "    <th>epoch</th>\n",
       "    <th>train_loss</th>\n",
       "    <th>valid_loss</th>\n",
       "    <th>accuracy</th>\n",
       "    <th>mapk</th>\n",
       "  </tr>\n",
       "  <tr>\n",
       "    <th>1</th>\n",
       "    <th>3.402095</th>\n",
       "    <th>3.196076</th>\n",
       "    <th>0.282850</th>\n",
       "    <th>0.407036</th>\n",
       "  </tr>\n",
       "  <tr>\n",
       "    <th>2</th>\n",
       "    <th>2.252634</th>\n",
       "    <th>2.120467</th>\n",
       "    <th>0.403166</th>\n",
       "    <th>0.523131</th>\n",
       "  </tr>\n",
       "  <tr>\n",
       "    <th>3</th>\n",
       "    <th>1.976084</th>\n",
       "    <th>1.944162</th>\n",
       "    <th>0.434301</th>\n",
       "    <th>0.553386</th>\n",
       "  </tr>\n",
       "  <tr>\n",
       "    <th>4</th>\n",
       "    <th>1.789434</th>\n",
       "    <th>1.884910</th>\n",
       "    <th>0.465435</th>\n",
       "    <th>0.579771</th>\n",
       "  </tr>\n",
       "  <tr>\n",
       "    <th>5</th>\n",
       "    <th>1.684179</th>\n",
       "    <th>1.849449</th>\n",
       "    <th>0.472296</th>\n",
       "    <th>0.590061</th>\n",
       "  </tr>\n",
       "  <tr>\n",
       "    <th>6</th>\n",
       "    <th>1.720191</th>\n",
       "    <th>1.842070</th>\n",
       "    <th>0.479683</th>\n",
       "    <th>0.595778</th>\n",
       "  </tr>\n",
       "  <tr>\n",
       "    <th>7</th>\n",
       "    <th>1.643252</th>\n",
       "    <th>1.827194</th>\n",
       "    <th>0.487599</th>\n",
       "    <th>0.604046</th>\n",
       "  </tr>\n",
       "  <tr>\n",
       "    <th>8</th>\n",
       "    <th>1.573119</th>\n",
       "    <th>1.818071</th>\n",
       "    <th>0.485488</th>\n",
       "    <th>0.603166</th>\n",
       "  </tr>\n",
       "</table>\n"
      ],
      "text/plain": [
       "<IPython.core.display.HTML object>"
      ]
     },
     "metadata": {},
     "output_type": "display_data"
    }
   ],
   "source": [
    "model_name = 'freesound_finetuned_v2'\n",
    "learn.fit_one_cycle(8)\n",
    "learn.save(model_name + '-stage-1')"
   ]
  },
  {
   "cell_type": "code",
   "execution_count": 16,
   "metadata": {},
   "outputs": [
    {
     "name": "stdout",
     "output_type": "stream",
     "text": [
      "LR Finder is complete, type {learner_name}.recorder.plot() to see the graph.\n"
     ]
    },
    {
     "data": {
      "image/png": "[encoded data removed]",
      "text/plain": [
       "<Figure size 432x288 with 1 Axes>"
      ]
     },
     "metadata": {
      "needs_background": "light"
     },
     "output_type": "display_data"
    }
   ],
   "source": [
    "learn.load(model_name + '-stage-1')\n",
    "learn.unfreeze()\n",
    "learn.lr_find(start_lr=1e-9, end_lr=1e-1)\n",
    "learn.recorder.plot()"
   ]
  },
  {
   "cell_type": "code",
   "execution_count": 19,
   "metadata": {},
   "outputs": [
    {
     "data": {
      "text/html": [
       "Total time: 07:18 <p><table style='width:375px; margin-bottom:10px'>\n",
       "  <tr>\n",
       "    <th>epoch</th>\n",
       "    <th>train_loss</th>\n",
       "    <th>valid_loss</th>\n",
       "    <th>accuracy</th>\n",
       "    <th>mapk</th>\n",
       "  </tr>\n",
       "  <tr>\n",
       "    <th>1</th>\n",
       "    <th>1.576508</th>\n",
       "    <th>1.804947</th>\n",
       "    <th>0.497625</th>\n",
       "    <th>0.610642</th>\n",
       "  </tr>\n",
       "  <tr>\n",
       "    <th>2</th>\n",
       "    <th>1.474343</th>\n",
       "    <th>1.768979</th>\n",
       "    <th>0.504485</th>\n",
       "    <th>0.616359</th>\n",
       "  </tr>\n",
       "  <tr>\n",
       "    <th>3</th>\n",
       "    <th>1.507875</th>\n",
       "    <th>1.718481</th>\n",
       "    <th>0.516623</th>\n",
       "    <th>0.630079</th>\n",
       "  </tr>\n",
       "  <tr>\n",
       "    <th>4</th>\n",
       "    <th>1.437056</th>\n",
       "    <th>1.690476</th>\n",
       "    <th>0.528232</th>\n",
       "    <th>0.640369</th>\n",
       "  </tr>\n",
       "  <tr>\n",
       "    <th>5</th>\n",
       "    <th>1.419249</th>\n",
       "    <th>1.648395</th>\n",
       "    <th>0.545119</th>\n",
       "    <th>0.650132</th>\n",
       "  </tr>\n",
       "  <tr>\n",
       "    <th>6</th>\n",
       "    <th>1.325427</th>\n",
       "    <th>1.617614</th>\n",
       "    <th>0.551979</th>\n",
       "    <th>0.657696</th>\n",
       "  </tr>\n",
       "  <tr>\n",
       "    <th>7</th>\n",
       "    <th>1.289737</th>\n",
       "    <th>1.623900</th>\n",
       "    <th>0.554090</th>\n",
       "    <th>0.658927</th>\n",
       "  </tr>\n",
       "  <tr>\n",
       "    <th>8</th>\n",
       "    <th>1.299599</th>\n",
       "    <th>1.612007</th>\n",
       "    <th>0.554090</th>\n",
       "    <th>0.659631</th>\n",
       "  </tr>\n",
       "</table>\n"
      ],
      "text/plain": [
       "<IPython.core.display.HTML object>"
      ]
     },
     "metadata": {},
     "output_type": "display_data"
    }
   ],
   "source": [
    "learn.load(model_name + '-stage-1')\n",
    "learn.unfreeze()\n",
    "learn.fit_one_cycle(8, max_lr=1e-4)\n",
    "learn.save(model_name + '-stage-2')"
   ]
  },
  {
   "cell_type": "code",
   "execution_count": 21,
   "metadata": {},
   "outputs": [
    {
     "name": "stdout",
     "output_type": "stream",
     "text": [
      "LR Finder is complete, type {learner_name}.recorder.plot() to see the graph.\n"
     ]
    },
    {
     "data": {
      "image/png": "[encoded data removed]",
      "text/plain": [
       "<Figure size 432x288 with 1 Axes>"
      ]
     },
     "metadata": {
      "needs_background": "light"
     },
     "output_type": "display_data"
    }
   ],
   "source": [
    "learn.load(model_name + '-stage-2')\n",
    "learn.unfreeze()\n",
    "learn.lr_find(start_lr=1e-9, end_lr=1e1)\n",
    "learn.recorder.plot()"
   ]
  },
  {
   "cell_type": "code",
   "execution_count": 22,
   "metadata": {},
   "outputs": [
    {
     "data": {
      "text/html": [
       "Total time: 07:06 <p><table style='width:375px; margin-bottom:10px'>\n",
       "  <tr>\n",
       "    <th>epoch</th>\n",
       "    <th>train_loss</th>\n",
       "    <th>valid_loss</th>\n",
       "    <th>accuracy</th>\n",
       "    <th>mapk</th>\n",
       "  </tr>\n",
       "  <tr>\n",
       "    <th>1</th>\n",
       "    <th>1.265276</th>\n",
       "    <th>1.542805</th>\n",
       "    <th>0.563588</th>\n",
       "    <th>0.669041</th>\n",
       "  </tr>\n",
       "  <tr>\n",
       "    <th>2</th>\n",
       "    <th>1.338450</th>\n",
       "    <th>1.653530</th>\n",
       "    <th>0.554090</th>\n",
       "    <th>0.660158</th>\n",
       "  </tr>\n",
       "  <tr>\n",
       "    <th>3</th>\n",
       "    <th>1.164451</th>\n",
       "    <th>1.414444</th>\n",
       "    <th>0.613193</th>\n",
       "    <th>0.702551</th>\n",
       "  </tr>\n",
       "  <tr>\n",
       "    <th>4</th>\n",
       "    <th>1.002989</th>\n",
       "    <th>1.350735</th>\n",
       "    <th>0.649077</th>\n",
       "    <th>0.734741</th>\n",
       "  </tr>\n",
       "  <tr>\n",
       "    <th>5</th>\n",
       "    <th>0.818294</th>\n",
       "    <th>1.287038</th>\n",
       "    <th>0.675462</th>\n",
       "    <th>0.756465</th>\n",
       "  </tr>\n",
       "  <tr>\n",
       "    <th>6</th>\n",
       "    <th>0.655343</th>\n",
       "    <th>1.236616</th>\n",
       "    <th>0.703958</th>\n",
       "    <th>0.776605</th>\n",
       "  </tr>\n",
       "  <tr>\n",
       "    <th>7</th>\n",
       "    <th>0.578368</th>\n",
       "    <th>1.214611</th>\n",
       "    <th>0.708707</th>\n",
       "    <th>0.780739</th>\n",
       "  </tr>\n",
       "  <tr>\n",
       "    <th>8</th>\n",
       "    <th>0.526164</th>\n",
       "    <th>1.180479</th>\n",
       "    <th>0.713984</th>\n",
       "    <th>0.785928</th>\n",
       "  </tr>\n",
       "</table>\n"
      ],
      "text/plain": [
       "<IPython.core.display.HTML object>"
      ]
     },
     "metadata": {},
     "output_type": "display_data"
    }
   ],
   "source": [
    "learn.load(model_name + '-stage-2')\n",
    "learn.unfreeze()\n",
    "learn.fit_one_cycle(8, max_lr=1e-3)\n",
    "learn.save(model_name + '-stage-3')"
   ]
  },
  {
   "cell_type": "code",
   "execution_count": 24,
   "metadata": {},
   "outputs": [
    {
     "data": {
      "text/html": [
       "Total time: 07:15 <p><table style='width:375px; margin-bottom:10px'>\n",
       "  <tr>\n",
       "    <th>epoch</th>\n",
       "    <th>train_loss</th>\n",
       "    <th>valid_loss</th>\n",
       "    <th>accuracy</th>\n",
       "    <th>mapk</th>\n",
       "  </tr>\n",
       "  <tr>\n",
       "    <th>1</th>\n",
       "    <th>0.518674</th>\n",
       "    <th>1.297344</th>\n",
       "    <th>0.693931</th>\n",
       "    <th>0.770185</th>\n",
       "  </tr>\n",
       "  <tr>\n",
       "    <th>2</th>\n",
       "    <th>0.702204</th>\n",
       "    <th>1.334867</th>\n",
       "    <th>0.697625</th>\n",
       "    <th>0.775374</th>\n",
       "  </tr>\n",
       "  <tr>\n",
       "    <th>3</th>\n",
       "    <th>0.710204</th>\n",
       "    <th>1.400598</th>\n",
       "    <th>0.664380</th>\n",
       "    <th>0.748197</th>\n",
       "  </tr>\n",
       "  <tr>\n",
       "    <th>4</th>\n",
       "    <th>0.619795</th>\n",
       "    <th>1.532186</th>\n",
       "    <th>0.671240</th>\n",
       "    <th>0.749692</th>\n",
       "  </tr>\n",
       "  <tr>\n",
       "    <th>5</th>\n",
       "    <th>0.494722</th>\n",
       "    <th>1.293619</th>\n",
       "    <th>0.720317</th>\n",
       "    <th>0.793931</th>\n",
       "  </tr>\n",
       "  <tr>\n",
       "    <th>6</th>\n",
       "    <th>0.366797</th>\n",
       "    <th>1.237247</th>\n",
       "    <th>0.736675</th>\n",
       "    <th>0.800880</th>\n",
       "  </tr>\n",
       "  <tr>\n",
       "    <th>7</th>\n",
       "    <th>0.276208</th>\n",
       "    <th>1.309802</th>\n",
       "    <th>0.732454</th>\n",
       "    <th>0.801495</th>\n",
       "  </tr>\n",
       "  <tr>\n",
       "    <th>8</th>\n",
       "    <th>0.230140</th>\n",
       "    <th>1.280534</th>\n",
       "    <th>0.741952</th>\n",
       "    <th>0.807652</th>\n",
       "  </tr>\n",
       "</table>\n"
      ],
      "text/plain": [
       "<IPython.core.display.HTML object>"
      ]
     },
     "metadata": {},
     "output_type": "display_data"
    }
   ],
   "source": [
    "learn.load(model_name + '-stage-3')\n",
    "learn.unfreeze()\n",
    "learn.fit_one_cycle(8, max_lr=1e-3)\n",
    "learn.save(model_name + '-stage-4')"
   ]
  },
  {
   "cell_type": "code",
   "execution_count": null,
   "metadata": {},
   "outputs": [],
   "source": [
    "def save_submission(learner, filename, tta=False):\n",
    "    fnames = [Path(f).name for f in learn.data.test_ds.x.items]\n",
    "    get_predsfn = learn.TTA if tta else learn.get_preds\n",
    "    preds = get_predsfn(ds_type=DatasetType.Test)[0]\n",
    "    top_3 = np.array(learn.data.classes)[np.argsort(-preds, axis=1)[:, :3]]\n",
    "    labels = [' '.join(list(x)) for x in top_3]\n",
    "    df = pd.DataFrame({'fname': fnames, 'label': labels})\n",
    "    df.to_csv(filename, index=False)\n",
    "    return df"
   ]
  },
  {
   "cell_type": "code",
   "execution_count": null,
   "metadata": {},
   "outputs": [],
   "source": [
    "learn.load(model_name + '-stage-3')\n",
    "df1 = save_submission(learn, 'freesound_22khz_finetune.csv', tta=False)"
   ]
  },
  {
   "cell_type": "code",
   "execution_count": null,
   "metadata": {},
   "outputs": [],
   "source": [
    "learn.load(model_name + '-stage-2')\n",
    "df2 = save_submission(learn, 'freesound_22khz_finetune_tta.csv', tta=True)"
   ]
  },
  {
   "cell_type": "code",
   "execution_count": null,
   "metadata": {},
   "outputs": [],
   "source": []
  }
 ],
 "metadata": {
  "kernelspec": {
   "display_name": "Python 3",
   "language": "python",
   "name": "python3"
  },
  "language_info": {
   "codemirror_mode": {
    "name": "ipython",
    "version": 3
   },
   "file_extension": ".py",
   "mimetype": "text/x-python",
   "name": "python",
   "nbconvert_exporter": "python",
   "pygments_lexer": "ipython3",
   "version": "3.6.7"
  }
 },
 "nbformat": 4,
 "nbformat_minor": 2
}
