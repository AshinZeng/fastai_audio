{
 "cells": [
  {
   "cell_type": "code",
   "execution_count": 1,
   "metadata": {},
   "outputs": [],
   "source": [
    "%reload_ext autoreload\n",
    "%autoreload 2\n",
    "%matplotlib inline"
   ]
  },
  {
   "cell_type": "code",
   "execution_count": 2,
   "metadata": {},
   "outputs": [
    {
     "data": {
      "text/plain": [
       "'1.0.37'"
      ]
     },
     "execution_count": 2,
     "metadata": {},
     "output_type": "execute_result"
    }
   ],
   "source": [
    "import fastai\n",
    "fastai.__version__"
   ]
  },
  {
   "cell_type": "code",
   "execution_count": 3,
   "metadata": {},
   "outputs": [],
   "source": [
    "from fastai import *\n",
    "from fastai_audio import *"
   ]
  },
  {
   "cell_type": "code",
   "execution_count": 4,
   "metadata": {},
   "outputs": [],
   "source": [
    "DATA = Path('data')\n",
    "NSYNTH_AUDIO = DATA/'nsynth_audio' # contains train and valid folders"
   ]
  },
  {
   "cell_type": "code",
   "execution_count": 5,
   "metadata": {},
   "outputs": [
    {
     "name": "stdout",
     "output_type": "stream",
     "text": [
      "models\t\t\t\ttrain_guitar_clean_40_88.csv\n",
      "test\t\t\t\ttrain_keyboard_clean_21_108.csv\n",
      "test_guitar_clean_40_88.csv\tvalid\n",
      "test_keyboard_clean_21_108.csv\tvalid_guitar_clean_40_88.csv\n",
      "train\t\t\t\tvalid_keyboard_clean_21_108.csv\n"
     ]
    }
   ],
   "source": [
    "!ls {NSYNTH_AUDIO}"
   ]
  },
  {
   "cell_type": "code",
   "execution_count": 6,
   "metadata": {},
   "outputs": [
    {
     "name": "stdout",
     "output_type": "stream",
     "text": [
      "test_guitar_clean_40_88.csv\ttrain_keyboard_clean_21_108.csv\n",
      "test_keyboard_clean_21_108.csv\tvalid_guitar_clean_40_88.csv\n",
      "train_guitar_clean_40_88.csv\tvalid_keyboard_clean_21_108.csv\n"
     ]
    }
   ],
   "source": [
    "!ls tmp_labels"
   ]
  },
  {
   "cell_type": "code",
   "execution_count": 7,
   "metadata": {},
   "outputs": [],
   "source": [
    "LABEL_DIR = Path('tmp_labels')\n",
    "GUITAR_TRN = LABEL_DIR/'train_guitar_clean_40_88.csv'\n",
    "GUITAR_VAL = LABEL_DIR/'valid_guitar_clean_40_88.csv'\n",
    "GUITAR_TST = LABEL_DIR/'test_guitar_clean_40_88.csv'"
   ]
  },
  {
   "cell_type": "code",
   "execution_count": 8,
   "metadata": {},
   "outputs": [
    {
     "data": {
      "text/html": [
       "<div>\n",
       "<style scoped>\n",
       "    .dataframe tbody tr th:only-of-type {\n",
       "        vertical-align: middle;\n",
       "    }\n",
       "\n",
       "    .dataframe tbody tr th {\n",
       "        vertical-align: top;\n",
       "    }\n",
       "\n",
       "    .dataframe thead th {\n",
       "        text-align: right;\n",
       "    }\n",
       "</style>\n",
       "<table border=\"1\" class=\"dataframe\">\n",
       "  <thead>\n",
       "    <tr style=\"text-align: right;\">\n",
       "      <th></th>\n",
       "      <th>note_str</th>\n",
       "      <th>pitch</th>\n",
       "    </tr>\n",
       "  </thead>\n",
       "  <tbody>\n",
       "    <tr>\n",
       "      <th>0</th>\n",
       "      <td>guitar_acoustic_001-082-050</td>\n",
       "      <td>82</td>\n",
       "    </tr>\n",
       "    <tr>\n",
       "      <th>1</th>\n",
       "      <td>guitar_electronic_035-062-127</td>\n",
       "      <td>62</td>\n",
       "    </tr>\n",
       "  </tbody>\n",
       "</table>\n",
       "</div>"
      ],
      "text/plain": [
       "                        note_str  pitch\n",
       "0    guitar_acoustic_001-082-050     82\n",
       "1  guitar_electronic_035-062-127     62"
      ]
     },
     "execution_count": 8,
     "metadata": {},
     "output_type": "execute_result"
    }
   ],
   "source": [
    "trn_df, val_df, tst_df = [pd.read_csv(CSV) for CSV in [GUITAR_TRN, GUITAR_VAL, GUITAR_TST]]\n",
    "trn_df.head(2)"
   ]
  },
  {
   "cell_type": "code",
   "execution_count": 9,
   "metadata": {},
   "outputs": [
    {
     "data": {
      "text/plain": [
       "(16915, 1112, 347)"
      ]
     },
     "execution_count": 9,
     "metadata": {},
     "output_type": "execute_result"
    }
   ],
   "source": [
    "len(trn_df), len(val_df), len(tst_df)"
   ]
  },
  {
   "cell_type": "code",
   "execution_count": 10,
   "metadata": {},
   "outputs": [
    {
     "data": {
      "text/plain": [
       "(16915, 1112, 347)"
      ]
     },
     "execution_count": 10,
     "metadata": {},
     "output_type": "execute_result"
    }
   ],
   "source": [
    "trn_list, val_list, tst_list = [AudioItemList.from_df(df, path=NSYNTH_AUDIO, \n",
    "                                                      folder=folder, suffix='.wav')\n",
    "                                for df, folder in zip([trn_df, val_df, tst_df], \n",
    "                                                      ['train', 'valid', 'test'])]\n",
    "len(trn_list), len(val_list), len(tst_list)"
   ]
  },
  {
   "cell_type": "code",
   "execution_count": 11,
   "metadata": {},
   "outputs": [],
   "source": [
    "def get_frame(x):\n",
    "    start = 1024\n",
    "    frame_len = 1024\n",
    "    return x[start:start+frame_len]"
   ]
  },
  {
   "cell_type": "code",
   "execution_count": 12,
   "metadata": {},
   "outputs": [
    {
     "data": {
      "text/plain": [
       "(torch.Size([32, 1024]), torch.Size([32]), tensor(-0.8722), tensor(0.9465))"
      ]
     },
     "execution_count": 12,
     "metadata": {},
     "output_type": "execute_result"
    }
   ],
   "source": [
    "tfm_list = [get_frame]\n",
    "tfms = (tfm_list, tfm_list) # train, valid tfms \n",
    "\n",
    "n_fft = 512 \n",
    "n_hop = 256\n",
    "n_mels = 64\n",
    "sample_rate = 16000\n",
    "ref = 'max'\n",
    "top_db = 50.0\n",
    "bs = 32\n",
    "\n",
    "data = (ItemLists(NSYNTH_AUDIO, trn_list, val_list)\n",
    "            .label_from_df('pitch')\n",
    "            .add_test(tst_list)\n",
    "            .transform(tfms)\n",
    "            .databunch(bs=bs))\n",
    "xs, ys = data.one_batch()\n",
    "xs.shape, ys.shape, xs.min(), xs.max()"
   ]
  },
  {
   "cell_type": "code",
   "execution_count": 13,
   "metadata": {},
   "outputs": [
    {
     "data": {
      "text/plain": [
       "[<matplotlib.lines.Line2D at 0x7f90126e1908>]"
      ]
     },
     "execution_count": 13,
     "metadata": {},
     "output_type": "execute_result"
    },
    {
     "data": {
      "image/png": "[encoded data removed]",
      "text/plain": [
       "<Figure size 432x288 with 1 Axes>"
      ]
     },
     "metadata": {
      "needs_background": "light"
     },
     "output_type": "display_data"
    }
   ],
   "source": [
    "plt.plot(xs[0])"
   ]
  },
  {
   "cell_type": "code",
   "execution_count": 16,
   "metadata": {},
   "outputs": [],
   "source": [
    "class SimpleModel(nn.Module):\n",
    "    def __init__(self, n_classes):\n",
    "        super().__init__()\n",
    "        self.layers = nn.Sequential(\n",
    "            *bn_drop_lin(1024, 1024, actn=nn.ReLU(inplace=True)),\n",
    "            *bn_drop_lin(1024, 512, actn=nn.ReLU(inplace=True)),\n",
    "            *bn_drop_lin(512, n_classes, actn=None),\n",
    "        )\n",
    "    def forward(self, x):\n",
    "        return self.layers(x)"
   ]
  },
  {
   "cell_type": "code",
   "execution_count": 17,
   "metadata": {},
   "outputs": [
    {
     "name": "stdout",
     "output_type": "stream",
     "text": [
      "======================================================================\n",
      "Layer (type)         Output Shape         Param #    Trainable \n",
      "======================================================================\n",
      "BatchNorm1d          [32, 1024]           2048       True      \n",
      "______________________________________________________________________\n",
      "Linear               [32, 1024]           1049600    True      \n",
      "______________________________________________________________________\n",
      "ReLU                 [32, 1024]           0          False     \n",
      "______________________________________________________________________\n",
      "BatchNorm1d          [32, 1024]           2048       True      \n",
      "______________________________________________________________________\n",
      "Linear               [32, 512]            524800     True      \n",
      "______________________________________________________________________\n",
      "ReLU                 [32, 512]            0          False     \n",
      "______________________________________________________________________\n",
      "BatchNorm1d          [32, 512]            1024       True      \n",
      "______________________________________________________________________\n",
      "Linear               [32, 48]             24624      True      \n",
      "______________________________________________________________________\n",
      "\n",
      "Total params:  1604144\n",
      "Total trainable params:  1604144\n",
      "Total non-trainable params:  0\n"
     ]
    }
   ],
   "source": [
    "model = SimpleModel(data.c)\n",
    "learn = Learner(data, model, metrics=[accuracy])\n",
    "learn.summary()"
   ]
  },
  {
   "cell_type": "code",
   "execution_count": 18,
   "metadata": {},
   "outputs": [
    {
     "data": {
      "text/html": [
       "Total time: 00:14 <p><table style='width:300px; margin-bottom:10px'>\n",
       "  <tr>\n",
       "    <th>epoch</th>\n",
       "    <th>train_loss</th>\n",
       "    <th>valid_loss</th>\n",
       "    <th>accuracy</th>\n",
       "  </tr>\n",
       "  <tr>\n",
       "    <th>1</th>\n",
       "    <th>1.201909</th>\n",
       "    <th>0.702092</th>\n",
       "    <th>0.779676</th>\n",
       "  </tr>\n",
       "  <tr>\n",
       "    <th>2</th>\n",
       "    <th>0.840669</th>\n",
       "    <th>0.417505</th>\n",
       "    <th>0.880396</th>\n",
       "  </tr>\n",
       "  <tr>\n",
       "    <th>3</th>\n",
       "    <th>0.525824</th>\n",
       "    <th>0.193923</th>\n",
       "    <th>0.958633</th>\n",
       "  </tr>\n",
       "  <tr>\n",
       "    <th>4</th>\n",
       "    <th>0.344534</th>\n",
       "    <th>0.142648</th>\n",
       "    <th>0.963130</th>\n",
       "  </tr>\n",
       "</table>\n"
      ],
      "text/plain": [
       "<IPython.core.display.HTML object>"
      ]
     },
     "metadata": {},
     "output_type": "display_data"
    }
   ],
   "source": [
    "model_name = 'pitch_frame_v1'\n",
    "learn.fit_one_cycle(4)\n",
    "learn.save(model_name + '-stage-1')"
   ]
  },
  {
   "cell_type": "code",
   "execution_count": 19,
   "metadata": {},
   "outputs": [
    {
     "name": "stdout",
     "output_type": "stream",
     "text": [
      "LR Finder is complete, type {learner_name}.recorder.plot() to see the graph.\n"
     ]
    },
    {
     "data": {
      "image/png": "[encoded data removed]",
      "text/plain": [
       "<Figure size 432x288 with 1 Axes>"
      ]
     },
     "metadata": {
      "needs_background": "light"
     },
     "output_type": "display_data"
    }
   ],
   "source": [
    "learn.load(model_name + '-stage-1')\n",
    "learn.lr_find()\n",
    "learn.recorder.plot()"
   ]
  },
  {
   "cell_type": "code",
   "execution_count": 20,
   "metadata": {},
   "outputs": [
    {
     "data": {
      "text/html": [
       "Total time: 00:30 <p><table style='width:300px; margin-bottom:10px'>\n",
       "  <tr>\n",
       "    <th>epoch</th>\n",
       "    <th>train_loss</th>\n",
       "    <th>valid_loss</th>\n",
       "    <th>accuracy</th>\n",
       "  </tr>\n",
       "  <tr>\n",
       "    <th>1</th>\n",
       "    <th>0.342822</th>\n",
       "    <th>0.135537</th>\n",
       "    <th>0.967626</th>\n",
       "  </tr>\n",
       "  <tr>\n",
       "    <th>2</th>\n",
       "    <th>0.350471</th>\n",
       "    <th>0.131906</th>\n",
       "    <th>0.970324</th>\n",
       "  </tr>\n",
       "  <tr>\n",
       "    <th>3</th>\n",
       "    <th>0.385283</th>\n",
       "    <th>0.170174</th>\n",
       "    <th>0.942446</th>\n",
       "  </tr>\n",
       "  <tr>\n",
       "    <th>4</th>\n",
       "    <th>0.332641</th>\n",
       "    <th>0.152978</th>\n",
       "    <th>0.959532</th>\n",
       "  </tr>\n",
       "  <tr>\n",
       "    <th>5</th>\n",
       "    <th>0.278188</th>\n",
       "    <th>0.113127</th>\n",
       "    <th>0.967626</th>\n",
       "  </tr>\n",
       "  <tr>\n",
       "    <th>6</th>\n",
       "    <th>0.244537</th>\n",
       "    <th>0.119419</th>\n",
       "    <th>0.959532</th>\n",
       "  </tr>\n",
       "  <tr>\n",
       "    <th>7</th>\n",
       "    <th>0.261006</th>\n",
       "    <th>0.108091</th>\n",
       "    <th>0.964928</th>\n",
       "  </tr>\n",
       "  <tr>\n",
       "    <th>8</th>\n",
       "    <th>0.239937</th>\n",
       "    <th>0.110310</th>\n",
       "    <th>0.967626</th>\n",
       "  </tr>\n",
       "</table>\n"
      ],
      "text/plain": [
       "<IPython.core.display.HTML object>"
      ]
     },
     "metadata": {},
     "output_type": "display_data"
    }
   ],
   "source": [
    "learn.load(model_name + '-stage-1')\n",
    "learn.fit_one_cycle(8, max_lr=1e-3)\n",
    "learn.save(model_name + '-stage-2')"
   ]
  },
  {
   "cell_type": "code",
   "execution_count": 21,
   "metadata": {},
   "outputs": [
    {
     "name": "stdout",
     "output_type": "stream",
     "text": [
      "LR Finder is complete, type {learner_name}.recorder.plot() to see the graph.\n"
     ]
    },
    {
     "data": {
      "image/png": "[encoded data removed]",
      "text/plain": [
       "<Figure size 432x288 with 1 Axes>"
      ]
     },
     "metadata": {
      "needs_background": "light"
     },
     "output_type": "display_data"
    }
   ],
   "source": [
    "learn.load(model_name + '-stage-2')\n",
    "learn.lr_find()\n",
    "learn.recorder.plot()"
   ]
  },
  {
   "cell_type": "code",
   "execution_count": 22,
   "metadata": {},
   "outputs": [
    {
     "data": {
      "text/html": [
       "Total time: 00:31 <p><table style='width:300px; margin-bottom:10px'>\n",
       "  <tr>\n",
       "    <th>epoch</th>\n",
       "    <th>train_loss</th>\n",
       "    <th>valid_loss</th>\n",
       "    <th>accuracy</th>\n",
       "  </tr>\n",
       "  <tr>\n",
       "    <th>1</th>\n",
       "    <th>0.251444</th>\n",
       "    <th>0.104230</th>\n",
       "    <th>0.967626</th>\n",
       "  </tr>\n",
       "  <tr>\n",
       "    <th>2</th>\n",
       "    <th>0.288094</th>\n",
       "    <th>0.114215</th>\n",
       "    <th>0.960432</th>\n",
       "  </tr>\n",
       "  <tr>\n",
       "    <th>3</th>\n",
       "    <th>0.322787</th>\n",
       "    <th>0.162742</th>\n",
       "    <th>0.949640</th>\n",
       "  </tr>\n",
       "  <tr>\n",
       "    <th>4</th>\n",
       "    <th>0.328071</th>\n",
       "    <th>0.145071</th>\n",
       "    <th>0.952338</th>\n",
       "  </tr>\n",
       "  <tr>\n",
       "    <th>5</th>\n",
       "    <th>0.275119</th>\n",
       "    <th>0.108753</th>\n",
       "    <th>0.970324</th>\n",
       "  </tr>\n",
       "  <tr>\n",
       "    <th>6</th>\n",
       "    <th>0.237573</th>\n",
       "    <th>0.120393</th>\n",
       "    <th>0.963130</th>\n",
       "  </tr>\n",
       "  <tr>\n",
       "    <th>7</th>\n",
       "    <th>0.206974</th>\n",
       "    <th>0.105555</th>\n",
       "    <th>0.967626</th>\n",
       "  </tr>\n",
       "  <tr>\n",
       "    <th>8</th>\n",
       "    <th>0.196873</th>\n",
       "    <th>0.100890</th>\n",
       "    <th>0.973022</th>\n",
       "  </tr>\n",
       "</table>\n"
      ],
      "text/plain": [
       "<IPython.core.display.HTML object>"
      ]
     },
     "metadata": {},
     "output_type": "display_data"
    }
   ],
   "source": [
    "learn.load(model_name + '-stage-2')\n",
    "learn.fit_one_cycle(8, max_lr=1e-3)\n",
    "learn.save(model_name + '-stage-3')"
   ]
  },
  {
   "cell_type": "code",
   "execution_count": 23,
   "metadata": {},
   "outputs": [
    {
     "name": "stdout",
     "output_type": "stream",
     "text": [
      "LR Finder is complete, type {learner_name}.recorder.plot() to see the graph.\n"
     ]
    },
    {
     "data": {
      "image/png": "[encoded data removed]",
      "text/plain": [
       "<Figure size 432x288 with 1 Axes>"
      ]
     },
     "metadata": {
      "needs_background": "light"
     },
     "output_type": "display_data"
    }
   ],
   "source": [
    "learn.load(model_name + '-stage-3')\n",
    "learn.lr_find(start_lr=1e-9, end_lr=1)\n",
    "learn.recorder.plot()"
   ]
  },
  {
   "cell_type": "code",
   "execution_count": 24,
   "metadata": {},
   "outputs": [
    {
     "data": {
      "text/html": [
       "Total time: 00:32 <p><table style='width:300px; margin-bottom:10px'>\n",
       "  <tr>\n",
       "    <th>epoch</th>\n",
       "    <th>train_loss</th>\n",
       "    <th>valid_loss</th>\n",
       "    <th>accuracy</th>\n",
       "  </tr>\n",
       "  <tr>\n",
       "    <th>1</th>\n",
       "    <th>0.208807</th>\n",
       "    <th>0.108358</th>\n",
       "    <th>0.969424</th>\n",
       "  </tr>\n",
       "  <tr>\n",
       "    <th>2</th>\n",
       "    <th>0.230615</th>\n",
       "    <th>0.094122</th>\n",
       "    <th>0.975719</th>\n",
       "  </tr>\n",
       "  <tr>\n",
       "    <th>3</th>\n",
       "    <th>0.198218</th>\n",
       "    <th>0.096930</th>\n",
       "    <th>0.974820</th>\n",
       "  </tr>\n",
       "  <tr>\n",
       "    <th>4</th>\n",
       "    <th>0.203226</th>\n",
       "    <th>0.102230</th>\n",
       "    <th>0.971223</th>\n",
       "  </tr>\n",
       "  <tr>\n",
       "    <th>5</th>\n",
       "    <th>0.200530</th>\n",
       "    <th>0.100784</th>\n",
       "    <th>0.972122</th>\n",
       "  </tr>\n",
       "  <tr>\n",
       "    <th>6</th>\n",
       "    <th>0.191049</th>\n",
       "    <th>0.102604</th>\n",
       "    <th>0.971223</th>\n",
       "  </tr>\n",
       "  <tr>\n",
       "    <th>7</th>\n",
       "    <th>0.203926</th>\n",
       "    <th>0.095916</th>\n",
       "    <th>0.973921</th>\n",
       "  </tr>\n",
       "  <tr>\n",
       "    <th>8</th>\n",
       "    <th>0.190772</th>\n",
       "    <th>0.096210</th>\n",
       "    <th>0.976619</th>\n",
       "  </tr>\n",
       "</table>\n"
      ],
      "text/plain": [
       "<IPython.core.display.HTML object>"
      ]
     },
     "metadata": {},
     "output_type": "display_data"
    }
   ],
   "source": [
    "learn.load(model_name + '-stage-3')\n",
    "learn.fit_one_cycle(8, max_lr=1e-4)\n",
    "learn.save(model_name + '-stage-4')"
   ]
  },
  {
   "cell_type": "code",
   "execution_count": 25,
   "metadata": {},
   "outputs": [
    {
     "data": {
      "text/html": [
       "Total time: 00:29 <p><table style='width:300px; margin-bottom:10px'>\n",
       "  <tr>\n",
       "    <th>epoch</th>\n",
       "    <th>train_loss</th>\n",
       "    <th>valid_loss</th>\n",
       "    <th>accuracy</th>\n",
       "  </tr>\n",
       "  <tr>\n",
       "    <th>1</th>\n",
       "    <th>0.195276</th>\n",
       "    <th>0.106581</th>\n",
       "    <th>0.969424</th>\n",
       "  </tr>\n",
       "  <tr>\n",
       "    <th>2</th>\n",
       "    <th>0.208572</th>\n",
       "    <th>0.102337</th>\n",
       "    <th>0.974820</th>\n",
       "  </tr>\n",
       "  <tr>\n",
       "    <th>3</th>\n",
       "    <th>0.218549</th>\n",
       "    <th>0.094202</th>\n",
       "    <th>0.974820</th>\n",
       "  </tr>\n",
       "  <tr>\n",
       "    <th>4</th>\n",
       "    <th>0.203664</th>\n",
       "    <th>0.098852</th>\n",
       "    <th>0.967626</th>\n",
       "  </tr>\n",
       "  <tr>\n",
       "    <th>5</th>\n",
       "    <th>0.223389</th>\n",
       "    <th>0.105279</th>\n",
       "    <th>0.970324</th>\n",
       "  </tr>\n",
       "  <tr>\n",
       "    <th>6</th>\n",
       "    <th>0.216043</th>\n",
       "    <th>0.103227</th>\n",
       "    <th>0.969424</th>\n",
       "  </tr>\n",
       "  <tr>\n",
       "    <th>7</th>\n",
       "    <th>0.185437</th>\n",
       "    <th>0.105510</th>\n",
       "    <th>0.968525</th>\n",
       "  </tr>\n",
       "  <tr>\n",
       "    <th>8</th>\n",
       "    <th>0.205683</th>\n",
       "    <th>0.098810</th>\n",
       "    <th>0.974820</th>\n",
       "  </tr>\n",
       "</table>\n"
      ],
      "text/plain": [
       "<IPython.core.display.HTML object>"
      ]
     },
     "metadata": {},
     "output_type": "display_data"
    }
   ],
   "source": [
    "learn.load(model_name + '-stage-3')\n",
    "learn.fit_one_cycle(8, max_lr=1e-5)\n",
    "learn.save(model_name + '-stage-4')"
   ]
  },
  {
   "cell_type": "code",
   "execution_count": 26,
   "metadata": {},
   "outputs": [
    {
     "data": {
      "text/plain": [
       "tensor(0.9748)"
      ]
     },
     "execution_count": 26,
     "metadata": {},
     "output_type": "execute_result"
    }
   ],
   "source": [
    "accuracy(*learn.get_preds())"
   ]
  },
  {
   "cell_type": "code",
   "execution_count": 27,
   "metadata": {},
   "outputs": [
    {
     "name": "stdout",
     "output_type": "stream",
     "text": [
      "713 errors\n"
     ]
    }
   ],
   "source": [
    "n_errors = round(float(1 - accuracy(*learn.get_preds(DatasetType.Train))) * len(trn_list))\n",
    "print(n_errors, 'errors')"
   ]
  },
  {
   "cell_type": "code",
   "execution_count": null,
   "metadata": {},
   "outputs": [],
   "source": []
  }
 ],
 "metadata": {
  "kernelspec": {
   "display_name": "Python 3",
   "language": "python",
   "name": "python3"
  },
  "language_info": {
   "codemirror_mode": {
    "name": "ipython",
    "version": 3
   },
   "file_extension": ".py",
   "mimetype": "text/x-python",
   "name": "python",
   "nbconvert_exporter": "python",
   "pygments_lexer": "ipython3",
   "version": "3.6.6"
  }
 },
 "nbformat": 4,
 "nbformat_minor": 2
}
