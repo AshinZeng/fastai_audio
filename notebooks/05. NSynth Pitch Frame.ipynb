{
 "cells": [
  {
   "cell_type": "code",
   "execution_count": 1,
   "metadata": {},
   "outputs": [],
   "source": [
    "%reload_ext autoreload\n",
    "%autoreload 2\n",
    "%matplotlib inline"
   ]
  },
  {
   "cell_type": "code",
   "execution_count": 2,
   "metadata": {},
   "outputs": [
    {
     "data": {
      "text/plain": [
       "'1.0.37'"
      ]
     },
     "execution_count": 2,
     "metadata": {},
     "output_type": "execute_result"
    }
   ],
   "source": [
    "import fastai\n",
    "fastai.__version__"
   ]
  },
  {
   "cell_type": "code",
   "execution_count": 3,
   "metadata": {},
   "outputs": [],
   "source": [
    "from fastai import *\n",
    "from fastai_audio import *\n",
    "from fastai.vision import models"
   ]
  },
  {
   "cell_type": "code",
   "execution_count": 4,
   "metadata": {},
   "outputs": [],
   "source": [
    "DATA = Path('data')\n",
    "NSYNTH_AUDIO = DATA/'nsynth_audio' # contains train and valid folders"
   ]
  },
  {
   "cell_type": "code",
   "execution_count": 5,
   "metadata": {},
   "outputs": [
    {
     "name": "stdout",
     "output_type": "stream",
     "text": [
      "\u001b[1m\u001b[34mmodels\u001b[m\u001b[m                          train_guitar_clean_40_88.csv\n",
      "\u001b[1m\u001b[34mtest\u001b[m\u001b[m                            train_keyboard_clean_21_108.csv\n",
      "test_guitar_clean_40_88.csv     \u001b[1m\u001b[34mvalid\u001b[m\u001b[m\n",
      "test_keyboard_clean_21_108.csv  valid_guitar_clean_40_88.csv\n",
      "\u001b[1m\u001b[34mtrain\u001b[m\u001b[m                           valid_keyboard_clean_21_108.csv\n"
     ]
    }
   ],
   "source": [
    "!ls {NSYNTH_AUDIO}"
   ]
  },
  {
   "cell_type": "code",
   "execution_count": 6,
   "metadata": {},
   "outputs": [
    {
     "name": "stdout",
     "output_type": "stream",
     "text": [
      "test_guitar_clean_40_88.csv     train_keyboard_clean_21_108.csv\n",
      "test_keyboard_clean_21_108.csv  valid_guitar_clean_40_88.csv\n",
      "train_guitar_clean_40_88.csv    valid_keyboard_clean_21_108.csv\n"
     ]
    }
   ],
   "source": [
    "!ls tmp_labels"
   ]
  },
  {
   "cell_type": "code",
   "execution_count": 7,
   "metadata": {},
   "outputs": [],
   "source": [
    "LABEL_DIR = Path('tmp_labels')\n",
    "GUITAR_TRN = LABEL_DIR/'train_guitar_clean_40_88.csv'\n",
    "GUITAR_VAL = LABEL_DIR/'valid_guitar_clean_40_88.csv'\n",
    "GUITAR_TST = LABEL_DIR/'test_guitar_clean_40_88.csv'"
   ]
  },
  {
   "cell_type": "code",
   "execution_count": 8,
   "metadata": {},
   "outputs": [
    {
     "data": {
      "text/html": [
       "<div>\n",
       "<style scoped>\n",
       "    .dataframe tbody tr th:only-of-type {\n",
       "        vertical-align: middle;\n",
       "    }\n",
       "\n",
       "    .dataframe tbody tr th {\n",
       "        vertical-align: top;\n",
       "    }\n",
       "\n",
       "    .dataframe thead th {\n",
       "        text-align: right;\n",
       "    }\n",
       "</style>\n",
       "<table border=\"1\" class=\"dataframe\">\n",
       "  <thead>\n",
       "    <tr style=\"text-align: right;\">\n",
       "      <th></th>\n",
       "      <th>note_str</th>\n",
       "      <th>pitch</th>\n",
       "    </tr>\n",
       "  </thead>\n",
       "  <tbody>\n",
       "    <tr>\n",
       "      <th>0</th>\n",
       "      <td>guitar_acoustic_001-082-050</td>\n",
       "      <td>82</td>\n",
       "    </tr>\n",
       "    <tr>\n",
       "      <th>1</th>\n",
       "      <td>guitar_electronic_035-062-127</td>\n",
       "      <td>62</td>\n",
       "    </tr>\n",
       "  </tbody>\n",
       "</table>\n",
       "</div>"
      ],
      "text/plain": [
       "                        note_str  pitch\n",
       "0    guitar_acoustic_001-082-050     82\n",
       "1  guitar_electronic_035-062-127     62"
      ]
     },
     "execution_count": 8,
     "metadata": {},
     "output_type": "execute_result"
    }
   ],
   "source": [
    "trn_df, val_df, tst_df = [pd.read_csv(CSV) for CSV in [GUITAR_TRN, GUITAR_VAL, GUITAR_TST]]\n",
    "trn_df.head(2)"
   ]
  },
  {
   "cell_type": "code",
   "execution_count": 9,
   "metadata": {},
   "outputs": [
    {
     "data": {
      "text/plain": [
       "(16915, 1112, 347)"
      ]
     },
     "execution_count": 9,
     "metadata": {},
     "output_type": "execute_result"
    }
   ],
   "source": [
    "len(trn_df), len(val_df), len(tst_df)"
   ]
  },
  {
   "cell_type": "code",
   "execution_count": 10,
   "metadata": {},
   "outputs": [
    {
     "data": {
      "text/plain": [
       "(16915, 1112, 347)"
      ]
     },
     "execution_count": 10,
     "metadata": {},
     "output_type": "execute_result"
    }
   ],
   "source": [
    "trn_list, val_list, tst_list = [AudioItemList.from_df(df, path=NSYNTH_AUDIO, \n",
    "                                                      folder=folder, suffix='.wav')\n",
    "                                for df, folder in zip([trn_df, val_df, tst_df], \n",
    "                                                      ['train', 'valid', 'test'])]\n",
    "len(trn_list), len(val_list), len(tst_list)"
   ]
  },
  {
   "cell_type": "code",
   "execution_count": 11,
   "metadata": {},
   "outputs": [],
   "source": [
    "def get_frame(x):\n",
    "    start = 1024\n",
    "    frame_len = 512\n",
    "    return x[start:start+frame_len]"
   ]
  },
  {
   "cell_type": "code",
   "execution_count": 13,
   "metadata": {},
   "outputs": [
    {
     "data": {
      "text/plain": [
       "(torch.Size([32, 512]), torch.Size([32]), tensor(-0.9259), tensor(0.8436))"
      ]
     },
     "execution_count": 13,
     "metadata": {},
     "output_type": "execute_result"
    }
   ],
   "source": [
    "tfm_list = [get_frame]\n",
    "tfms = (tfm_list, tfm_list) # train, valid tfms \n",
    "\n",
    "n_fft = 512 \n",
    "n_hop = 256\n",
    "n_mels = 64\n",
    "sample_rate = 16000\n",
    "ref = 'max'\n",
    "top_db = 50.0\n",
    "bs = 32\n",
    "\n",
    "# freq_tfms = get_frequency_batch_transforms(n_fft=n_fft,\n",
    "#                                            n_hop=n_hop,\n",
    "#                                            n_mels=n_mels,\n",
    "#                                            ref=ref,\n",
    "#                                            top_db=top_db,\n",
    "#                                            sample_rate=sample_rate)\n",
    "\n",
    "data = (ItemLists(NSYNTH_AUDIO, trn_list, val_list)\n",
    "            .label_from_df('pitch')\n",
    "            .add_test(tst_list)\n",
    "            .transform(tfms)\n",
    "            .databunch(bs=bs))\n",
    "xs, ys = data.one_batch()\n",
    "xs.shape, ys.shape, xs.min(), xs.max()"
   ]
  },
  {
   "cell_type": "code",
   "execution_count": 20,
   "metadata": {},
   "outputs": [],
   "source": [
    "class SimpleModel(nn.Module):\n",
    "    def __init__(self, n_classes):\n",
    "        super().__init__()\n",
    "        self.layers = nn.Sequential(\n",
    "            *bn_drop_lin(512, 1024, actn=nn.ReLU(inplace=True)),\n",
    "            *bn_drop_lin(1024, 512, actn=nn.ReLU(inplace=True)),\n",
    "            *bn_drop_lin(512, n_classes, actn=None),\n",
    "        )\n",
    "    def forward(self, x):\n",
    "        return self.layers(x)"
   ]
  },
  {
   "cell_type": "code",
   "execution_count": 21,
   "metadata": {},
   "outputs": [
    {
     "name": "stdout",
     "output_type": "stream",
     "text": [
      "======================================================================\n",
      "Layer (type)         Output Shape         Param #    Trainable \n",
      "======================================================================\n",
      "BatchNorm1d          [32, 512]            1024       True      \n",
      "______________________________________________________________________\n",
      "Linear               [32, 1024]           525312     True      \n",
      "______________________________________________________________________\n",
      "ReLU                 [32, 1024]           0          False     \n",
      "______________________________________________________________________\n",
      "BatchNorm1d          [32, 1024]           2048       True      \n",
      "______________________________________________________________________\n",
      "Linear               [32, 512]            524800     True      \n",
      "______________________________________________________________________\n",
      "ReLU                 [32, 512]            0          False     \n",
      "______________________________________________________________________\n",
      "BatchNorm1d          [32, 512]            1024       True      \n",
      "______________________________________________________________________\n",
      "Linear               [32, 48]             24624      True      \n",
      "______________________________________________________________________\n",
      "\n",
      "Total params:  1078832\n",
      "Total trainable params:  1078832\n",
      "Total non-trainable params:  0\n"
     ]
    }
   ],
   "source": [
    "model = SimpleModel(data.c)\n",
    "learn = Learner(data, model, metrics=[accuracy])\n",
    "learn.summary()"
   ]
  },
  {
   "cell_type": "code",
   "execution_count": null,
   "metadata": {},
   "outputs": [],
   "source": [
    "model_name = 'pitch_frame_v1'\n",
    "learn.fit_one_cycle(4)\n",
    "learn.save(model_name + '-stage-1')"
   ]
  },
  {
   "cell_type": "code",
   "execution_count": null,
   "metadata": {},
   "outputs": [],
   "source": [
    "learn.load(model_name + '-stage-1')\n",
    "learn.lr_find()\n",
    "learn.recorder.plot()"
   ]
  },
  {
   "cell_type": "code",
   "execution_count": null,
   "metadata": {},
   "outputs": [],
   "source": [
    "learn.load(model_name + '-stage-1')\n",
    "learn.fit_one_cycle(8, max_lr=1e-3)\n",
    "learn.save(model_name + '-stage-2')"
   ]
  },
  {
   "cell_type": "code",
   "execution_count": null,
   "metadata": {},
   "outputs": [],
   "source": [
    "learn.load(model_name + '-stage-2')\n",
    "learn.unfreeze()\n",
    "learn.lr_find()\n",
    "learn.recorder.plot()"
   ]
  },
  {
   "cell_type": "code",
   "execution_count": null,
   "metadata": {},
   "outputs": [],
   "source": [
    "learn.load(model_name + '-stage-2')\n",
    "learn.fit_one_cycle(8, max_lr=1e-4)\n",
    "learn.save(model_name + '-stage-3')"
   ]
  },
  {
   "cell_type": "code",
   "execution_count": null,
   "metadata": {},
   "outputs": [],
   "source": [
    "learn.load(model_name + '-stage-3')\n",
    "learn.lr_find()\n",
    "learn.recorder.plot()"
   ]
  },
  {
   "cell_type": "code",
   "execution_count": null,
   "metadata": {},
   "outputs": [],
   "source": [
    "learn.load(model_name + '-stage-3')\n",
    "learn.fit_one_cycle(8, max_lr=1e-5)\n",
    "learn.save(model_name + '-stage-4')"
   ]
  },
  {
   "cell_type": "code",
   "execution_count": null,
   "metadata": {},
   "outputs": [],
   "source": [
    "accuracy(*learn.get_preds())"
   ]
  },
  {
   "cell_type": "code",
   "execution_count": null,
   "metadata": {},
   "outputs": [],
   "source": [
    "n_errors = round(float(1 - accuracy(*learn.get_preds(DatasetType.Train))) * len(trn_list))\n",
    "print(n_errors, 'errors')"
   ]
  },
  {
   "cell_type": "code",
   "execution_count": null,
   "metadata": {},
   "outputs": [],
   "source": []
  }
 ],
 "metadata": {
  "kernelspec": {
   "display_name": "Python 3",
   "language": "python",
   "name": "python3"
  },
  "language_info": {
   "codemirror_mode": {
    "name": "ipython",
    "version": 3
   },
   "file_extension": ".py",
   "mimetype": "text/x-python",
   "name": "python",
   "nbconvert_exporter": "python",
   "pygments_lexer": "ipython3",
   "version": "3.6.7"
  }
 },
 "nbformat": 4,
 "nbformat_minor": 2
}
