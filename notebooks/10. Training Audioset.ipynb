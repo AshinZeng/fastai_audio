{
 "cells": [
  {
   "cell_type": "code",
   "execution_count": 1,
   "metadata": {},
   "outputs": [],
   "source": [
    "%reload_ext autoreload\n",
    "%autoreload 2\n",
    "%matplotlib inline"
   ]
  },
  {
   "cell_type": "code",
   "execution_count": 2,
   "metadata": {},
   "outputs": [
    {
     "data": {
      "text/plain": [
       "'1.0.36'"
      ]
     },
     "execution_count": 2,
     "metadata": {},
     "output_type": "execute_result"
    }
   ],
   "source": [
    "import fastai\n",
    "fastai.__version__"
   ]
  },
  {
   "cell_type": "code",
   "execution_count": 3,
   "metadata": {},
   "outputs": [],
   "source": [
    "from fastai import *\n",
    "from fastai_audio import *\n",
    "from fastai.vision import models"
   ]
  },
  {
   "cell_type": "code",
   "execution_count": 4,
   "metadata": {},
   "outputs": [],
   "source": [
    "def rand_pad_crop(signal, pad_start_pct=0.1, crop_end_pct=0.5):\n",
    "    r_pad, r_crop = np.random.rand(2)\n",
    "    pad_start = int(pad_start_pct * r_pad * signal.shape[0])\n",
    "    crop_end  = int(crop_end_pct * r_crop * signal.shape[0]) + 1\n",
    "    return F.pad(signal[:-crop_end], (pad_start, 0), mode='constant')"
   ]
  },
  {
   "cell_type": "code",
   "execution_count": 5,
   "metadata": {},
   "outputs": [],
   "source": [
    "def get_transforms(n_hop=256):\n",
    "    min_len = n_hop*2\n",
    "    def _train_tfm(x):\n",
    "        x = rand_pad_crop(x)\n",
    "        if x.shape[0] < min_len:\n",
    "            x = F.pad(x, (0, min_len - x.shape[0]), mode='constant')\n",
    "        return x\n",
    "    \n",
    "    def _valid_tfm(x):\n",
    "        if x.shape[0] < min_len:\n",
    "            x = F.pad(x, (0, min_len - x.shape[0]), mode='constant')\n",
    "        return x\n",
    "    \n",
    "    return [_train_tfm],[_valid_tfm]"
   ]
  },
  {
   "cell_type": "markdown",
   "metadata": {},
   "source": [
    "## AudioSet"
   ]
  },
  {
   "cell_type": "code",
   "execution_count": 6,
   "metadata": {},
   "outputs": [],
   "source": [
    "class ResBlock(nn.Module):\n",
    "    def __init__(self, in_channels, out_channels, kernel_size=3, stride=1, padding=1, residual=False):\n",
    "        super().__init__()\n",
    "        self.res = residual\n",
    "        self.conv = nn.Conv2d(in_channels, \n",
    "                         out_channels,\n",
    "                         kernel_size=kernel_size, \n",
    "                         stride=stride,\n",
    "                         padding=padding, \n",
    "                         bias=False)\n",
    "        self.batch_norm = nn.BatchNorm2d(out_channels, momentum=0.01)\n",
    "        self.relu = nn.ReLU(inplace=True)\n",
    "        \n",
    "    def forward(self, x):\n",
    "        residual = x\n",
    "        out = self.conv(x)\n",
    "        if self.res:\n",
    "            out = residual + out\n",
    "        out = self.batch_norm(out)\n",
    "        out = self.relu(out)\n",
    "        return out\n",
    "\n",
    "class AudioCNN(nn.Module):\n",
    "    def __init__(self, n_classes):\n",
    "        super().__init__()\n",
    "        layers = []\n",
    "\n",
    "        # B1 to B5\n",
    "        in_channels = 1\n",
    "        num_filters = [16, 32, 64, 128, 256]\n",
    "        for out_channels in num_filters:\n",
    "            layers += [ResBlock(in_channels,  out_channels, kernel_size=3, padding=1, residual=False),\n",
    "                       ResBlock(out_channels, out_channels, kernel_size=3, padding=1, residual=True),\n",
    "                       nn.MaxPool2d(2)]\n",
    "            in_channels = out_channels\n",
    "        \n",
    "        # B6\n",
    "        layers += [ResBlock(256, 512, kernel_size=3, padding=1), nn.MaxPool2d(2)]\n",
    "        \n",
    "        # F1\n",
    "        layers += [ResBlock(512, 1024, kernel_size=3, padding=1)]\n",
    "        \n",
    "        # F2\n",
    "        layers += [nn.Conv2d(1024, n_classes, 3, padding=1)]\n",
    "        \n",
    "        # Reshape \n",
    "        layers += [\n",
    "            PoolFlatten()\n",
    "        ]\n",
    "                \n",
    "        self.layers = nn.Sequential(*layers)\n",
    "\n",
    "        # from ResNet \n",
    "        for m in self.modules():\n",
    "            if isinstance(m, nn.Conv2d):\n",
    "                n = m.kernel_size[0] * m.kernel_size[1] * m.out_channels\n",
    "                m.weight.data.normal_(0, math.sqrt(2. / n))\n",
    "        \n",
    "    def forward(self, x):\n",
    "        return self.layers(x)"
   ]
  },
  {
   "cell_type": "code",
   "execution_count": 7,
   "metadata": {},
   "outputs": [],
   "source": [
    "DATA = Path('data')\n",
    "AUDIOSET = DATA/'audioset_mono'\n",
    "TRAIN_CSV = AUDIOSET/'train_v2.csv'\n",
    "VALID_CSV = AUDIOSET/'valid_v2.csv'\n",
    "LABEL_CSV = AUDIOSET/'class_labels_indices.csv'\n",
    "\n",
    "def convert_labels(df, label_df):\n",
    "    df['positive_labels'] = df['positive_labels'].apply(\n",
    "        lambda s: label_df.loc[s.split(','), 'display_name'].tolist())\n",
    "    return df\n",
    "\n",
    "label_df = pd.read_csv(LABEL_CSV, index_col='mid', usecols=['mid', 'display_name'])\n",
    "train_df, valid_df = [convert_labels(pd.read_csv(f), label_df)\n",
    "                      for f in [TRAIN_CSV, VALID_CSV]]"
   ]
  },
  {
   "cell_type": "code",
   "execution_count": 8,
   "metadata": {},
   "outputs": [
    {
     "data": {
      "text/plain": [
       "(18725, 17492)"
      ]
     },
     "execution_count": 8,
     "metadata": {},
     "output_type": "execute_result"
    }
   ],
   "source": [
    "len(train_df), len(valid_df)"
   ]
  },
  {
   "cell_type": "code",
   "execution_count": 9,
   "metadata": {},
   "outputs": [
    {
     "data": {
      "text/html": [
       "<div>\n",
       "<style scoped>\n",
       "    .dataframe tbody tr th:only-of-type {\n",
       "        vertical-align: middle;\n",
       "    }\n",
       "\n",
       "    .dataframe tbody tr th {\n",
       "        vertical-align: top;\n",
       "    }\n",
       "\n",
       "    .dataframe thead th {\n",
       "        text-align: right;\n",
       "    }\n",
       "</style>\n",
       "<table border=\"1\" class=\"dataframe\">\n",
       "  <thead>\n",
       "    <tr style=\"text-align: right;\">\n",
       "      <th></th>\n",
       "      <th>fname</th>\n",
       "      <th>positive_labels</th>\n",
       "      <th>n_samples</th>\n",
       "    </tr>\n",
       "  </thead>\n",
       "  <tbody>\n",
       "    <tr>\n",
       "      <th>0</th>\n",
       "      <td>--ZhevVpy1s_50.000</td>\n",
       "      <td>[Toothbrush]</td>\n",
       "      <td>220500</td>\n",
       "    </tr>\n",
       "    <tr>\n",
       "      <th>1</th>\n",
       "      <td>--aE2O5G5WE_0.000</td>\n",
       "      <td>[Goat, Music, Speech]</td>\n",
       "      <td>220500</td>\n",
       "    </tr>\n",
       "    <tr>\n",
       "      <th>2</th>\n",
       "      <td>--aO5cdqSAg_30.000</td>\n",
       "      <td>[Male singing, Child singing]</td>\n",
       "      <td>220500</td>\n",
       "    </tr>\n",
       "  </tbody>\n",
       "</table>\n",
       "</div>"
      ],
      "text/plain": [
       "                fname                positive_labels  n_samples\n",
       "0  --ZhevVpy1s_50.000                   [Toothbrush]     220500\n",
       "1   --aE2O5G5WE_0.000          [Goat, Music, Speech]     220500\n",
       "2  --aO5cdqSAg_30.000  [Male singing, Child singing]     220500"
      ]
     },
     "execution_count": 9,
     "metadata": {},
     "output_type": "execute_result"
    }
   ],
   "source": [
    "train_df.head(3)"
   ]
  },
  {
   "cell_type": "code",
   "execution_count": 10,
   "metadata": {},
   "outputs": [],
   "source": [
    "n_fft = 2048\n",
    "n_hop = 256\n",
    "n_mels = 128\n",
    "sample_rate = 22050\n",
    "top_db = 50.0\n",
    "ref = 1.0 # 'max'\n",
    "\n",
    "bs = 8\n",
    "\n",
    "batch_tfms = get_frequency_batch_transforms(n_fft=n_fft, n_hop=n_hop,\n",
    "                                            n_mels=n_mels, sample_rate=sample_rate)\n",
    "tfms = get_transforms(n_hop=n_hop)"
   ]
  },
  {
   "cell_type": "code",
   "execution_count": 11,
   "metadata": {},
   "outputs": [],
   "source": [
    "train_list = AudioItemList.from_df(train_df, path=AUDIOSET, folder='train', suffix='.wav')\n",
    "valid_list = AudioItemList.from_df(valid_df, path=AUDIOSET, folder='valid', suffix='.wav')"
   ]
  },
  {
   "cell_type": "code",
   "execution_count": 12,
   "metadata": {},
   "outputs": [],
   "source": [
    "data = (ItemLists(path=AUDIOSET, train=train_list, valid=valid_list)\n",
    "            .label_from_df()\n",
    "            .transform(tfms)\n",
    "            .databunch(bs=bs, equal_lengths=True, tfms=batch_tfms, collate_fn=pad_collate1d))"
   ]
  },
  {
   "cell_type": "code",
   "execution_count": 13,
   "metadata": {},
   "outputs": [],
   "source": [
    "def precision(y_pred:Tensor, y_true:Tensor, thresh:float=0.2, eps:float=1e-9, sigmoid:bool=True) -> Rank0Tensor:\n",
    "    \"Computes the f_beta between preds and targets\"\n",
    "    if sigmoid: y_pred = y_pred.sigmoid()\n",
    "    y_pred = (y_pred>thresh).float()\n",
    "    y_true = y_true.float()\n",
    "    TP = (y_pred*y_true).sum(dim=1)\n",
    "    prec = TP/(y_pred.sum(dim=1)+eps)\n",
    "    return prec.mean()\n",
    "\n",
    "def recall(y_pred:Tensor, y_true:Tensor, thresh:float=0.2, eps:float=1e-9, sigmoid:bool=True) -> Rank0Tensor:\n",
    "    \"Computes the f_beta between preds and targets\"\n",
    "    if sigmoid: y_pred = y_pred.sigmoid()\n",
    "    y_pred = (y_pred>thresh).float()\n",
    "    y_true = y_true.float()\n",
    "    TP = (y_pred*y_true).sum(dim=1)\n",
    "    rec = TP/(y_true.sum(dim=1)+eps)\n",
    "    return rec.mean()\n",
    "\n",
    "fbeta5 = partial(fbeta, thresh=0.5)\n",
    "precision5 = partial(precision, thresh=0.5)\n",
    "recall5 = partial(recall, thresh=0.5)\n",
    "\n",
    "metrics = [precision, recall, fbeta, precision5, recall5, fbeta5]"
   ]
  },
  {
   "cell_type": "code",
   "execution_count": 14,
   "metadata": {},
   "outputs": [],
   "source": [
    "model = AudioCNN(data.c)\n",
    "learn = Learner(data, model, metrics=metrics)"
   ]
  },
  {
   "cell_type": "code",
   "execution_count": 15,
   "metadata": {},
   "outputs": [],
   "source": [
    "model_name = 'audioset_2048_256_v2'"
   ]
  },
  {
   "cell_type": "code",
   "execution_count": 15,
   "metadata": {},
   "outputs": [
    {
     "data": {
      "text/html": [
       "Total time: 22:19 <p><table style='width:675px; margin-bottom:10px'>\n",
       "  <tr>\n",
       "    <th>epoch</th>\n",
       "    <th>train_loss</th>\n",
       "    <th>valid_loss</th>\n",
       "    <th>precision</th>\n",
       "    <th>recall</th>\n",
       "    <th>fbeta</th>\n",
       "    <th>precision</th>\n",
       "    <th>recall</th>\n",
       "    <th>fbeta</th>\n",
       "  </tr>\n",
       "  <tr>\n",
       "    <th>1</th>\n",
       "    <th>0.022991</th>\n",
       "    <th>0.065420</th>\n",
       "    <th>0.225856</th>\n",
       "    <th>0.096585</th>\n",
       "    <th>0.106663</th>\n",
       "    <th>0.131689</th>\n",
       "    <th>0.048905</th>\n",
       "    <th>0.055422</th>\n",
       "  </tr>\n",
       "  <tr>\n",
       "    <th>2</th>\n",
       "    <th>0.021519</th>\n",
       "    <th>0.025369</th>\n",
       "    <th>0.320081</th>\n",
       "    <th>0.139953</th>\n",
       "    <th>0.152994</th>\n",
       "    <th>0.157720</th>\n",
       "    <th>0.059458</th>\n",
       "    <th>0.066304</th>\n",
       "  </tr>\n",
       "  <tr>\n",
       "    <th>3</th>\n",
       "    <th>0.020917</th>\n",
       "    <th>0.022717</th>\n",
       "    <th>0.394507</th>\n",
       "    <th>0.179247</th>\n",
       "    <th>0.195858</th>\n",
       "    <th>0.266803</th>\n",
       "    <th>0.102096</th>\n",
       "    <th>0.114662</th>\n",
       "  </tr>\n",
       "  <tr>\n",
       "    <th>4</th>\n",
       "    <th>0.019900</th>\n",
       "    <th>0.021761</th>\n",
       "    <th>0.368328</th>\n",
       "    <th>0.174454</th>\n",
       "    <th>0.188575</th>\n",
       "    <th>0.203574</th>\n",
       "    <th>0.076733</th>\n",
       "    <th>0.086289</th>\n",
       "  </tr>\n",
       "  <tr>\n",
       "    <th>5</th>\n",
       "    <th>0.019459</th>\n",
       "    <th>0.021153</th>\n",
       "    <th>0.398993</th>\n",
       "    <th>0.200910</th>\n",
       "    <th>0.215126</th>\n",
       "    <th>0.281808</th>\n",
       "    <th>0.110463</th>\n",
       "    <th>0.123322</th>\n",
       "  </tr>\n",
       "  <tr>\n",
       "    <th>6</th>\n",
       "    <th>0.019214</th>\n",
       "    <th>0.020670</th>\n",
       "    <th>0.411655</th>\n",
       "    <th>0.198126</th>\n",
       "    <th>0.213408</th>\n",
       "    <th>0.280897</th>\n",
       "    <th>0.109750</th>\n",
       "    <th>0.122500</th>\n",
       "  </tr>\n",
       "  <tr>\n",
       "    <th>7</th>\n",
       "    <th>0.019029</th>\n",
       "    <th>0.020189</th>\n",
       "    <th>0.412479</th>\n",
       "    <th>0.211558</th>\n",
       "    <th>0.225539</th>\n",
       "    <th>0.293760</th>\n",
       "    <th>0.116037</th>\n",
       "    <th>0.129256</th>\n",
       "  </tr>\n",
       "  <tr>\n",
       "    <th>8</th>\n",
       "    <th>0.018785</th>\n",
       "    <th>0.020209</th>\n",
       "    <th>0.413412</th>\n",
       "    <th>0.210290</th>\n",
       "    <th>0.224397</th>\n",
       "    <th>0.298573</th>\n",
       "    <th>0.118982</th>\n",
       "    <th>0.132303</th>\n",
       "  </tr>\n",
       "</table>\n"
      ],
      "text/plain": [
       "<IPython.core.display.HTML object>"
      ]
     },
     "metadata": {},
     "output_type": "display_data"
    }
   ],
   "source": [
    "model_name = 'audioset_2048_256_v2'\n",
    "learn.fit_one_cycle(8)\n",
    "learn.save(model_name + '-stage-1')"
   ]
  },
  {
   "cell_type": "code",
   "execution_count": 16,
   "metadata": {},
   "outputs": [
    {
     "name": "stdout",
     "output_type": "stream",
     "text": [
      "LR Finder is complete, type {learner_name}.recorder.plot() to see the graph.\n"
     ]
    },
    {
     "data": {
      "image/png": "[encoded data removed]",
      "text/plain": [
       "<Figure size 432x288 with 1 Axes>"
      ]
     },
     "metadata": {
      "needs_background": "light"
     },
     "output_type": "display_data"
    }
   ],
   "source": [
    "learn.load(model_name + '-stage-1')\n",
    "learn.lr_find(start_lr=1e-9)\n",
    "learn.recorder.plot()"
   ]
  },
  {
   "cell_type": "code",
   "execution_count": 17,
   "metadata": {},
   "outputs": [
    {
     "data": {
      "text/html": [
       "Total time: 22:18 <p><table style='width:675px; margin-bottom:10px'>\n",
       "  <tr>\n",
       "    <th>epoch</th>\n",
       "    <th>train_loss</th>\n",
       "    <th>valid_loss</th>\n",
       "    <th>precision</th>\n",
       "    <th>recall</th>\n",
       "    <th>fbeta</th>\n",
       "    <th>precision</th>\n",
       "    <th>recall</th>\n",
       "    <th>fbeta</th>\n",
       "  </tr>\n",
       "  <tr>\n",
       "    <th>1</th>\n",
       "    <th>0.018663</th>\n",
       "    <th>0.020259</th>\n",
       "    <th>0.412353</th>\n",
       "    <th>0.208570</th>\n",
       "    <th>0.222382</th>\n",
       "    <th>0.294239</th>\n",
       "    <th>0.116918</th>\n",
       "    <th>0.129985</th>\n",
       "  </tr>\n",
       "  <tr>\n",
       "    <th>2</th>\n",
       "    <th>0.018980</th>\n",
       "    <th>0.020743</th>\n",
       "    <th>0.396372</th>\n",
       "    <th>0.211878</th>\n",
       "    <th>0.224864</th>\n",
       "    <th>0.295484</th>\n",
       "    <th>0.119051</th>\n",
       "    <th>0.132093</th>\n",
       "  </tr>\n",
       "  <tr>\n",
       "    <th>3</th>\n",
       "    <th>0.018623</th>\n",
       "    <th>0.020670</th>\n",
       "    <th>0.401239</th>\n",
       "    <th>0.205298</th>\n",
       "    <th>0.218447</th>\n",
       "    <th>0.243310</th>\n",
       "    <th>0.097287</th>\n",
       "    <th>0.107936</th>\n",
       "  </tr>\n",
       "  <tr>\n",
       "    <th>4</th>\n",
       "    <th>0.018434</th>\n",
       "    <th>0.020214</th>\n",
       "    <th>0.412114</th>\n",
       "    <th>0.213619</th>\n",
       "    <th>0.226732</th>\n",
       "    <th>0.294443</th>\n",
       "    <th>0.118532</th>\n",
       "    <th>0.131274</th>\n",
       "  </tr>\n",
       "  <tr>\n",
       "    <th>5</th>\n",
       "    <th>0.018600</th>\n",
       "    <th>0.020399</th>\n",
       "    <th>0.409816</th>\n",
       "    <th>0.223368</th>\n",
       "    <th>0.235636</th>\n",
       "    <th>0.335575</th>\n",
       "    <th>0.137705</th>\n",
       "    <th>0.152307</th>\n",
       "  </tr>\n",
       "  <tr>\n",
       "    <th>6</th>\n",
       "    <th>0.018088</th>\n",
       "    <th>0.019927</th>\n",
       "    <th>0.410811</th>\n",
       "    <th>0.224985</th>\n",
       "    <th>0.235866</th>\n",
       "    <th>0.296248</th>\n",
       "    <th>0.123945</th>\n",
       "    <th>0.136514</th>\n",
       "  </tr>\n",
       "  <tr>\n",
       "    <th>7</th>\n",
       "    <th>0.017033</th>\n",
       "    <th>0.019853</th>\n",
       "    <th>0.414895</th>\n",
       "    <th>0.227028</th>\n",
       "    <th>0.238503</th>\n",
       "    <th>0.307685</th>\n",
       "    <th>0.128060</th>\n",
       "    <th>0.141235</th>\n",
       "  </tr>\n",
       "  <tr>\n",
       "    <th>8</th>\n",
       "    <th>0.017456</th>\n",
       "    <th>0.019821</th>\n",
       "    <th>0.416800</th>\n",
       "    <th>0.228194</th>\n",
       "    <th>0.239637</th>\n",
       "    <th>0.311927</th>\n",
       "    <th>0.129634</th>\n",
       "    <th>0.143023</th>\n",
       "  </tr>\n",
       "</table>\n"
      ],
      "text/plain": [
       "<IPython.core.display.HTML object>"
      ]
     },
     "metadata": {},
     "output_type": "display_data"
    }
   ],
   "source": [
    "learn.load(model_name + '-stage-1')\n",
    "learn.fit_one_cycle(8, max_lr=1e-3)\n",
    "learn.save(model_name + '-stage-2')"
   ]
  },
  {
   "cell_type": "code",
   "execution_count": 16,
   "metadata": {},
   "outputs": [
    {
     "name": "stdout",
     "output_type": "stream",
     "text": [
      "LR Finder is complete, type {learner_name}.recorder.plot() to see the graph.\n"
     ]
    },
    {
     "data": {
      "image/png": "[encoded data removed]",
      "text/plain": [
       "<Figure size 432x288 with 1 Axes>"
      ]
     },
     "metadata": {
      "needs_background": "light"
     },
     "output_type": "display_data"
    }
   ],
   "source": [
    "learn.load(model_name + '-stage-2')\n",
    "learn.lr_find(start_lr=1e-9)\n",
    "learn.recorder.plot()"
   ]
  },
  {
   "cell_type": "code",
   "execution_count": 17,
   "metadata": {},
   "outputs": [],
   "source": [
    "learn.load(model_name + '-stage-2')\n",
    "torch.save(learn.model.state_dict(), 'audioset_16epochs.pt')"
   ]
  },
  {
   "cell_type": "code",
   "execution_count": null,
   "metadata": {},
   "outputs": [
    {
     "data": {
      "text/html": [
       "\n",
       "    <div>\n",
       "        <style>\n",
       "            /* Turns off some styling */\n",
       "            progress {\n",
       "                /* gets rid of default border in Firefox and Opera. */\n",
       "                border: none;\n",
       "                /* Needs to be in here for Safari polyfill so background images work as expected. */\n",
       "                background-size: auto;\n",
       "            }\n",
       "            .progress-bar-interrupted, .progress-bar-interrupted::-webkit-progress-bar {\n",
       "                background: #F44336;\n",
       "            }\n",
       "        </style>\n",
       "      <progress value='3' class='' max='16', style='width:300px; height:20px; vertical-align: middle;'></progress>\n",
       "      18.75% [3/16 08:22<36:15]\n",
       "    </div>\n",
       "    \n",
       "<table style='width:675px; margin-bottom:10px'>\n",
       "  <tr>\n",
       "    <th>epoch</th>\n",
       "    <th>train_loss</th>\n",
       "    <th>valid_loss</th>\n",
       "    <th>precision</th>\n",
       "    <th>recall</th>\n",
       "    <th>fbeta</th>\n",
       "    <th>precision</th>\n",
       "    <th>recall</th>\n",
       "    <th>fbeta</th>\n",
       "  </tr>\n",
       "  <tr>\n",
       "    <th>1</th>\n",
       "    <th>0.018005</th>\n",
       "    <th>0.019783</th>\n",
       "    <th>0.417311</th>\n",
       "    <th>0.227983</th>\n",
       "    <th>0.239558</th>\n",
       "    <th>0.311887</th>\n",
       "    <th>0.129272</th>\n",
       "    <th>0.142642</th>\n",
       "  </tr>\n",
       "  <tr>\n",
       "    <th>2</th>\n",
       "    <th>0.017459</th>\n",
       "    <th>0.019840</th>\n",
       "    <th>0.417144</th>\n",
       "    <th>0.227761</th>\n",
       "    <th>0.239268</th>\n",
       "    <th>0.310861</th>\n",
       "    <th>0.129246</th>\n",
       "    <th>0.142509</th>\n",
       "  </tr>\n",
       "  <tr>\n",
       "    <th>3</th>\n",
       "    <th>0.017413</th>\n",
       "    <th>0.019808</th>\n",
       "    <th>0.413260</th>\n",
       "    <th>0.226107</th>\n",
       "    <th>0.237368</th>\n",
       "    <th>0.302236</th>\n",
       "    <th>0.125400</th>\n",
       "    <th>0.138363</th>\n",
       "  </tr>\n",
       "</table>\n",
       "\n",
       "\n",
       "    <div>\n",
       "        <style>\n",
       "            /* Turns off some styling */\n",
       "            progress {\n",
       "                /* gets rid of default border in Firefox and Opera. */\n",
       "                border: none;\n",
       "                /* Needs to be in here for Safari polyfill so background images work as expected. */\n",
       "                background-size: auto;\n",
       "            }\n",
       "            .progress-bar-interrupted, .progress-bar-interrupted::-webkit-progress-bar {\n",
       "                background: #F44336;\n",
       "            }\n",
       "        </style>\n",
       "      <progress value='1151' class='' max='2187', style='width:300px; height:20px; vertical-align: middle;'></progress>\n",
       "      52.63% [1151/2187 00:23<00:21]\n",
       "    </div>\n",
       "    "
      ],
      "text/plain": [
       "<IPython.core.display.HTML object>"
      ]
     },
     "metadata": {},
     "output_type": "display_data"
    },
    {
     "name": "stderr",
     "output_type": "stream",
     "text": [
      "Exception ignored in: <Finalize object, dead>\n",
      "Traceback (most recent call last):\n",
      "  File \"/opt/anaconda3/lib/python3.6/multiprocessing/util.py\", line 186, in __call__\n",
      "    res = self._callback(*self._args, **self._kwargs)\n",
      "  File \"/opt/anaconda3/lib/python3.6/multiprocessing/queues.py\", line 199, in _finalize_close\n",
      "    with notempty:\n",
      "  File \"/opt/anaconda3/lib/python3.6/threading.py\", line 240, in __enter__\n",
      "    return self._lock.__enter__()\n",
      "KeyboardInterrupt\n"
     ]
    }
   ],
   "source": [
    "learn.load(model_name + '-stage-2')\n",
    "learn.fit_one_cycle(16, max_lr=1e-4)\n",
    "learn.save(model_name + '-stage-3')"
   ]
  },
  {
   "cell_type": "code",
   "execution_count": null,
   "metadata": {},
   "outputs": [],
   "source": [
    "asdf"
   ]
  },
  {
   "cell_type": "code",
   "execution_count": null,
   "metadata": {},
   "outputs": [],
   "source": [
    "learn.save('audioset_32epochs')"
   ]
  },
  {
   "cell_type": "code",
   "execution_count": null,
   "metadata": {},
   "outputs": [],
   "source": [
    "trained_model = learn.model"
   ]
  },
  {
   "cell_type": "code",
   "execution_count": null,
   "metadata": {},
   "outputs": [],
   "source": [
    "torch.save(trained_model.state_dict(), 'audioset_32epochs.pt')"
   ]
  },
  {
   "cell_type": "code",
   "execution_count": null,
   "metadata": {},
   "outputs": [],
   "source": [
    "model = AudioCNN(data.c)\n",
    "model.load_state_dict(torch.load('audioset_32epochs.pt'))\n",
    "learn = Learner(data, model, metrics=metrics)\n",
    "# learn.load('audioset_32epochs');"
   ]
  },
  {
   "cell_type": "code",
   "execution_count": null,
   "metadata": {},
   "outputs": [],
   "source": [
    "learn.fit_one_cycle(1, max_lr=1e-3)"
   ]
  },
  {
   "cell_type": "code",
   "execution_count": null,
   "metadata": {},
   "outputs": [],
   "source": [
    "preds = learn.get_preds()"
   ]
  },
  {
   "cell_type": "code",
   "execution_count": null,
   "metadata": {},
   "outputs": [],
   "source": [
    "fbeta"
   ]
  },
  {
   "cell_type": "code",
   "execution_count": null,
   "metadata": {},
   "outputs": [],
   "source": [
    "learn.get_preds?"
   ]
  },
  {
   "cell_type": "code",
   "execution_count": null,
   "metadata": {},
   "outputs": [],
   "source": []
  }
 ],
 "metadata": {
  "kernelspec": {
   "display_name": "Python 3",
   "language": "python",
   "name": "python3"
  },
  "language_info": {
   "codemirror_mode": {
    "name": "ipython",
    "version": 3
   },
   "file_extension": ".py",
   "mimetype": "text/x-python",
   "name": "python",
   "nbconvert_exporter": "python",
   "pygments_lexer": "ipython3",
   "version": "3.6.6"
  }
 },
 "nbformat": 4,
 "nbformat_minor": 2
}
