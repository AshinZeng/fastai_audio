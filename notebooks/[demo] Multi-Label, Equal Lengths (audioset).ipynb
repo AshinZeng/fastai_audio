{
 "cells": [
  {
   "cell_type": "code",
   "execution_count": null,
   "metadata": {},
   "outputs": [],
   "source": [
    "%reload_ext autoreload\n",
    "%autoreload 2\n",
    "%matplotlib inline"
   ]
  },
  {
   "cell_type": "code",
   "execution_count": null,
   "metadata": {},
   "outputs": [],
   "source": [
    "import fastai\n",
    "fastai.__version__"
   ]
  },
  {
   "cell_type": "code",
   "execution_count": null,
   "metadata": {},
   "outputs": [],
   "source": [
    "from fastai import *\n",
    "from fastai_audio import *\n",
    "\n",
    "from fastai.vision import models"
   ]
  },
  {
   "cell_type": "code",
   "execution_count": null,
   "metadata": {},
   "outputs": [],
   "source": [
    "DATA = Path('data')\n",
    "AUDIOSET = DATA/'audioset'\n",
    "TRAIN_AUDIO = AUDIOSET/'train'\n",
    "TRAIN_CSV = AUDIOSET/'train_segments_cl.csv'\n",
    "LABELS_CSV = AUDIOSET/'class_labels_indices.csv'"
   ]
  },
  {
   "cell_type": "code",
   "execution_count": null,
   "metadata": {},
   "outputs": [],
   "source": [
    "label_df = pd.read_csv(LABELS_CSV, index_col='mid', usecols=['mid', 'display_name'])\n",
    "print(label_df.shape)\n",
    "label_df.head()"
   ]
  },
  {
   "cell_type": "code",
   "execution_count": null,
   "metadata": {},
   "outputs": [],
   "source": [
    "train_df = pd.read_csv(TRAIN_CSV, sep=' ')\n",
    "train_df['fname'] = train_df['YTID'] + train_df['start_seconds'].apply(lambda x: f\"_{x:.3f}\")\n",
    "train_df['label_str'] = train_df['positive_labels'].apply(lambda s: label_df.loc[s.split(','), \n",
    "                                                                                 'display_name'].tolist())\n",
    "train_df = train_df[['fname', 'label_str']]\n",
    "train_df.head()"
   ]
  },
  {
   "cell_type": "code",
   "execution_count": null,
   "metadata": {},
   "outputs": [],
   "source": [
    "n_fft = 1024\n",
    "n_hop = 256\n",
    "n_mels = 128\n",
    "sr = 22500\n",
    "top_db = 60.0\n",
    "\n",
    "bs = 128\n",
    "\n",
    "mel_spec_tfm = Compose([\n",
    "    Spectrogram(n_fft=n_fft, n_hop=n_hop),\n",
    "    FrequencyToMel(n_mels=n_mels, n_fft=n_fft, sr=sr, f_min=0., f_max=None),\n",
    "    SpectrumToDb(ref='max', top_db=top_db, normalized=True)\n",
    "])\n",
    "\n",
    "def inputs_tfm(inputs):\n",
    "    x, y = inputs\n",
    "    # 1d time domain signal to 2d log melspectrogram (frequency domain)\n",
    "    x = mel_spec_tfm(x)\n",
    "    # add channel dimension\n",
    "    x.unsqueeze_(1)\n",
    "    return x, y\n",
    "\n",
    "tfms = [inputs_tfm]"
   ]
  },
  {
   "cell_type": "code",
   "execution_count": null,
   "metadata": {},
   "outputs": [],
   "source": [
    "data = (AudioItemList\n",
    "            .from_df(train_df, path=AUDIOSET, folder='train', suffix='.wav')\n",
    "            .random_split_by_pct()\n",
    "            .label_from_df()\n",
    "            .databunch(bs=bs, tfms=tfms, equal_lengths=True))"
   ]
  },
  {
   "cell_type": "code",
   "execution_count": null,
   "metadata": {},
   "outputs": [],
   "source": [
    "data.c, data.classes[:5]"
   ]
  },
  {
   "cell_type": "code",
   "execution_count": null,
   "metadata": {},
   "outputs": [],
   "source": [
    "learn = create_cnn(data, models.resnet18, metrics=[error_rate, mapk])\n",
    "# learn = create_cnn(data, models.resnet34, metrics=[error_rate, mapk])"
   ]
  }
 ],
 "metadata": {
  "kernelspec": {
   "display_name": "Python 3",
   "language": "python",
   "name": "python3"
  },
  "language_info": {
   "codemirror_mode": {
    "name": "ipython",
    "version": 3
   },
   "file_extension": ".py",
   "mimetype": "text/x-python",
   "name": "python",
   "nbconvert_exporter": "python",
   "pygments_lexer": "ipython3",
   "version": "3.6.7"
  }
 },
 "nbformat": 4,
 "nbformat_minor": 2
}
