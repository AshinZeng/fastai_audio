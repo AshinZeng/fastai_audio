{
 "cells": [
  {
   "cell_type": "code",
   "execution_count": 1,
   "metadata": {},
   "outputs": [],
   "source": [
    "%reload_ext autoreload\n",
    "%autoreload 2\n",
    "%matplotlib inline"
   ]
  },
  {
   "cell_type": "code",
   "execution_count": 2,
   "metadata": {},
   "outputs": [
    {
     "data": {
      "text/plain": [
       "'1.0.28'"
      ]
     },
     "execution_count": 2,
     "metadata": {},
     "output_type": "execute_result"
    }
   ],
   "source": [
    "import fastai\n",
    "fastai.__version__"
   ]
  },
  {
   "cell_type": "code",
   "execution_count": 3,
   "metadata": {},
   "outputs": [],
   "source": [
    "from fastai import *\n",
    "from fastai_audio import *\n",
    "\n",
    "from fastai.vision import models"
   ]
  },
  {
   "cell_type": "code",
   "execution_count": 4,
   "metadata": {},
   "outputs": [],
   "source": [
    "DATA = Path('data')\n",
    "AUDIOSET = DATA/'audioset_mono'\n",
    "\n",
    "TRAIN_AUDIO = AUDIOSET/'train'\n",
    "TRAIN_CSV = AUDIOSET/'train_segments_cl.csv'\n",
    "TRAIN_LENGTHS_CSV = AUDIOSET/'train_n_samples_per_file.csv'\n",
    "\n",
    "LABELS_CSV = AUDIOSET/'class_labels_indices.csv'"
   ]
  },
  {
   "cell_type": "code",
   "execution_count": 5,
   "metadata": {},
   "outputs": [
    {
     "name": "stdout",
     "output_type": "stream",
     "text": [
      "(527, 1)\n"
     ]
    },
    {
     "data": {
      "text/html": [
       "<div>\n",
       "<style scoped>\n",
       "    .dataframe tbody tr th:only-of-type {\n",
       "        vertical-align: middle;\n",
       "    }\n",
       "\n",
       "    .dataframe tbody tr th {\n",
       "        vertical-align: top;\n",
       "    }\n",
       "\n",
       "    .dataframe thead th {\n",
       "        text-align: right;\n",
       "    }\n",
       "</style>\n",
       "<table border=\"1\" class=\"dataframe\">\n",
       "  <thead>\n",
       "    <tr style=\"text-align: right;\">\n",
       "      <th></th>\n",
       "      <th>display_name</th>\n",
       "    </tr>\n",
       "    <tr>\n",
       "      <th>mid</th>\n",
       "      <th></th>\n",
       "    </tr>\n",
       "  </thead>\n",
       "  <tbody>\n",
       "    <tr>\n",
       "      <th>/m/09x0r</th>\n",
       "      <td>Speech</td>\n",
       "    </tr>\n",
       "    <tr>\n",
       "      <th>/m/05zppz</th>\n",
       "      <td>Male speech, man speaking</td>\n",
       "    </tr>\n",
       "    <tr>\n",
       "      <th>/m/02zsn</th>\n",
       "      <td>Female speech, woman speaking</td>\n",
       "    </tr>\n",
       "    <tr>\n",
       "      <th>/m/0ytgt</th>\n",
       "      <td>Child speech, kid speaking</td>\n",
       "    </tr>\n",
       "    <tr>\n",
       "      <th>/m/01h8n0</th>\n",
       "      <td>Conversation</td>\n",
       "    </tr>\n",
       "  </tbody>\n",
       "</table>\n",
       "</div>"
      ],
      "text/plain": [
       "                            display_name\n",
       "mid                                     \n",
       "/m/09x0r                          Speech\n",
       "/m/05zppz      Male speech, man speaking\n",
       "/m/02zsn   Female speech, woman speaking\n",
       "/m/0ytgt      Child speech, kid speaking\n",
       "/m/01h8n0                   Conversation"
      ]
     },
     "execution_count": 5,
     "metadata": {},
     "output_type": "execute_result"
    }
   ],
   "source": [
    "label_df = pd.read_csv(LABELS_CSV, index_col='mid', usecols=['mid', 'display_name'])\n",
    "print(label_df.shape)\n",
    "label_df.head()"
   ]
  },
  {
   "cell_type": "code",
   "execution_count": 6,
   "metadata": {},
   "outputs": [
    {
     "data": {
      "text/html": [
       "<div>\n",
       "<style scoped>\n",
       "    .dataframe tbody tr th:only-of-type {\n",
       "        vertical-align: middle;\n",
       "    }\n",
       "\n",
       "    .dataframe tbody tr th {\n",
       "        vertical-align: top;\n",
       "    }\n",
       "\n",
       "    .dataframe thead th {\n",
       "        text-align: right;\n",
       "    }\n",
       "</style>\n",
       "<table border=\"1\" class=\"dataframe\">\n",
       "  <thead>\n",
       "    <tr style=\"text-align: right;\">\n",
       "      <th></th>\n",
       "      <th>fname</th>\n",
       "      <th>label_str</th>\n",
       "      <th>n_samples</th>\n",
       "    </tr>\n",
       "  </thead>\n",
       "  <tbody>\n",
       "    <tr>\n",
       "      <th>0</th>\n",
       "      <td>--ZhevVpy1s_50.000</td>\n",
       "      <td>[Toothbrush]</td>\n",
       "      <td>220500</td>\n",
       "    </tr>\n",
       "    <tr>\n",
       "      <th>1</th>\n",
       "      <td>--aE2O5G5WE_0.000</td>\n",
       "      <td>[Goat, Music, Speech]</td>\n",
       "      <td>220500</td>\n",
       "    </tr>\n",
       "    <tr>\n",
       "      <th>2</th>\n",
       "      <td>--aO5cdqSAg_30.000</td>\n",
       "      <td>[Male singing, Child singing]</td>\n",
       "      <td>220500</td>\n",
       "    </tr>\n",
       "    <tr>\n",
       "      <th>3</th>\n",
       "      <td>--aaILOrkII_200.000</td>\n",
       "      <td>[Gunshot, gunfire, Cap gun]</td>\n",
       "      <td>220500</td>\n",
       "    </tr>\n",
       "    <tr>\n",
       "      <th>4</th>\n",
       "      <td>--cB2ZVjpnA_30.000</td>\n",
       "      <td>[Smoke detector, smoke alarm]</td>\n",
       "      <td>220500</td>\n",
       "    </tr>\n",
       "  </tbody>\n",
       "</table>\n",
       "</div>"
      ],
      "text/plain": [
       "                 fname                      label_str  n_samples\n",
       "0   --ZhevVpy1s_50.000                   [Toothbrush]     220500\n",
       "1    --aE2O5G5WE_0.000          [Goat, Music, Speech]     220500\n",
       "2   --aO5cdqSAg_30.000  [Male singing, Child singing]     220500\n",
       "3  --aaILOrkII_200.000    [Gunshot, gunfire, Cap gun]     220500\n",
       "4   --cB2ZVjpnA_30.000  [Smoke detector, smoke alarm]     220500"
      ]
     },
     "execution_count": 6,
     "metadata": {},
     "output_type": "execute_result"
    }
   ],
   "source": [
    "train_df = pd.read_csv(TRAIN_CSV, sep=' ')\n",
    "train_n_samples_df = pd.read_csv(TRAIN_LENGTHS_CSV)\n",
    "\n",
    "train_df['fname'] = train_df['YTID'] + train_df['start_seconds'].apply(lambda x: f\"_{x:.3f}\")\n",
    "train_df['label_str'] = train_df['positive_labels'].apply(lambda s: label_df.loc[s.split(','), \n",
    "                                                                                 'display_name'].tolist())\n",
    "train_df['n_samples'] = train_n_samples_df['n_samples']\n",
    "train_df = train_df[['fname', 'label_str', 'n_samples']]\n",
    "train_df.head()"
   ]
  },
  {
   "cell_type": "markdown",
   "metadata": {},
   "source": [
    "Only use the rows which have exactly 220500 samples for now"
   ]
  },
  {
   "cell_type": "code",
   "execution_count": 7,
   "metadata": {},
   "outputs": [
    {
     "data": {
      "text/plain": [
       "(18725, 17188)"
      ]
     },
     "execution_count": 7,
     "metadata": {},
     "output_type": "execute_result"
    }
   ],
   "source": [
    "train_df_same = train_df[train_df['n_samples'] == 220500]\n",
    "len(train_df), len(train_df_same)"
   ]
  },
  {
   "cell_type": "code",
   "execution_count": 14,
   "metadata": {},
   "outputs": [],
   "source": [
    "n_fft = 2048\n",
    "n_hop = 256\n",
    "n_mels = 128\n",
    "sr = 22050\n",
    "top_db = 60.0\n",
    "ref = 1.0\n",
    "\n",
    "bs = 16\n",
    "\n",
    "mel_spec_tfm = Compose([\n",
    "    Spectrogram(n_fft=n_fft, n_hop=n_hop),\n",
    "    FrequencyToMel(n_mels=n_mels, n_fft=n_fft, sr=sr, f_min=0., f_max=None),\n",
    "    SpectrumToDb(ref=ref, top_db=top_db, normalized=True)\n",
    "])\n",
    "\n",
    "def inputs_tfm(inputs):\n",
    "    x, y = inputs\n",
    "    # 1d time domain signal to 2d log melspectrogram (frequency domain)\n",
    "    x = mel_spec_tfm(x)\n",
    "    # add channel dimension\n",
    "    x.unsqueeze_(1)    \n",
    "    return x, y\n",
    "\n",
    "tfms = [inputs_tfm]"
   ]
  },
  {
   "cell_type": "code",
   "execution_count": 12,
   "metadata": {},
   "outputs": [],
   "source": [
    "def precision(y_pred:Tensor, y_true:Tensor, thresh:float=0.2, eps:float=1e-9, sigmoid:bool=True) -> Rank0Tensor:\n",
    "    \"Computes the f_beta between preds and targets\"\n",
    "    if sigmoid: y_pred = y_pred.sigmoid()\n",
    "    y_pred = (y_pred>thresh).float()\n",
    "    y_true = y_true.float()\n",
    "    TP = (y_pred*y_true).sum(dim=1)\n",
    "    prec = TP/(y_pred.sum(dim=1)+eps)\n",
    "    return prec.mean()"
   ]
  },
  {
   "cell_type": "code",
   "execution_count": 13,
   "metadata": {},
   "outputs": [],
   "source": [
    "def recall(y_pred:Tensor, y_true:Tensor, thresh:float=0.2, eps:float=1e-9, sigmoid:bool=True) -> Rank0Tensor:\n",
    "    \"Computes the f_beta between preds and targets\"\n",
    "    if sigmoid: y_pred = y_pred.sigmoid()\n",
    "    y_pred = (y_pred>thresh).float()\n",
    "    y_true = y_true.float()\n",
    "    TP = (y_pred*y_true).sum(dim=1)\n",
    "    rec = TP/(y_true.sum(dim=1)+eps)\n",
    "    return rec.mean()"
   ]
  },
  {
   "cell_type": "code",
   "execution_count": 14,
   "metadata": {},
   "outputs": [],
   "source": [
    "fbeta5 = partial(fbeta, thresh=0.5)\n",
    "precision5 = partial(precision, thresh=0.5)\n",
    "recall5 = partial(recall, thresh=0.5)"
   ]
  },
  {
   "cell_type": "code",
   "execution_count": 15,
   "metadata": {},
   "outputs": [],
   "source": [
    "metrics = [precision, recall, fbeta, precision5, recall5, fbeta5]"
   ]
  },
  {
   "cell_type": "code",
   "execution_count": 13,
   "metadata": {},
   "outputs": [
    {
     "name": "stdout",
     "output_type": "stream",
     "text": [
      "17188\n"
     ]
    },
    {
     "data": {
      "text/plain": [
       "(527,\n",
       " ['Air brake', 'Tick', 'Bee, wasp, etc.', 'Music of Africa', 'Tambourine'],\n",
       " 16)"
      ]
     },
     "execution_count": 13,
     "metadata": {},
     "output_type": "execute_result"
    }
   ],
   "source": [
    "df = train_df_same\n",
    "print(len(df))\n",
    "\n",
    "data = (AudioItemList\n",
    "            .from_df(df, path=AUDIOSET, folder='train', suffix='.wav')\n",
    "            .random_split_by_pct()\n",
    "            .label_from_df()\n",
    "            .databunch(bs=bs, tfms=tfms, equal_lengths=True))\n",
    "data.c, data.classes[:5], bs"
   ]
  },
  {
   "cell_type": "markdown",
   "metadata": {},
   "source": [
    "### ResNet 18"
   ]
  },
  {
   "cell_type": "code",
   "execution_count": 15,
   "metadata": {},
   "outputs": [
    {
     "name": "stdout",
     "output_type": "stream",
     "text": [
      "Total time: 05:00\n",
      "epoch  train_loss  valid_loss  precision  recall  fbeta  precision  recall  fbeta          \n",
      "1      0.024959    0.023190    0.373994   0.171475  0.189356  0.181845   0.072848  0.082220  (00:38)\n",
      "2      0.022315    0.021384    0.394737   0.180868  0.198019  0.252948   0.103771  0.116348  (00:37)\n",
      "3      0.022018    0.020361    0.402889   0.194827  0.212551  0.258472   0.104830  0.117996  (00:37)\n",
      "4      0.021018    0.019606    0.419129   0.215446  0.231580  0.278179   0.114970  0.128750  (00:37)\n",
      "5      0.020093    0.019306    0.418203   0.212810  0.229560  0.252817   0.105104  0.117649  (00:37)\n",
      "6      0.019192    0.019015    0.427641   0.215630  0.232361  0.296743   0.126141  0.140578  (00:37)\n",
      "7      0.018513    0.018761    0.426964   0.231374  0.245891  0.315888   0.137314  0.152418  (00:37)\n",
      "8      0.018666    0.018725    0.421892   0.234688  0.248090  0.313143   0.134332  0.149232  (00:37)\n",
      "\n"
     ]
    }
   ],
   "source": [
    "arch = models.resnet18\n",
    "model_name = 'audioset_2048_256_128_60db_res18'\n",
    "\n",
    "learn = create_cnn(data, arch, metrics=metrics)\n",
    "learn.fit_one_cycle(8)\n",
    "learn.save(model_name + '-stage-1')"
   ]
  },
  {
   "cell_type": "code",
   "execution_count": 16,
   "metadata": {},
   "outputs": [
    {
     "name": "stdout",
     "output_type": "stream",
     "text": [
      "LR Finder is complete, type {learner_name}.recorder.plot() to see the graph.\n"
     ]
    }
   ],
   "source": [
    "learn.load(model_name + '-stage-1')\n",
    "learn.unfreeze()\n",
    "learn.lr_find(start_lr=1e-10, end_lr=1);"
   ]
  },
  {
   "cell_type": "code",
   "execution_count": 17,
   "metadata": {},
   "outputs": [
    {
     "data": {
      "image/png": "[encoded data removed]",
      "text/plain": [
       "<Figure size 432x288 with 1 Axes>"
      ]
     },
     "metadata": {
      "needs_background": "light"
     },
     "output_type": "display_data"
    }
   ],
   "source": [
    "learn.recorder.plot()"
   ]
  },
  {
   "cell_type": "code",
   "execution_count": 18,
   "metadata": {},
   "outputs": [
    {
     "name": "stdout",
     "output_type": "stream",
     "text": [
      "Total time: 07:39\n",
      "epoch  train_loss  valid_loss  precision  recall  fbeta  precision  recall  fbeta          \n",
      "1      0.018757    0.018701    0.429734   0.229593  0.244666  0.304172   0.131344  0.145905  (00:46)\n",
      "2      0.018526    0.018680    0.427731   0.233602  0.247988  0.313425   0.135199  0.150210  (00:45)\n",
      "3      0.018260    0.018648    0.432254   0.230539  0.245784  0.305482   0.131419  0.146000  (00:45)\n",
      "4      0.018188    0.018582    0.431054   0.235464  0.249864  0.324932   0.141458  0.156935  (00:45)\n",
      "5      0.018250    0.018607    0.426048   0.235505  0.248987  0.307263   0.135079  0.149426  (00:45)\n",
      "6      0.018250    0.018641    0.429310   0.231725  0.246296  0.305598   0.133194  0.147645  (00:45)\n",
      "7      0.018286    0.018508    0.434654   0.237492  0.252295  0.325189   0.141174  0.156617  (00:46)\n",
      "8      0.017808    0.018505    0.436986   0.237804  0.252634  0.326934   0.142284  0.157712  (00:45)\n",
      "9      0.018017    0.018559    0.428512   0.241999  0.255169  0.331895   0.146226  0.161822  (00:45)\n",
      "10     0.018295    0.018534    0.434237   0.236832  0.251278  0.316746   0.138776  0.153715  (00:45)\n",
      "\n"
     ]
    }
   ],
   "source": [
    "learn.load(model_name + '-stage-1')\n",
    "learn.unfreeze()\n",
    "learn.fit_one_cycle(10, max_lr=slice(1e-6, 1e-5))\n",
    "learn.save(model_name + '-stage-2')"
   ]
  },
  {
   "cell_type": "markdown",
   "metadata": {},
   "source": [
    "### ResNet 34"
   ]
  },
  {
   "cell_type": "code",
   "execution_count": 19,
   "metadata": {},
   "outputs": [
    {
     "name": "stdout",
     "output_type": "stream",
     "text": [
      "Total time: 07:04\n",
      "epoch  train_loss  valid_loss  precision  recall  fbeta  precision  recall  fbeta          \n",
      "1      0.024937    0.023080    0.383498   0.161928  0.180781  0.166861   0.067166  0.075764  (00:52)\n",
      "2      0.022401    0.021136    0.383387   0.186015  0.203455  0.251964   0.100938  0.113719  (00:53)\n",
      "3      0.021681    0.020177    0.393002   0.194024  0.210978  0.281951   0.114170  0.128512  (00:53)\n",
      "4      0.020516    0.019640    0.402734   0.200267  0.217328  0.256163   0.104982  0.117887  (00:53)\n",
      "5      0.019946    0.019117    0.412815   0.211914  0.227361  0.270565   0.113828  0.127241  (00:52)\n",
      "6      0.019334    0.018831    0.422228   0.228254  0.242423  0.305322   0.129736  0.144458  (00:53)\n",
      "7      0.018766    0.018586    0.425763   0.234425  0.248679  0.332627   0.142020  0.158190  (00:53)\n",
      "8      0.018585    0.018629    0.424670   0.232162  0.246331  0.312256   0.135130  0.149944  (00:53)\n",
      "\n"
     ]
    }
   ],
   "source": [
    "arch = models.resnet34\n",
    "model_name = 'audioset_2048_256_128_60db_res34'\n",
    "\n",
    "learn = create_cnn(data, arch, metrics=metrics)\n",
    "learn.fit_one_cycle(8)\n",
    "learn.save(model_name + '-stage-1')"
   ]
  },
  {
   "cell_type": "code",
   "execution_count": 20,
   "metadata": {},
   "outputs": [
    {
     "name": "stdout",
     "output_type": "stream",
     "text": [
      "LR Finder is complete, type {learner_name}.recorder.plot() to see the graph.\n"
     ]
    },
    {
     "data": {
      "image/png": "[encoded data removed]",
      "text/plain": [
       "<Figure size 432x288 with 1 Axes>"
      ]
     },
     "metadata": {
      "needs_background": "light"
     },
     "output_type": "display_data"
    }
   ],
   "source": [
    "learn.load(model_name + '-stage-1')\n",
    "learn.unfreeze()\n",
    "learn.lr_find(start_lr=1e-10, end_lr=1)\n",
    "learn.recorder.plot()"
   ]
  },
  {
   "cell_type": "code",
   "execution_count": 22,
   "metadata": {},
   "outputs": [
    {
     "name": "stdout",
     "output_type": "stream",
     "text": [
      "Total time: 11:16\n",
      "epoch  train_loss  valid_loss  precision  recall  fbeta  precision  recall  fbeta          \n",
      "1      0.018307    0.018556    0.425888   0.233299  0.247637  0.316053   0.135831  0.150968  (01:07)\n",
      "2      0.018268    0.018570    0.426707   0.238002  0.251917  0.325150   0.141835  0.157243  (01:07)\n",
      "3      0.018046    0.018557    0.432245   0.235765  0.250387  0.320301   0.138601  0.153766  (01:07)\n",
      "4      0.017949    0.018407    0.430928   0.240722  0.254457  0.320592   0.140689  0.155769  (01:07)\n",
      "5      0.018025    0.018460    0.430394   0.236685  0.250548  0.324040   0.140898  0.156242  (01:07)\n",
      "6      0.017675    0.018372    0.426478   0.240831  0.253559  0.316184   0.140120  0.154693  (01:07)\n",
      "7      0.017288    0.018379    0.427632   0.242009  0.254946  0.318570   0.140646  0.155486  (01:07)\n",
      "8      0.017052    0.018452    0.433128   0.236028  0.250478  0.318065   0.139497  0.154414  (01:07)\n",
      "9      0.016947    0.018314    0.432261   0.243759  0.256877  0.322847   0.142232  0.157282  (01:07)\n",
      "10     0.017104    0.018426    0.431713   0.242856  0.256063  0.328273   0.145765  0.161016  (01:07)\n",
      "\n"
     ]
    }
   ],
   "source": [
    "learn.load(model_name + '-stage-1')\n",
    "learn.unfreeze()\n",
    "learn.fit_one_cycle(10, max_lr=slice(1e-6, 3e-5))\n",
    "learn.save(model_name + '-stage-2')"
   ]
  },
  {
   "cell_type": "markdown",
   "metadata": {},
   "source": [
    "### ResNet 50"
   ]
  },
  {
   "cell_type": "code",
   "execution_count": 24,
   "metadata": {},
   "outputs": [
    {
     "name": "stdout",
     "output_type": "stream",
     "text": [
      "Total time: 12:14\n",
      "epoch  train_loss  valid_loss  precision  recall  fbeta  precision  recall  fbeta          \n",
      "1      0.024519    0.023013    0.390311   0.170750  0.189849  0.186645   0.076147  0.085777  (01:44)\n",
      "2      0.022897    0.020939    0.406630   0.187488  0.205503  0.225473   0.092705  0.104265  (01:29)\n",
      "3      0.020693    0.020017    0.435971   0.207433  0.226027  0.296237   0.121009  0.135808  (01:29)\n",
      "4      0.020539    0.019465    0.415127   0.218723  0.233180  0.276132   0.118296  0.131475  (01:29)\n",
      "5      0.019478    0.018810    0.426293   0.224475  0.239062  0.221209   0.096154  0.106731  (01:30)\n",
      "6      0.018822    0.018368    0.426078   0.254043  0.262571  0.347906   0.155243  0.171178  (01:30)\n",
      "7      0.018293    0.018284    0.440913   0.242772  0.256693  0.322274   0.142260  0.157500  (01:30)\n",
      "8      0.017232    0.018329    0.432260   0.248483  0.260105  0.318700   0.143751  0.158401  (01:31)\n",
      "\n"
     ]
    }
   ],
   "source": [
    "arch = models.resnet50\n",
    "model_name = 'audioset_2048_256_128_60db_res50'\n",
    "\n",
    "learn = create_cnn(data, arch, metrics=metrics)\n",
    "learn.fit_one_cycle(8)\n",
    "learn.save(model_name + '-stage-1')"
   ]
  },
  {
   "cell_type": "code",
   "execution_count": 25,
   "metadata": {},
   "outputs": [
    {
     "name": "stdout",
     "output_type": "stream",
     "text": [
      "LR Finder is complete, type {learner_name}.recorder.plot() to see the graph.\n"
     ]
    },
    {
     "data": {
      "image/png": "[encoded data removed]",
      "text/plain": [
       "<Figure size 432x288 with 1 Axes>"
      ]
     },
     "metadata": {
      "needs_background": "light"
     },
     "output_type": "display_data"
    }
   ],
   "source": [
    "learn.load(model_name + '-stage-1')\n",
    "learn.unfreeze()\n",
    "learn.lr_find(start_lr=1e-10, end_lr=1)\n",
    "learn.recorder.plot()"
   ]
  },
  {
   "cell_type": "code",
   "execution_count": 26,
   "metadata": {},
   "outputs": [
    {
     "name": "stdout",
     "output_type": "stream",
     "text": [
      "Total time: 19:27\n",
      "epoch  train_loss  valid_loss  precision  recall  fbeta  precision  recall  fbeta          \n",
      "1      0.017141    0.018147    0.440341   0.251927  0.264183  0.338155   0.149895  0.165779  (01:58)\n",
      "2      0.017531    0.018337    0.437747   0.248215  0.260229  0.314854   0.139958  0.154410  (01:56)\n",
      "3      0.016954    0.018122    0.445036   0.250216  0.263315  0.337666   0.148796  0.164563  (01:57)\n",
      "4      0.017180    0.018152    0.443042   0.255210  0.267465  0.336839   0.149277  0.164771  (01:56)\n",
      "5      0.016842    0.018089    0.442378   0.261363  0.272100  0.352272   0.157120  0.173281  (01:56)\n",
      "6      0.016571    0.018073    0.440942   0.256418  0.268135  0.334350   0.149515  0.164626  (01:56)\n",
      "7      0.016526    0.018112    0.443881   0.251459  0.264441  0.334562   0.148803  0.164064  (01:56)\n",
      "8      0.016355    0.018126    0.438953   0.256619  0.267699  0.309783   0.141354  0.155103  (01:56)\n",
      "9      0.016053    0.018171    0.439753   0.254155  0.265753  0.318380   0.145456  0.159540  (01:56)\n",
      "10     0.015919    0.018157    0.440256   0.253196  0.265135  0.332790   0.151024  0.165854  (01:56)\n",
      "\n"
     ]
    }
   ],
   "source": [
    "learn.load(model_name + '-stage-1')\n",
    "learn.unfreeze()\n",
    "learn.fit_one_cycle(10, max_lr=slice(1e-6, 3e-5))\n",
    "learn.save(model_name + '-stage-2')"
   ]
  },
  {
   "cell_type": "markdown",
   "metadata": {},
   "source": [
    "### ResNet 100"
   ]
  },
  {
   "cell_type": "code",
   "execution_count": 27,
   "metadata": {},
   "outputs": [
    {
     "name": "stdout",
     "output_type": "stream",
     "text": [
      "Total time: 19:06\n",
      "epoch  train_loss  valid_loss  precision  recall  fbeta  precision  recall  fbeta          \n",
      "1      0.024802    0.023130    0.370378   0.164539  0.182444  0.228542   0.091981  0.103750  (02:22)\n",
      "2      0.022139    0.020945    0.386121   0.185274  0.201898  0.211754   0.085759  0.096436  (02:23)\n",
      "3      0.021346    0.019730    0.395580   0.213793  0.226623  0.295392   0.122618  0.137125  (02:23)\n",
      "4      0.019875    0.019247    0.419414   0.214661  0.230649  0.303092   0.125786  0.140598  (02:23)\n",
      "5      0.019577    0.018549    0.443455   0.232522  0.247847  0.338391   0.141226  0.157426  (02:23)\n",
      "6      0.018704    0.018038    0.423997   0.255033  0.263995  0.332831   0.150886  0.165872  (02:23)\n",
      "7      0.017544    0.018023    0.435982   0.252166  0.263288  0.338456   0.152352  0.167584  (02:23)\n",
      "8      0.017076    0.018019    0.433684   0.254077  0.264710  0.331390   0.151061  0.165905  (02:23)\n",
      "\n"
     ]
    }
   ],
   "source": [
    "arch = models.resnet101\n",
    "model_name = 'audioset_2048_256_128_60db_res101'\n",
    "\n",
    "learn = create_cnn(data, arch, metrics=metrics)\n",
    "learn.fit_one_cycle(8)\n",
    "learn.save(model_name + '-stage-1')"
   ]
  },
  {
   "cell_type": "markdown",
   "metadata": {},
   "source": [
    "## STFT Only"
   ]
  },
  {
   "cell_type": "code",
   "execution_count": 9,
   "metadata": {},
   "outputs": [],
   "source": [
    "n_fft = 1024\n",
    "n_hop = 256\n",
    "sr = 22050\n",
    "top_db = 60.0\n",
    "ref = 1.0\n",
    "\n",
    "bs = 16\n",
    "\n",
    "mel_spec_tfm = Compose([\n",
    "    Spectrogram(n_fft=n_fft, n_hop=n_hop),\n",
    "    SpectrumToDb(ref=ref, top_db=top_db, normalized=True)\n",
    "])\n",
    "\n",
    "def inputs_tfm(inputs):\n",
    "    x, y = inputs\n",
    "    # 1d time domain signal to 2d log melspectrogram (frequency domain)\n",
    "    x = mel_spec_tfm(x)\n",
    "    # add channel dimension\n",
    "    x.unsqueeze_(1)    \n",
    "    return x, y\n",
    "\n",
    "tfms = [inputs_tfm]\n",
    "data = (AudioItemList\n",
    "            .from_df(train_df_same, path=AUDIOSET, folder='train', suffix='.wav')\n",
    "            .random_split_by_pct()\n",
    "            .label_from_df()\n",
    "            .databunch(bs=bs, tfms=tfms, equal_lengths=True))"
   ]
  },
  {
   "cell_type": "markdown",
   "metadata": {},
   "source": [
    "### ResNet 18"
   ]
  },
  {
   "cell_type": "code",
   "execution_count": 16,
   "metadata": {},
   "outputs": [],
   "source": [
    "arch = models.resnet18\n",
    "model_name = 'audioset_stft_1024_256_60db_res18'\n",
    "\n",
    "learn = create_cnn(data, arch, metrics=metrics)\n",
    "learn.fit_one_cycle(8)\n",
    "learn.save(model_name + '-stage-1')"
   ]
  },
  {
   "cell_type": "code",
   "execution_count": 17,
   "metadata": {},
   "outputs": [
    {
     "name": "stdout",
     "output_type": "stream",
     "text": [
      "LR Finder is complete, type {learner_name}.recorder.plot() to see the graph.\n"
     ]
    },
    {
     "data": {
      "image/png": "[encoded data removed]",
      "text/plain": [
       "<Figure size 432x288 with 1 Axes>"
      ]
     },
     "metadata": {
      "needs_background": "light"
     },
     "output_type": "display_data"
    }
   ],
   "source": [
    "learn.load(model_name + '-stage-1')\n",
    "learn.unfreeze()\n",
    "learn.lr_find(start_lr=1e-10, end_lr=1)\n",
    "learn.recorder.plot();"
   ]
  },
  {
   "cell_type": "code",
   "execution_count": null,
   "metadata": {},
   "outputs": [],
   "source": [
    "learn.load(model_name + '-stage-1')\n",
    "learn.unfreeze()\n",
    "learn.fit_one_cycle(10, max_lr=slice(1e-6, 3e-5))\n",
    "learn.save(model_name + '-stage-2')"
   ]
  },
  {
   "cell_type": "markdown",
   "metadata": {},
   "source": [
    "### ResNet 34"
   ]
  },
  {
   "cell_type": "code",
   "execution_count": 18,
   "metadata": {},
   "outputs": [
    {
     "name": "stdout",
     "output_type": "stream",
     "text": [
      "Total time: 21:22\n",
      "epoch  train_loss  valid_loss  precision  recall  fbeta  precision  recall  fbeta          \n",
      "1      0.024626    0.022865    0.388468   0.178480  0.196821  0.223887   0.089552  0.100990  (02:41)\n",
      "2      0.021723    0.020409    0.399433   0.184285  0.202991  0.237998   0.096546  0.108791  (02:39)\n",
      "3      0.020882    0.019042    0.405474   0.206446  0.222458  0.272403   0.110446  0.124041  (02:40)\n",
      "4      0.019368    0.018606    0.418180   0.213299  0.229152  0.301620   0.124899  0.139874  (02:40)\n",
      "5      0.018834    0.017862    0.424184   0.235995  0.248813  0.310919   0.134519  0.149079  (02:40)\n",
      "6      0.018402    0.017275    0.430232   0.272475  0.280408  0.351443   0.157316  0.173372  (02:40)\n",
      "7      0.017291    0.017378    0.438370   0.253591  0.265905  0.335628   0.148573  0.164047  (02:40)\n",
      "8      0.016917    0.017173    0.439084   0.266924  0.276868  0.339176   0.151263  0.166805  (02:40)\n",
      "\n"
     ]
    }
   ],
   "source": [
    "arch = models.resnet34\n",
    "model_name = 'audioset_stft_1024_256_60db_res34'\n",
    "\n",
    "learn = create_cnn(data, arch, metrics=metrics)\n",
    "learn.fit_one_cycle(8)\n",
    "learn.save(model_name + '-stage-1')"
   ]
  },
  {
   "cell_type": "code",
   "execution_count": 20,
   "metadata": {},
   "outputs": [
    {
     "name": "stdout",
     "output_type": "stream",
     "text": [
      "LR Finder is complete, type {learner_name}.recorder.plot() to see the graph.\n"
     ]
    },
    {
     "data": {
      "image/png": "[encoded data removed]",
      "text/plain": [
       "<Figure size 432x288 with 1 Axes>"
      ]
     },
     "metadata": {
      "needs_background": "light"
     },
     "output_type": "display_data"
    }
   ],
   "source": [
    "learn.load(model_name + '-stage-1')\n",
    "learn.unfreeze()\n",
    "learn.lr_find(start_lr=1e-10, end_lr=1)\n",
    "learn.recorder.plot();"
   ]
  },
  {
   "cell_type": "code",
   "execution_count": 21,
   "metadata": {},
   "outputs": [
    {
     "data": {
      "text/html": [
       "\n",
       "    <div>\n",
       "        <style>\n",
       "        \t/* Turns off some styling */\n",
       "        \tprogress {\n",
       "\n",
       "            \t/* gets rid of default border in Firefox and Opera. */\n",
       "            \tborder: none;\n",
       "\n",
       "            \t/* Needs to be in here for Safari polyfill so background images work as expected. */\n",
       "            \tbackground-size: auto;\n",
       "            }\n",
       "\n",
       "            .progress-bar-interrupted, .progress-bar-interrupted::-webkit-progress-bar {\n",
       "                background: #F44336;\n",
       "            }\n",
       "        </style>\n",
       "      <progress value='3' class='' max='8', style='width:300px; height:20px; vertical-align: middle;'></progress>\n",
       "      37.50% [3/8 10:25<17:22]\n",
       "    </div>\n",
       "    \n",
       "<table style='width:675px; margin-bottom:10px'>\n",
       "  <tr>\n",
       "    <th>epoch</th>\n",
       "    <th>train_loss</th>\n",
       "    <th>valid_loss</th>\n",
       "    <th>precision</th>\n",
       "    <th>recall</th>\n",
       "    <th>fbeta</th>\n",
       "    <th>precision</th>\n",
       "    <th>recall</th>\n",
       "    <th>fbeta</th>\n",
       "  </tr>\n",
       "  <tr>\n",
       "    <th>1</th>\n",
       "    <th>0.017240</th>\n",
       "    <th>0.017164</th>\n",
       "    <th>0.441986</th>\n",
       "    <th>0.266857</th>\n",
       "    <th>0.276977</th>\n",
       "    <th>0.340650</th>\n",
       "    <th>0.152753</th>\n",
       "    <th>0.168278</th>\n",
       "  </tr>\n",
       "  <tr>\n",
       "    <th>2</th>\n",
       "    <th>0.017356</th>\n",
       "    <th>0.017059</th>\n",
       "    <th>0.441925</th>\n",
       "    <th>0.271931</th>\n",
       "    <th>0.281661</th>\n",
       "    <th>0.337725</th>\n",
       "    <th>0.154928</th>\n",
       "    <th>0.169821</th>\n",
       "  </tr>\n",
       "  <tr>\n",
       "    <th>3</th>\n",
       "    <th>0.016648</th>\n",
       "    <th>0.017028</th>\n",
       "    <th>0.446617</th>\n",
       "    <th>0.268341</th>\n",
       "    <th>0.278582</th>\n",
       "    <th>0.338902</th>\n",
       "    <th>0.153997</th>\n",
       "    <th>0.169344</th>\n",
       "  </tr>\n",
       "  <tr>\n",
       "\n",
       "  </tr>\n",
       "</table>\n",
       "\n",
       "\n",
       "    <div>\n",
       "        <style>\n",
       "        \t/* Turns off some styling */\n",
       "        \tprogress {\n",
       "\n",
       "            \t/* gets rid of default border in Firefox and Opera. */\n",
       "            \tborder: none;\n",
       "\n",
       "            \t/* Needs to be in here for Safari polyfill so background images work as expected. */\n",
       "            \tbackground-size: auto;\n",
       "            }\n",
       "\n",
       "            .progress-bar-interrupted, .progress-bar-interrupted::-webkit-progress-bar {\n",
       "                background: #F44336;\n",
       "            }\n",
       "        </style>\n",
       "      <progress value='0' class='progress-bar-interrupted' max='860', style='width:300px; height:20px; vertical-align: middle;'></progress>\n",
       "      Interrupted\n",
       "    </div>\n",
       "    "
      ],
      "text/plain": [
       "<IPython.core.display.HTML object>"
      ]
     },
     "metadata": {},
     "output_type": "display_data"
    },
    {
     "ename": "KeyboardInterrupt",
     "evalue": "",
     "output_type": "error",
     "traceback": [
      "\u001b[0;31m---------------------------------------------------------------------------\u001b[0m",
      "\u001b[0;31mKeyboardInterrupt\u001b[0m                         Traceback (most recent call last)",
      "\u001b[0;32m<ipython-input-21-d34b77f524e5>\u001b[0m in \u001b[0;36m<module>\u001b[0;34m\u001b[0m\n\u001b[1;32m      1\u001b[0m \u001b[0mlearn\u001b[0m\u001b[0;34m.\u001b[0m\u001b[0mload\u001b[0m\u001b[0;34m(\u001b[0m\u001b[0mmodel_name\u001b[0m \u001b[0;34m+\u001b[0m \u001b[0;34m'-stage-1'\u001b[0m\u001b[0;34m)\u001b[0m\u001b[0;34m\u001b[0m\u001b[0m\n\u001b[1;32m      2\u001b[0m \u001b[0mlearn\u001b[0m\u001b[0;34m.\u001b[0m\u001b[0munfreeze\u001b[0m\u001b[0;34m(\u001b[0m\u001b[0;34m)\u001b[0m\u001b[0;34m\u001b[0m\u001b[0m\n\u001b[0;32m----> 3\u001b[0;31m \u001b[0mlearn\u001b[0m\u001b[0;34m.\u001b[0m\u001b[0mfit_one_cycle\u001b[0m\u001b[0;34m(\u001b[0m\u001b[0;36m8\u001b[0m\u001b[0;34m,\u001b[0m \u001b[0mmax_lr\u001b[0m\u001b[0;34m=\u001b[0m\u001b[0mslice\u001b[0m\u001b[0;34m(\u001b[0m\u001b[0;36m3e-6\u001b[0m\u001b[0;34m,\u001b[0m \u001b[0;36m3e-5\u001b[0m\u001b[0;34m)\u001b[0m\u001b[0;34m)\u001b[0m\u001b[0;34m\u001b[0m\u001b[0m\n\u001b[0m\u001b[1;32m      4\u001b[0m \u001b[0mlearn\u001b[0m\u001b[0;34m.\u001b[0m\u001b[0msave\u001b[0m\u001b[0;34m(\u001b[0m\u001b[0mmodel_name\u001b[0m \u001b[0;34m+\u001b[0m \u001b[0;34m'-stage-2'\u001b[0m\u001b[0;34m)\u001b[0m\u001b[0;34m\u001b[0m\u001b[0m\n",
      "\u001b[0;32m/opt/anaconda3/lib/python3.6/site-packages/fastai/train.py\u001b[0m in \u001b[0;36mfit_one_cycle\u001b[0;34m(learn, cyc_len, max_lr, moms, div_factor, pct_start, wd, callbacks, **kwargs)\u001b[0m\n\u001b[1;32m     18\u001b[0m     callbacks.append(OneCycleScheduler(learn, max_lr, moms=moms, div_factor=div_factor,\n\u001b[1;32m     19\u001b[0m                                         pct_start=pct_start, **kwargs))\n\u001b[0;32m---> 20\u001b[0;31m     \u001b[0mlearn\u001b[0m\u001b[0;34m.\u001b[0m\u001b[0mfit\u001b[0m\u001b[0;34m(\u001b[0m\u001b[0mcyc_len\u001b[0m\u001b[0;34m,\u001b[0m \u001b[0mmax_lr\u001b[0m\u001b[0;34m,\u001b[0m \u001b[0mwd\u001b[0m\u001b[0;34m=\u001b[0m\u001b[0mwd\u001b[0m\u001b[0;34m,\u001b[0m \u001b[0mcallbacks\u001b[0m\u001b[0;34m=\u001b[0m\u001b[0mcallbacks\u001b[0m\u001b[0;34m)\u001b[0m\u001b[0;34m\u001b[0m\u001b[0m\n\u001b[0m\u001b[1;32m     21\u001b[0m \u001b[0;34m\u001b[0m\u001b[0m\n\u001b[1;32m     22\u001b[0m \u001b[0;32mdef\u001b[0m \u001b[0mlr_find\u001b[0m\u001b[0;34m(\u001b[0m\u001b[0mlearn\u001b[0m\u001b[0;34m:\u001b[0m\u001b[0mLearner\u001b[0m\u001b[0;34m,\u001b[0m \u001b[0mstart_lr\u001b[0m\u001b[0;34m:\u001b[0m\u001b[0mFloats\u001b[0m\u001b[0;34m=\u001b[0m\u001b[0;36m1e-7\u001b[0m\u001b[0;34m,\u001b[0m \u001b[0mend_lr\u001b[0m\u001b[0;34m:\u001b[0m\u001b[0mFloats\u001b[0m\u001b[0;34m=\u001b[0m\u001b[0;36m10\u001b[0m\u001b[0;34m,\u001b[0m \u001b[0mnum_it\u001b[0m\u001b[0;34m:\u001b[0m\u001b[0mint\u001b[0m\u001b[0;34m=\u001b[0m\u001b[0;36m100\u001b[0m\u001b[0;34m,\u001b[0m \u001b[0mstop_div\u001b[0m\u001b[0;34m:\u001b[0m\u001b[0mbool\u001b[0m\u001b[0;34m=\u001b[0m\u001b[0;32mTrue\u001b[0m\u001b[0;34m,\u001b[0m \u001b[0;34m**\u001b[0m\u001b[0mkwargs\u001b[0m\u001b[0;34m:\u001b[0m\u001b[0mAny\u001b[0m\u001b[0;34m)\u001b[0m\u001b[0;34m:\u001b[0m\u001b[0;34m\u001b[0m\u001b[0m\n",
      "\u001b[0;32m/opt/anaconda3/lib/python3.6/site-packages/fastai/basic_train.py\u001b[0m in \u001b[0;36mfit\u001b[0;34m(self, epochs, lr, wd, callbacks)\u001b[0m\n\u001b[1;32m    160\u001b[0m         \u001b[0mcallbacks\u001b[0m \u001b[0;34m=\u001b[0m \u001b[0;34m[\u001b[0m\u001b[0mcb\u001b[0m\u001b[0;34m(\u001b[0m\u001b[0mself\u001b[0m\u001b[0;34m)\u001b[0m \u001b[0;32mfor\u001b[0m \u001b[0mcb\u001b[0m \u001b[0;32min\u001b[0m \u001b[0mself\u001b[0m\u001b[0;34m.\u001b[0m\u001b[0mcallback_fns\u001b[0m\u001b[0;34m]\u001b[0m \u001b[0;34m+\u001b[0m \u001b[0mlistify\u001b[0m\u001b[0;34m(\u001b[0m\u001b[0mcallbacks\u001b[0m\u001b[0;34m)\u001b[0m\u001b[0;34m\u001b[0m\u001b[0m\n\u001b[1;32m    161\u001b[0m         fit(epochs, self.model, self.loss_func, opt=self.opt, data=self.data, metrics=self.metrics,\n\u001b[0;32m--> 162\u001b[0;31m             callbacks=self.callbacks+callbacks)\n\u001b[0m\u001b[1;32m    163\u001b[0m \u001b[0;34m\u001b[0m\u001b[0m\n\u001b[1;32m    164\u001b[0m     \u001b[0;32mdef\u001b[0m \u001b[0mcreate_opt\u001b[0m\u001b[0;34m(\u001b[0m\u001b[0mself\u001b[0m\u001b[0;34m,\u001b[0m \u001b[0mlr\u001b[0m\u001b[0;34m:\u001b[0m\u001b[0mFloats\u001b[0m\u001b[0;34m,\u001b[0m \u001b[0mwd\u001b[0m\u001b[0;34m:\u001b[0m\u001b[0mFloats\u001b[0m\u001b[0;34m=\u001b[0m\u001b[0;36m0.\u001b[0m\u001b[0;34m)\u001b[0m\u001b[0;34m->\u001b[0m\u001b[0;32mNone\u001b[0m\u001b[0;34m:\u001b[0m\u001b[0;34m\u001b[0m\u001b[0m\n",
      "\u001b[0;32m/opt/anaconda3/lib/python3.6/site-packages/fastai/basic_train.py\u001b[0m in \u001b[0;36mfit\u001b[0;34m(epochs, model, loss_func, opt, data, callbacks, metrics)\u001b[0m\n\u001b[1;32m     82\u001b[0m             \u001b[0;32mfor\u001b[0m \u001b[0mxb\u001b[0m\u001b[0;34m,\u001b[0m\u001b[0myb\u001b[0m \u001b[0;32min\u001b[0m \u001b[0mprogress_bar\u001b[0m\u001b[0;34m(\u001b[0m\u001b[0mdata\u001b[0m\u001b[0;34m.\u001b[0m\u001b[0mtrain_dl\u001b[0m\u001b[0;34m,\u001b[0m \u001b[0mparent\u001b[0m\u001b[0;34m=\u001b[0m\u001b[0mpbar\u001b[0m\u001b[0;34m)\u001b[0m\u001b[0;34m:\u001b[0m\u001b[0;34m\u001b[0m\u001b[0m\n\u001b[1;32m     83\u001b[0m                 \u001b[0mxb\u001b[0m\u001b[0;34m,\u001b[0m \u001b[0myb\u001b[0m \u001b[0;34m=\u001b[0m \u001b[0mcb_handler\u001b[0m\u001b[0;34m.\u001b[0m\u001b[0mon_batch_begin\u001b[0m\u001b[0;34m(\u001b[0m\u001b[0mxb\u001b[0m\u001b[0;34m,\u001b[0m \u001b[0myb\u001b[0m\u001b[0;34m)\u001b[0m\u001b[0;34m\u001b[0m\u001b[0m\n\u001b[0;32m---> 84\u001b[0;31m                 \u001b[0mloss\u001b[0m \u001b[0;34m=\u001b[0m \u001b[0mloss_batch\u001b[0m\u001b[0;34m(\u001b[0m\u001b[0mmodel\u001b[0m\u001b[0;34m,\u001b[0m \u001b[0mxb\u001b[0m\u001b[0;34m,\u001b[0m \u001b[0myb\u001b[0m\u001b[0;34m,\u001b[0m \u001b[0mloss_func\u001b[0m\u001b[0;34m,\u001b[0m \u001b[0mopt\u001b[0m\u001b[0;34m,\u001b[0m \u001b[0mcb_handler\u001b[0m\u001b[0;34m)\u001b[0m\u001b[0;34m\u001b[0m\u001b[0m\n\u001b[0m\u001b[1;32m     85\u001b[0m                 \u001b[0;32mif\u001b[0m \u001b[0mcb_handler\u001b[0m\u001b[0;34m.\u001b[0m\u001b[0mon_batch_end\u001b[0m\u001b[0;34m(\u001b[0m\u001b[0mloss\u001b[0m\u001b[0;34m)\u001b[0m\u001b[0;34m:\u001b[0m \u001b[0;32mbreak\u001b[0m\u001b[0;34m\u001b[0m\u001b[0m\n\u001b[1;32m     86\u001b[0m \u001b[0;34m\u001b[0m\u001b[0m\n",
      "\u001b[0;32m/opt/anaconda3/lib/python3.6/site-packages/fastai/basic_train.py\u001b[0m in \u001b[0;36mloss_batch\u001b[0;34m(model, xb, yb, loss_func, opt, cb_handler)\u001b[0m\n\u001b[1;32m     26\u001b[0m         \u001b[0mloss\u001b[0m\u001b[0;34m.\u001b[0m\u001b[0mbackward\u001b[0m\u001b[0;34m(\u001b[0m\u001b[0;34m)\u001b[0m\u001b[0;34m\u001b[0m\u001b[0m\n\u001b[1;32m     27\u001b[0m         \u001b[0mcb_handler\u001b[0m\u001b[0;34m.\u001b[0m\u001b[0mon_backward_end\u001b[0m\u001b[0;34m(\u001b[0m\u001b[0;34m)\u001b[0m\u001b[0;34m\u001b[0m\u001b[0m\n\u001b[0;32m---> 28\u001b[0;31m         \u001b[0mopt\u001b[0m\u001b[0;34m.\u001b[0m\u001b[0mstep\u001b[0m\u001b[0;34m(\u001b[0m\u001b[0;34m)\u001b[0m\u001b[0;34m\u001b[0m\u001b[0m\n\u001b[0m\u001b[1;32m     29\u001b[0m         \u001b[0mcb_handler\u001b[0m\u001b[0;34m.\u001b[0m\u001b[0mon_step_end\u001b[0m\u001b[0;34m(\u001b[0m\u001b[0;34m)\u001b[0m\u001b[0;34m\u001b[0m\u001b[0m\n\u001b[1;32m     30\u001b[0m         \u001b[0mopt\u001b[0m\u001b[0;34m.\u001b[0m\u001b[0mzero_grad\u001b[0m\u001b[0;34m(\u001b[0m\u001b[0;34m)\u001b[0m\u001b[0;34m\u001b[0m\u001b[0m\n",
      "\u001b[0;32m/opt/anaconda3/lib/python3.6/site-packages/fastai/callback.py\u001b[0m in \u001b[0;36mstep\u001b[0;34m(self)\u001b[0m\n\u001b[1;32m     38\u001b[0m                     \u001b[0;32mfor\u001b[0m \u001b[0mp\u001b[0m \u001b[0;32min\u001b[0m \u001b[0mpg2\u001b[0m\u001b[0;34m[\u001b[0m\u001b[0;34m'params'\u001b[0m\u001b[0;34m]\u001b[0m\u001b[0;34m:\u001b[0m \u001b[0mp\u001b[0m\u001b[0;34m.\u001b[0m\u001b[0mdata\u001b[0m\u001b[0;34m.\u001b[0m\u001b[0mmul_\u001b[0m\u001b[0;34m(\u001b[0m\u001b[0;36m1\u001b[0m \u001b[0;34m-\u001b[0m \u001b[0mwd\u001b[0m\u001b[0;34m*\u001b[0m\u001b[0mlr\u001b[0m\u001b[0;34m)\u001b[0m\u001b[0;34m\u001b[0m\u001b[0m\n\u001b[1;32m     39\u001b[0m             \u001b[0mself\u001b[0m\u001b[0;34m.\u001b[0m\u001b[0mset_val\u001b[0m\u001b[0;34m(\u001b[0m\u001b[0;34m'weight_decay'\u001b[0m\u001b[0;34m,\u001b[0m \u001b[0mlistify\u001b[0m\u001b[0;34m(\u001b[0m\u001b[0;36m0\u001b[0m\u001b[0;34m,\u001b[0m \u001b[0mself\u001b[0m\u001b[0;34m.\u001b[0m\u001b[0m_wd\u001b[0m\u001b[0;34m)\u001b[0m\u001b[0;34m)\u001b[0m\u001b[0;34m\u001b[0m\u001b[0m\n\u001b[0;32m---> 40\u001b[0;31m         \u001b[0mself\u001b[0m\u001b[0;34m.\u001b[0m\u001b[0mopt\u001b[0m\u001b[0;34m.\u001b[0m\u001b[0mstep\u001b[0m\u001b[0;34m(\u001b[0m\u001b[0;34m)\u001b[0m\u001b[0;34m\u001b[0m\u001b[0m\n\u001b[0m\u001b[1;32m     41\u001b[0m \u001b[0;34m\u001b[0m\u001b[0m\n\u001b[1;32m     42\u001b[0m     \u001b[0;32mdef\u001b[0m \u001b[0mzero_grad\u001b[0m\u001b[0;34m(\u001b[0m\u001b[0mself\u001b[0m\u001b[0;34m)\u001b[0m\u001b[0;34m->\u001b[0m\u001b[0;32mNone\u001b[0m\u001b[0;34m:\u001b[0m\u001b[0;34m\u001b[0m\u001b[0m\n",
      "\u001b[0;32m/opt/anaconda3/lib/python3.6/site-packages/torch/optim/adam.py\u001b[0m in \u001b[0;36mstep\u001b[0;34m(self, closure)\u001b[0m\n\u001b[1;32m     99\u001b[0m                     \u001b[0mdenom\u001b[0m \u001b[0;34m=\u001b[0m \u001b[0mmax_exp_avg_sq\u001b[0m\u001b[0;34m.\u001b[0m\u001b[0msqrt\u001b[0m\u001b[0;34m(\u001b[0m\u001b[0;34m)\u001b[0m\u001b[0;34m.\u001b[0m\u001b[0madd_\u001b[0m\u001b[0;34m(\u001b[0m\u001b[0mgroup\u001b[0m\u001b[0;34m[\u001b[0m\u001b[0;34m'eps'\u001b[0m\u001b[0;34m]\u001b[0m\u001b[0;34m)\u001b[0m\u001b[0;34m\u001b[0m\u001b[0m\n\u001b[1;32m    100\u001b[0m                 \u001b[0;32melse\u001b[0m\u001b[0;34m:\u001b[0m\u001b[0;34m\u001b[0m\u001b[0m\n\u001b[0;32m--> 101\u001b[0;31m                     \u001b[0mdenom\u001b[0m \u001b[0;34m=\u001b[0m \u001b[0mexp_avg_sq\u001b[0m\u001b[0;34m.\u001b[0m\u001b[0msqrt\u001b[0m\u001b[0;34m(\u001b[0m\u001b[0;34m)\u001b[0m\u001b[0;34m.\u001b[0m\u001b[0madd_\u001b[0m\u001b[0;34m(\u001b[0m\u001b[0mgroup\u001b[0m\u001b[0;34m[\u001b[0m\u001b[0;34m'eps'\u001b[0m\u001b[0;34m]\u001b[0m\u001b[0;34m)\u001b[0m\u001b[0;34m\u001b[0m\u001b[0m\n\u001b[0m\u001b[1;32m    102\u001b[0m \u001b[0;34m\u001b[0m\u001b[0m\n\u001b[1;32m    103\u001b[0m                 \u001b[0mbias_correction1\u001b[0m \u001b[0;34m=\u001b[0m \u001b[0;36m1\u001b[0m \u001b[0;34m-\u001b[0m \u001b[0mbeta1\u001b[0m \u001b[0;34m**\u001b[0m \u001b[0mstate\u001b[0m\u001b[0;34m[\u001b[0m\u001b[0;34m'step'\u001b[0m\u001b[0;34m]\u001b[0m\u001b[0;34m\u001b[0m\u001b[0m\n",
      "\u001b[0;31mKeyboardInterrupt\u001b[0m: "
     ]
    }
   ],
   "source": [
    "learn.load(model_name + '-stage-1')\n",
    "learn.unfreeze()\n",
    "learn.fit_one_cycle(8, max_lr=slice(3e-6, 3e-5))\n",
    "learn.save(model_name + '-stage-2')"
   ]
  },
  {
   "cell_type": "markdown",
   "metadata": {},
   "source": [
    "### ResNet 50"
   ]
  },
  {
   "cell_type": "code",
   "execution_count": null,
   "metadata": {},
   "outputs": [],
   "source": [
    "arch = models.resnet50\n",
    "model_name = 'audioset_1024_256_128_60db_res50'\n",
    "\n",
    "learn = create_cnn(data, arch, metrics=metrics)\n",
    "learn.fit_one_cycle(8)\n",
    "learn.save(model_name + '-stage-1')"
   ]
  },
  {
   "cell_type": "code",
   "execution_count": null,
   "metadata": {},
   "outputs": [],
   "source": [
    "learn.load(model_name + '-stage-1')\n",
    "learn.unfreeze()\n",
    "learn.lr_find(start_lr=1e-10, end_lr=1)\n",
    "learn.recorder.plot();"
   ]
  },
  {
   "cell_type": "code",
   "execution_count": null,
   "metadata": {},
   "outputs": [],
   "source": [
    "learn.load(model_name + '-stage-1')\n",
    "learn.unfreeze()\n",
    "learn.fit_one_cycle(10, max_lr=slice(1e-6, 3e-5))\n",
    "learn.save(model_name + '-stage-2')"
   ]
  },
  {
   "cell_type": "markdown",
   "metadata": {},
   "source": [
    "### ResNet 101"
   ]
  },
  {
   "cell_type": "code",
   "execution_count": null,
   "metadata": {},
   "outputs": [],
   "source": [
    "arch = models.resnet101\n",
    "model_name = 'audioset_1024_256_128_60db_res101'\n",
    "\n",
    "learn = create_cnn(data, arch, metrics=metrics)\n",
    "learn.fit_one_cycle(8)\n",
    "learn.save(model_name + '-stage-1')"
   ]
  },
  {
   "cell_type": "code",
   "execution_count": null,
   "metadata": {},
   "outputs": [],
   "source": [
    "learn.load(model_name + '-stage-1')\n",
    "learn.unfreeze()\n",
    "learn.lr_find(start_lr=1e-10, end_lr=1)\n",
    "learn.recorder.plot();"
   ]
  },
  {
   "cell_type": "code",
   "execution_count": null,
   "metadata": {},
   "outputs": [],
   "source": [
    "learn.load(model_name + '-stage-1')\n",
    "learn.unfreeze()\n",
    "learn.fit_one_cycle(10, max_lr=slice(1e-6, 3e-5))\n",
    "learn.save(model_name + '-stage-2')"
   ]
  }
 ],
 "metadata": {
  "kernelspec": {
   "display_name": "Python 3",
   "language": "python",
   "name": "python3"
  },
  "language_info": {
   "codemirror_mode": {
    "name": "ipython",
    "version": 3
   },
   "file_extension": ".py",
   "mimetype": "text/x-python",
   "name": "python",
   "nbconvert_exporter": "python",
   "pygments_lexer": "ipython3",
   "version": "3.6.5"
  }
 },
 "nbformat": 4,
 "nbformat_minor": 2
}
